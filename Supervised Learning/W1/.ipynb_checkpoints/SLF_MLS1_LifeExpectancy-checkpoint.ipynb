{
 "cells": [
  {
   "cell_type": "markdown",
   "metadata": {
    "id": "l9UVOxSmU_om"
   },
   "source": [
    "# Life Expectancy Case Study"
   ]
  },
  {
   "cell_type": "markdown",
   "metadata": {
    "id": "ZX59mdQ7VlIK"
   },
   "source": [
    "## Context \n",
    "    \n",
    "Many studies have been undertaken in the past on factors affecting life expectancy, considering demographic variables, income composition, and mortality rates. It was found that the effect of immunization and human development index was not taken into account in the past studies, and important immunizations like Hepatitis B, Polio, and Diphtheria should also be taken into account. In this case study, we will consider immunization factors, mortality factors, economic factors, social factors, and other health-related factors and use linear regression to see the effect of those factors on Life Expectancy.\n",
    "\n",
    "\n",
    "## Objective\n",
    "To analyze the data and build a linear regression model that can predict the life expectancy of the people of a country.\n",
    "\n",
    "\n",
    "## Key Questions\n",
    "\n",
    "- Does life expectancy have a positive or negative correlation with the different factors (immunization, mortality, socio-economic, etc.) taken into consideration for the countries?\n",
    "- Can we build a linear model to predict life expectancy? If yes, how accurate will the model be?\n",
    "\n",
    "\n",
    "## Data Description\n",
    "\n",
    "The dataset contains immunization factors, mortality factors, economic factors, social factors, and other health-related factors for different countries across different years.\n",
    "\n",
    "**Data Dictionary**\n",
    "\n",
    "- Country: Country\n",
    "- Year: Year\n",
    "- Status: Developed or Developing status\n",
    "- Life expectancy: Life Expectancy in years\n",
    "- Adult Mortality: Adult Mortality Rates of both sexes (probability of dying between 15 and 60 years per 1000 population)\n",
    "- Infant deaths: Number of Infant Deaths per 1000 population\n",
    "- Alcohol: Alcohol, recorded per capita (15+) consumption (in liters of pure alcohol)\n",
    "- percentage expenditure: Expenditure on health as a percentage of Gross Domestic Product per capita(%)\n",
    "- Hepatitis B: Hepatitis B (HepB) immunization coverage among 1-year-olds (%)\n",
    "- Measles: number of reported cases of Measles per 1000 population\n",
    "- BMI: Average Body Mass Index of the entire population\n",
    "- under-five deaths: Number of under-five deaths per 1000 population\n",
    "- Polio: Polio (Pol3) immunization coverage among 1-year-olds (%)\n",
    "- Total expenditure: General government expenditure on health as a percentage of total government expenditure (%)\n",
    "- Diphtheria: Diphtheria tetanus toxoid and pertussis (DTP3) immunization coverage among 1-year-olds (%)\n",
    "- HIV/AIDS: Deaths per 1000 live births due to HIV/AIDS (0-4 years)\n",
    "- GDP: Gross Domestic Product per capita (in USD)\n",
    "- Population: Population of the country\n",
    "- thinness  1-19 years: Prevalence of thinness among children and adolescents for Age 10 to 19 (% )\n",
    "- thinness 5-9 years: Prevalence of thinness among children for Age 5 to 9(%)\n",
    "- Income composition of resources: Human Development Index in terms of income composition of resources (index ranging from 0 to 1)\n",
    "- Schooling: Number of years of schooling"
   ]
  },
  {
   "cell_type": "markdown",
   "metadata": {
    "id": "ztm8i-vTbbj8"
   },
   "source": [
    "## Let's start coding!"
   ]
  },
  {
   "cell_type": "markdown",
   "metadata": {},
   "source": [
    "### Importing necessary libraries"
   ]
  },
  {
   "cell_type": "code",
   "execution_count": 1,
   "metadata": {
    "colab": {
     "base_uri": "https://localhost:8080/",
     "height": 71
    },
    "id": "I1OMxQ78FIOG",
    "outputId": "62c46aa7-39df-4aba-8d66-6cc2d4c0dfe8"
   },
   "outputs": [
    {
     "data": {
      "application/javascript": [
       "\n",
       "            setTimeout(function() {\n",
       "                var nbb_cell_id = 1;\n",
       "                var nbb_unformatted_code = \"# this will help in making the Python code more structured automatically (good coding practice)\\n%load_ext nb_black\\n\\n# Libraries to help with reading and manipulating data\\nimport numpy as np\\nimport pandas as pd\\n\\n# Libraries to help with data visualization\\nimport matplotlib.pyplot as plt\\nimport seaborn as sns\\n\\nsns.set()\\n\\n# split the data into train and test\\nfrom sklearn.model_selection import train_test_split\\n\\n# to build linear regression_model\\nimport statsmodels.api as sm\\n\\n# to check model performance\\nfrom sklearn.metrics import mean_absolute_error, mean_squared_error, r2_score\";\n",
       "                var nbb_formatted_code = \"# this will help in making the Python code more structured automatically (good coding practice)\\n%load_ext nb_black\\n\\n# Libraries to help with reading and manipulating data\\nimport numpy as np\\nimport pandas as pd\\n\\n# Libraries to help with data visualization\\nimport matplotlib.pyplot as plt\\nimport seaborn as sns\\n\\nsns.set()\\n\\n# split the data into train and test\\nfrom sklearn.model_selection import train_test_split\\n\\n# to build linear regression_model\\nimport statsmodels.api as sm\\n\\n# to check model performance\\nfrom sklearn.metrics import mean_absolute_error, mean_squared_error, r2_score\";\n",
       "                var nbb_cells = Jupyter.notebook.get_cells();\n",
       "                for (var i = 0; i < nbb_cells.length; ++i) {\n",
       "                    if (nbb_cells[i].input_prompt_number == nbb_cell_id) {\n",
       "                        if (nbb_cells[i].get_text() == nbb_unformatted_code) {\n",
       "                             nbb_cells[i].set_text(nbb_formatted_code);\n",
       "                        }\n",
       "                        break;\n",
       "                    }\n",
       "                }\n",
       "            }, 500);\n",
       "            "
      ],
      "text/plain": [
       "<IPython.core.display.Javascript object>"
      ]
     },
     "metadata": {},
     "output_type": "display_data"
    }
   ],
   "source": [
    "# this will help in making the Python code more structured automatically (good coding practice)\n",
    "%load_ext nb_black\n",
    "\n",
    "# Libraries to help with reading and manipulating data\n",
    "import numpy as np\n",
    "import pandas as pd\n",
    "\n",
    "# Libraries to help with data visualization\n",
    "import matplotlib.pyplot as plt\n",
    "import seaborn as sns\n",
    "\n",
    "sns.set()\n",
    "\n",
    "# split the data into train and test\n",
    "from sklearn.model_selection import train_test_split\n",
    "\n",
    "# to build linear regression_model\n",
    "import statsmodels.api as sm\n",
    "\n",
    "# to check model performance\n",
    "from sklearn.metrics import mean_absolute_error, mean_squared_error, r2_score"
   ]
  },
  {
   "cell_type": "code",
   "execution_count": null,
   "metadata": {
    "colab": {
     "base_uri": "https://localhost:8080/",
     "height": 71
    },
    "id": "I1OMxQ78FIOG",
    "outputId": "62c46aa7-39df-4aba-8d66-6cc2d4c0dfe8"
   },
   "outputs": [
    {
     "data": {
      "application/javascript": [
       "\n",
       "            setTimeout(function() {\n",
       "                var nbb_cell_id = 2;\n",
       "                var nbb_unformatted_code = \"#!pip install nb_black\";\n",
       "                var nbb_formatted_code = \"#!pip install nb_black\";\n",
       "                var nbb_cells = Jupyter.notebook.get_cells();\n",
       "                for (var i = 0; i < nbb_cells.length; ++i) {\n",
       "                    if (nbb_cells[i].input_prompt_number == nbb_cell_id) {\n",
       "                        if (nbb_cells[i].get_text() == nbb_unformatted_code) {\n",
       "                             nbb_cells[i].set_text(nbb_formatted_code);\n",
       "                        }\n",
       "                        break;\n",
       "                    }\n",
       "                }\n",
       "            }, 500);\n",
       "            "
      ],
      "text/plain": [
       "<IPython.core.display.Javascript object>"
      ]
     },
     "metadata": {},
     "output_type": "display_data"
    }
   ],
   "source": [
    "#!pip install nb_black"
   ]
  },
  {
   "cell_type": "code",
   "execution_count": null,
   "metadata": {
    "id": "s1w7UuCkFTtD",
    "outputId": "22d8d542-867c-4076-8f12-a4208975b05e"
   },
   "outputs": [],
   "source": [
    "# loading the dataset\n",
    "data = pd.read_csv(\"Life Expectancy Data.csv\")"
   ]
  },
  {
   "cell_type": "markdown",
   "metadata": {},
   "source": [
    "### Data Overview"
   ]
  },
  {
   "cell_type": "code",
   "execution_count": null,
   "metadata": {
    "colab": {
     "base_uri": "https://localhost:8080/",
     "height": 275
    },
    "id": "eTZBaF-mFYo3",
    "outputId": "0d499e61-bd4d-4beb-f873-942148e5671c"
   },
   "outputs": [],
   "source": [
    "data.head()"
   ]
  },
  {
   "cell_type": "markdown",
   "metadata": {
    "id": "zPrKWMblX7Pt"
   },
   "source": [
    "**Observations**\n",
    "\n",
    "- The first five rows show data for Afghanistan across 5 different years.\n",
    "- The life expectancy varies from 59.2 to 65 years.\n",
    "- The *Status* column seems to have text values, which will have to be converted to numerics for modeling purposes."
   ]
  },
  {
   "cell_type": "code",
   "execution_count": null,
   "metadata": {
    "colab": {
     "base_uri": "https://localhost:8080/",
     "height": 34
    },
    "id": "5ZUbpN-BFXme",
    "outputId": "1a3d833d-7724-4287-c91c-e92fe98eb00b"
   },
   "outputs": [],
   "source": [
    "# check number of rows and columns\n",
    "data.shape"
   ]
  },
  {
   "cell_type": "code",
   "execution_count": null,
   "metadata": {
    "colab": {
     "base_uri": "https://localhost:8080/",
     "height": 119
    },
    "id": "tvv72L7HF-Hf",
    "outputId": "3c25091d-e3d4-4b9c-8bd3-20ad12546cda"
   },
   "outputs": [],
   "source": [
    "# take a look at the column names\n",
    "data.columns"
   ]
  },
  {
   "cell_type": "code",
   "execution_count": null,
   "metadata": {
    "colab": {
     "base_uri": "https://localhost:8080/",
     "height": 510
    },
    "id": "SCmj9LyLFZ_W",
    "outputId": "66e81519-c35f-4509-f9f2-4844ed3fad32"
   },
   "outputs": [],
   "source": [
    "# checking column datatypes and number of non-null values\n",
    "data.info()"
   ]
  },
  {
   "cell_type": "markdown",
   "metadata": {
    "id": "0hjxsQxkZvz8"
   },
   "source": [
    "**Observations**\n",
    "\n",
    "- Most of the columns in the data are numeric in nature (integer or float).\n",
    "- `Country` and `Status` columns are of *object* type, which means they have text values.\n",
    "- Some columns seem to have null (or missing) values too."
   ]
  },
  {
   "cell_type": "code",
   "execution_count": null,
   "metadata": {},
   "outputs": [],
   "source": [
    "# Let's look at the statistical summary of the data\n",
    "data.describe(include=\"all\").T"
   ]
  },
  {
   "cell_type": "markdown",
   "metadata": {},
   "source": [
    "**Observations**\n",
    "\n",
    "- There are 193 countries in the dataset.\n",
    "- Most of the countries in the dataset are developing countries.\n",
    "- The average life expectancy is ~69 years."
   ]
  },
  {
   "cell_type": "markdown",
   "metadata": {
    "id": "wYF-RsrNqH0E"
   },
   "source": [
    "**Let's fix the missing values.**\n",
    "\n",
    "- For the target variable (`Life expectancy`), we will drop the missing values.\n",
    "- For the predictor variables, we will replace the missing values in each column with its median."
   ]
  },
  {
   "cell_type": "code",
   "execution_count": null,
   "metadata": {},
   "outputs": [],
   "source": [
    "# we first create a copy of the original data to avoid changes to it\n",
    "df = data.copy()"
   ]
  },
  {
   "cell_type": "code",
   "execution_count": null,
   "metadata": {},
   "outputs": [],
   "source": [
    "# dropping missing values in the target\n",
    "df.dropna(subset=[\"Life expectancy\"], inplace=True)"
   ]
  },
  {
   "cell_type": "code",
   "execution_count": null,
   "metadata": {
    "id": "yezNtp2vHYr_"
   },
   "outputs": [],
   "source": [
    "# filling missing values using the column median for the predictor variables\n",
    "medianFiller = lambda x: x.fillna(x.median())\n",
    "numeric_columns = df.select_dtypes(include=np.number).columns.tolist()\n",
    "df[numeric_columns] = df[numeric_columns].apply(medianFiller, axis=0)"
   ]
  },
  {
   "cell_type": "code",
   "execution_count": null,
   "metadata": {
    "colab": {
     "base_uri": "https://localhost:8080/",
     "height": 408
    },
    "id": "vfN3qOpTFdg_",
    "outputId": "ab4c7804-0b1f-47ad-81b7-82e2b6053cfd"
   },
   "outputs": [],
   "source": [
    "# checking the number of missing values\n",
    "df.isnull().sum()"
   ]
  },
  {
   "cell_type": "markdown",
   "metadata": {},
   "source": [
    "- All the missing values have been treated."
   ]
  },
  {
   "cell_type": "code",
   "execution_count": null,
   "metadata": {
    "colab": {
     "base_uri": "https://localhost:8080/",
     "height": 408
    },
    "id": "vfN3qOpTFdg_",
    "outputId": "ab4c7804-0b1f-47ad-81b7-82e2b6053cfd"
   },
   "outputs": [],
   "source": [
    "# check the number of unique values in each column of the dataframe\n",
    "df.nunique()"
   ]
  },
  {
   "cell_type": "markdown",
   "metadata": {
    "id": "rO_scYvgbb7M"
   },
   "source": [
    "**Observations**\n",
    "\n",
    "- The *Status* column has 2 unique values - \"*Developing*\" and \"*Developed*\"\n",
    "- The *Country* column has 183 unique values, i.e., the data is collected from 183 countries.\n",
    "\n",
    "**We know that the datatype of two columns (`Status` and `Country`) is object. So, we need to convert them to categorical type for further processing in the next steps.**"
   ]
  },
  {
   "cell_type": "markdown",
   "metadata": {
    "id": "JZcZuUF_cYdX"
   },
   "source": [
    "**Before we further process the data, let's take a look at the graphical visualization of the data to understand it in a better way.**"
   ]
  },
  {
   "cell_type": "markdown",
   "metadata": {
    "id": "TeuhzPWVbtGq"
   },
   "source": [
    "## EDA"
   ]
  },
  {
   "cell_type": "markdown",
   "metadata": {
    "id": "9hahgR-7qH0c"
   },
   "source": [
    "### Univariate analysis"
   ]
  },
  {
   "cell_type": "code",
   "execution_count": null,
   "metadata": {
    "id": "rpigdSTiqH0d",
    "outputId": "dbb7fdab-7af6-4ddf-cb63-c25cc06e60b0"
   },
   "outputs": [],
   "source": [
    "# function to plot a boxplot and a histogram along the same scale.\n",
    "\n",
    "\n",
    "def histogram_boxplot(data, feature, figsize=(12, 7), kde=False, bins=None):\n",
    "    \"\"\"\n",
    "    Boxplot and histogram combined\n",
    "\n",
    "    data: dataframe\n",
    "    feature: dataframe column\n",
    "    figsize: size of figure (default (12,7))\n",
    "    kde: whether to the show density curve (default False)\n",
    "    bins: number of bins for histogram (default None)\n",
    "    \"\"\"\n",
    "    f2, (ax_box2, ax_hist2) = plt.subplots(\n",
    "        nrows=2,  # Number of rows of the subplot grid= 2\n",
    "        sharex=True,  # x-axis will be shared among all subplots\n",
    "        gridspec_kw={\"height_ratios\": (0.25, 0.75)},\n",
    "        figsize=figsize,\n",
    "    )  # creating the 2 subplots\n",
    "    sns.boxplot(\n",
    "        data=data, x=feature, ax=ax_box2, showmeans=True, color=\"violet\"\n",
    "    )  # boxplot will be created and a star will indicate the mean value of the column\n",
    "    sns.histplot(\n",
    "        data=data, x=feature, kde=kde, ax=ax_hist2, bins=bins, palette=\"winter\"\n",
    "    ) if bins else sns.histplot(\n",
    "        data=data, x=feature, kde=kde, ax=ax_hist2\n",
    "    )  # For histogram\n",
    "    ax_hist2.axvline(\n",
    "        data[feature].mean(), color=\"green\", linestyle=\"--\"\n",
    "    )  # Add mean to the histogram\n",
    "    ax_hist2.axvline(\n",
    "        data[feature].median(), color=\"black\", linestyle=\"-\"\n",
    "    )  # Add median to the histogram"
   ]
  },
  {
   "cell_type": "markdown",
   "metadata": {
    "id": "F-ZgoSJpqH0h"
   },
   "source": [
    "**Let's explore the dependent variable *Life expectancy***"
   ]
  },
  {
   "cell_type": "code",
   "execution_count": null,
   "metadata": {
    "id": "-BIzl2GUqH0p",
    "outputId": "bde836d2-beae-46ef-ea21-6371535c54fe"
   },
   "outputs": [],
   "source": [
    "histogram_boxplot(df, \"Life expectancy\")"
   ]
  },
  {
   "cell_type": "markdown",
   "metadata": {
    "id": "8ryjWu4PqH0v"
   },
   "source": [
    "**Observations**\n",
    "\n",
    "- `Life expectancy` is left-skewed, which means some countries have life expectancy less than 45 years.\n",
    "- Mean life expectancy is around 72 years."
   ]
  },
  {
   "cell_type": "markdown",
   "metadata": {
    "id": "eill0XvgqH0x"
   },
   "source": [
    "**Let's explore per capita alcohol consumption**"
   ]
  },
  {
   "cell_type": "code",
   "execution_count": null,
   "metadata": {
    "id": "MEU3QuRTqH0y",
    "outputId": "dbcd4522-6045-4fb6-a87d-5a29d05913e1"
   },
   "outputs": [],
   "source": [
    "histogram_boxplot(df, \"Alcohol\")"
   ]
  },
  {
   "cell_type": "markdown",
   "metadata": {
    "id": "3ZmGU_bIqH06"
   },
   "source": [
    "**Observations**\n",
    "\n",
    "* The median alcohol consumption is 3.75 litres.\n",
    "* There are some outliers where average alcohol consumption is more than 15 litres.\n",
    "* The distribution is right-skewed."
   ]
  },
  {
   "cell_type": "markdown",
   "metadata": {
    "id": "eill0XvgqH0x"
   },
   "source": [
    "**Let's explore GDP**"
   ]
  },
  {
   "cell_type": "code",
   "execution_count": null,
   "metadata": {
    "id": "MEU3QuRTqH0y",
    "outputId": "dbcd4522-6045-4fb6-a87d-5a29d05913e1"
   },
   "outputs": [],
   "source": [
    "histogram_boxplot(df, \"GDP\")"
   ]
  },
  {
   "cell_type": "markdown",
   "metadata": {
    "id": "3ZmGU_bIqH06"
   },
   "source": [
    "**Observations**\n",
    "\n",
    "* The distribution of GDP is heavily skewed to the right.\n",
    "* The outliers to the right indicate that many countries have a very high GDP."
   ]
  },
  {
   "cell_type": "code",
   "execution_count": null,
   "metadata": {},
   "outputs": [],
   "source": [
    "# function to create labeled barplots\n",
    "\n",
    "\n",
    "def labeled_barplot(data, feature, perc=False, n=None):\n",
    "    \"\"\"\n",
    "    Barplot with percentage at the top\n",
    "\n",
    "    data: dataframe\n",
    "    feature: dataframe column\n",
    "    perc: whether to display percentages instead of count (default is False)\n",
    "    n: displays the top n category levels (default is None, i.e., display all levels)\n",
    "    \"\"\"\n",
    "\n",
    "    total = len(data[feature])  # length of the column\n",
    "    count = data[feature].nunique()\n",
    "    if n is None:\n",
    "        plt.figure(figsize=(count + 1, 5))\n",
    "    else:\n",
    "        plt.figure(figsize=(n + 1, 5))\n",
    "\n",
    "    plt.xticks(rotation=90, fontsize=15)\n",
    "    ax = sns.countplot(\n",
    "        data=data,\n",
    "        x=feature,\n",
    "        palette=\"Paired\",\n",
    "        order=data[feature].value_counts().index[:n].sort_values(),\n",
    "    )\n",
    "\n",
    "    for p in ax.patches:\n",
    "        if perc == True:\n",
    "            label = \"{:.1f}%\".format(\n",
    "                100 * p.get_height() / total\n",
    "            )  # percentage of each class of the category\n",
    "        else:\n",
    "            label = p.get_height()  # count of each level of the category\n",
    "\n",
    "        x = p.get_x() + p.get_width() / 2  # width of the plot\n",
    "        y = p.get_height()  # height of the plot\n",
    "\n",
    "        ax.annotate(\n",
    "            label,\n",
    "            (x, y),\n",
    "            ha=\"center\",\n",
    "            va=\"center\",\n",
    "            size=12,\n",
    "            xytext=(0, 5),\n",
    "            textcoords=\"offset points\",\n",
    "        )  # annotate the percentage\n",
    "\n",
    "    plt.show()  # show the plot"
   ]
  },
  {
   "cell_type": "code",
   "execution_count": null,
   "metadata": {},
   "outputs": [],
   "source": [
    "labeled_barplot(df, \"Status\", perc=True)"
   ]
  },
  {
   "cell_type": "markdown",
   "metadata": {},
   "source": [
    "- More than 80% of the countries in the data are developing countries."
   ]
  },
  {
   "cell_type": "markdown",
   "metadata": {
    "id": "O32ykz2qqH1E"
   },
   "source": [
    "### Bivariate Analysis"
   ]
  },
  {
   "cell_type": "markdown",
   "metadata": {
    "id": "SPAtdDVPqH1f"
   },
   "source": [
    "**Let's look at correlations.**"
   ]
  },
  {
   "cell_type": "code",
   "execution_count": null,
   "metadata": {
    "colab": {
     "base_uri": "https://localhost:8080/",
     "height": 374
    },
    "id": "UdoEGuzNFy5H",
    "outputId": "e53df757-8985-4b2b-ea3a-3a17bed8777f"
   },
   "outputs": [],
   "source": [
    "# correlation of all attributes with life expectancy\n",
    "df[df.columns[:]].corr()[\"Life expectancy\"][:]"
   ]
  },
  {
   "cell_type": "code",
   "execution_count": null,
   "metadata": {
    "id": "LmjTu-ozqH1g",
    "outputId": "dd17e648-aee7-472a-acde-5b14c06e69f6"
   },
   "outputs": [],
   "source": [
    "numeric_columns = data.select_dtypes(include=np.number).columns.tolist()\n",
    "numeric_columns.remove(\"Year\")  # dropping year column as it is temporal variable\n",
    "\n",
    "# correlation heatmap\n",
    "plt.figure(figsize=(15, 7))\n",
    "sns.heatmap(\n",
    "    df[numeric_columns].corr(),\n",
    "    annot=True,\n",
    "    vmin=-1,\n",
    "    vmax=1,\n",
    "    fmt=\".2f\",\n",
    "    cmap=\"Spectral\",\n",
    ")\n",
    "plt.show()"
   ]
  },
  {
   "cell_type": "markdown",
   "metadata": {
    "id": "Kmt2DS6iqH1k"
   },
   "source": [
    "**Observations**\n",
    "\n",
    "* `Life expectancy` is highly negatively correlated with `Adult Mortality` and `HIV/AIDs`, which means that as adult mortality and HIV death (0-4 years) increases, life expectancy tends to decrease.\n",
    "\n",
    "* `Life expectancy` is highly positively correlated with `Schooling` and `Income composition of resources`, which means that as schooling years of citizens in a country and income composition of resources increases, life expectancy tends to increase."
   ]
  },
  {
   "cell_type": "markdown",
   "metadata": {
    "id": "EXeqlRxzqH1l"
   },
   "source": [
    "**Let's look at the graphs of a few variables that are highly correlated with `Life expectancy`.**"
   ]
  },
  {
   "cell_type": "markdown",
   "metadata": {
    "id": "P2JNbl0vqH1l"
   },
   "source": [
    "**`Life expectancy` vs `HIV/AIDS` vs `Status`**"
   ]
  },
  {
   "cell_type": "code",
   "execution_count": null,
   "metadata": {
    "id": "-eso8XKuqH1m",
    "outputId": "296b095c-d7cb-419e-a95d-769a31750150"
   },
   "outputs": [],
   "source": [
    "plt.figure(figsize=(10, 7))\n",
    "sns.scatterplot(y=\"Life expectancy\", x=\"HIV/AIDS\", hue=\"Status\", data=df)\n",
    "plt.show()"
   ]
  },
  {
   "cell_type": "markdown",
   "metadata": {
    "id": "uQe-C33TqH1y"
   },
   "source": [
    "* Developed countries have very low cases of HIV/AIDS."
   ]
  },
  {
   "cell_type": "markdown",
   "metadata": {
    "id": "6jhpZ5fQqH2e"
   },
   "source": [
    "**`Life expectancy` vs `Schooling` vs `Status`**"
   ]
  },
  {
   "cell_type": "code",
   "execution_count": null,
   "metadata": {
    "id": "GrxzOkw6qH2f",
    "outputId": "2bb5d9b5-9221-4f19-8734-21522e598670"
   },
   "outputs": [],
   "source": [
    "plt.figure(figsize=(10, 7))\n",
    "sns.scatterplot(y=\"Life expectancy\", x=\"Schooling\", hue=\"Status\", data=df)\n",
    "plt.show()"
   ]
  },
  {
   "cell_type": "markdown",
   "metadata": {
    "id": "PeTiK7M4qH2l"
   },
   "source": [
    "**Observations**\n",
    "\n",
    "* Majority of the developed countries have schooling of more than 13 years.\n",
    "* Developing countries have a higher variance in schooling years."
   ]
  },
  {
   "cell_type": "markdown",
   "metadata": {
    "id": "sr-IUI-DqH3L"
   },
   "source": [
    "**Let's check the variation in life expectancy across years.**"
   ]
  },
  {
   "cell_type": "code",
   "execution_count": null,
   "metadata": {
    "id": "ytMX83JvlJIJ",
    "outputId": "915cb38c-0ddc-4246-9239-7a3cabf08b60",
    "scrolled": false
   },
   "outputs": [],
   "source": [
    "# average life expectancy over the years\n",
    "plt.figure(figsize=(15, 7))\n",
    "sns.lineplot(x=\"Year\", y=\"Life expectancy\", data=df, ci=None)\n",
    "plt.show()"
   ]
  },
  {
   "cell_type": "markdown",
   "metadata": {
    "id": "yw1a1NWpqH3S"
   },
   "source": [
    "* Overall life expectancy of the world population is increasing over the years."
   ]
  },
  {
   "cell_type": "markdown",
   "metadata": {
    "id": "NtxYBknWqH1F"
   },
   "source": [
    "### Column binning\n",
    "\n",
    "- Let's group all countries into continents to avoid having too many dummy variables while modeling."
   ]
  },
  {
   "cell_type": "code",
   "execution_count": null,
   "metadata": {},
   "outputs": [],
   "source": [
    "# Installing library to group countries into continents\n",
    "# Please uncomment the next line and run the cell to install the library\n",
    "\n",
    "#!pip install pycountry-convert"
   ]
  },
  {
   "cell_type": "code",
   "execution_count": null,
   "metadata": {
    "id": "NIxUJPFvqH1G"
   },
   "outputs": [],
   "source": [
    "# Let's group coutries into continents\n",
    "import pycountry_convert as pc\n",
    "\n",
    "\n",
    "def country_to_continent(country_name):\n",
    "    \"\"\"\n",
    "    country_name : name of country for which continent is needed\n",
    "    \"\"\"\n",
    "    if \"(\" in country_name:\n",
    "        country_name = country_name.split(\" \")[0]\n",
    "    country_alpha2 = pc.country_name_to_country_alpha2(country_name)\n",
    "    country_continent_code = pc.country_alpha2_to_continent_code(country_alpha2)\n",
    "    country_continent_name = pc.convert_continent_code_to_continent_name(\n",
    "        country_continent_code\n",
    "    )\n",
    "    return country_continent_name"
   ]
  },
  {
   "cell_type": "code",
   "execution_count": null,
   "metadata": {
    "id": "G09Ff-WBqH1K",
    "outputId": "5caf6ff4-b043-40c0-c6fe-541e11469c73"
   },
   "outputs": [],
   "source": [
    "df.Country.apply(country_to_continent)"
   ]
  },
  {
   "cell_type": "markdown",
   "metadata": {
    "id": "uhBj6LBXqH1O"
   },
   "source": [
    "* Above error is arising because names of the countries are different from what the library has. \n",
    "* In order to resolve this, we looked at all country names that caused this error and hard-coded them as shown below."
   ]
  },
  {
   "cell_type": "code",
   "execution_count": null,
   "metadata": {
    "id": "RqB0pRtjqH1Q"
   },
   "outputs": [],
   "source": [
    "loc = df.Country.tolist()\n",
    "continent = dict()\n",
    "\n",
    "# hard-coding the continent names of those countries which were giving error with country_to_continent function\n",
    "for cn in loc:\n",
    "    if cn == \"Republic of Korea\":\n",
    "        continent[cn] = \"Asia\"\n",
    "    elif cn == \"The former Yugoslav republic of Macedonia\":\n",
    "        continent[cn] = \"Europe\"\n",
    "    elif cn == \"Timor-Leste\":\n",
    "        continent[cn] = \"Asia\"\n",
    "    else:\n",
    "        continent[cn] = country_to_continent(cn)"
   ]
  },
  {
   "cell_type": "code",
   "execution_count": null,
   "metadata": {
    "id": "kTrJiOzxqH1X"
   },
   "outputs": [],
   "source": [
    "# mapping every country to its continent\n",
    "df[\"Continent\"] = df[\"Country\"].map(continent)"
   ]
  },
  {
   "cell_type": "code",
   "execution_count": null,
   "metadata": {
    "id": "PZSl3dbcqH1b",
    "outputId": "6212c926-0de2-4e83-e3ae-68f254f397c0"
   },
   "outputs": [],
   "source": [
    "# let us look at unique continents\n",
    "print(df[\"Country\"].map(continent).unique())"
   ]
  },
  {
   "cell_type": "code",
   "execution_count": null,
   "metadata": {},
   "outputs": [],
   "source": [
    "labeled_barplot(df, \"Continent\", perc=True)"
   ]
  },
  {
   "cell_type": "markdown",
   "metadata": {},
   "source": [
    "**Observations**\n",
    "\n",
    "- More than 75% of the data points are from Africa, Asia, and Europe.\n",
    "- Oceania accounts for only 5.5% of the data points."
   ]
  },
  {
   "cell_type": "markdown",
   "metadata": {
    "id": "ew7Gw_RBqH10"
   },
   "source": [
    "**`Life expectancy` vs `Adult Mortality` vs `Continent`**"
   ]
  },
  {
   "cell_type": "code",
   "execution_count": null,
   "metadata": {
    "id": "-PunK0P-qH11",
    "outputId": "58be1480-5e6a-4741-f57f-a56012ceaafe"
   },
   "outputs": [],
   "source": [
    "plt.figure(figsize=(10, 7))\n",
    "sns.scatterplot(y=\"Life expectancy\", x=\"Adult Mortality\", hue=\"Continent\", data=df)\n",
    "plt.show()"
   ]
  },
  {
   "cell_type": "markdown",
   "metadata": {
    "id": "Kptf5mi7qH2V"
   },
   "source": [
    "* Many European countries have had life expectancy higher than 80 years for some years.\n",
    "* Most of the African countries have higher adult mortality and life expectancy lower than 65 years."
   ]
  },
  {
   "cell_type": "markdown",
   "metadata": {
    "id": "gzeetTJqqH4O"
   },
   "source": [
    "**Median `Life expectancy` by `Country` and `Status`**"
   ]
  },
  {
   "cell_type": "code",
   "execution_count": null,
   "metadata": {
    "id": "SF8SiAtEqH4P",
    "outputId": "bd4ecca3-5ce4-46ab-f609-ccebab8baa1a"
   },
   "outputs": [],
   "source": [
    "df_hm = df.pivot_table(\n",
    "    index=\"Continent\", columns=\"Status\", values=\"Life expectancy\", aggfunc=np.median\n",
    ")\n",
    "\n",
    "# Draw a heatmap\n",
    "f, ax = plt.subplots(figsize=(10, 7))\n",
    "sns.heatmap(df_hm, cmap=\"Spectral\", linewidths=0.5, annot=True, ax=ax)\n",
    "plt.show()"
   ]
  },
  {
   "cell_type": "markdown",
   "metadata": {
    "id": "LNHi51U7fnUb"
   },
   "source": [
    "- Developed countries from Asia have the highest life expectancy."
   ]
  },
  {
   "cell_type": "markdown",
   "metadata": {},
   "source": [
    "**Let's convert the *object* type columns to *category* type**"
   ]
  },
  {
   "cell_type": "code",
   "execution_count": null,
   "metadata": {
    "id": "h6h_oeEmqH4q"
   },
   "outputs": [],
   "source": [
    "df[\"Country\"] = df[\"Country\"].astype(\"category\")\n",
    "df[\"Status\"] = df[\"Status\"].astype(\"category\")\n",
    "df[\"Continent\"] = df[\"Continent\"].astype(\"category\")"
   ]
  },
  {
   "cell_type": "markdown",
   "metadata": {
    "id": "1THqC335b4Yi"
   },
   "source": [
    "## Linear Model Building\n",
    "\n",
    "1. We want to predict the life expectancy.\n",
    "\n",
    "2. Before we proceed to build a model, we'll have to encode categorical features.\n",
    "\n",
    "3. We'll split the data into train and test to be able to evaluate the model that we build on the train data.\n",
    "\n",
    "4. We will build a Linear Regression model using the train data and then check it's performance."
   ]
  },
  {
   "cell_type": "code",
   "execution_count": null,
   "metadata": {
    "colab": {
     "base_uri": "https://localhost:8080/",
     "height": 255
    },
    "id": "372WHRhJGpj4",
    "outputId": "fbd1611b-c8c2-43e1-99b9-199c114b4790"
   },
   "outputs": [],
   "source": [
    "# defining X and y variables\n",
    "X = df.drop([\"Life expectancy\", \"Country\"], axis=1)\n",
    "y = df[\"Life expectancy\"]\n",
    "\n",
    "print(X.head())\n",
    "print(y.head())"
   ]
  },
  {
   "cell_type": "code",
   "execution_count": null,
   "metadata": {},
   "outputs": [],
   "source": [
    "# let's add the intercept to data\n",
    "X = sm.add_constant(X)"
   ]
  },
  {
   "cell_type": "code",
   "execution_count": null,
   "metadata": {
    "colab": {
     "base_uri": "https://localhost:8080/",
     "height": 304
    },
    "id": "AHEOjrb8N-4b",
    "outputId": "07f1185c-cfd8-4d8b-96d4-a614db1b07c0"
   },
   "outputs": [],
   "source": [
    "X = pd.get_dummies(\n",
    "    X,\n",
    "    columns=X.select_dtypes(include=[\"object\", \"category\"]).columns.tolist(),\n",
    "    drop_first=True,\n",
    ")\n",
    "X.head()"
   ]
  },
  {
   "cell_type": "code",
   "execution_count": null,
   "metadata": {
    "id": "CBXfTtAPGoaF",
    "outputId": "b8ab8d8e-5509-4c90-e946-809c5e264d82"
   },
   "outputs": [],
   "source": [
    "# splitting the data in 70:30 ratio for train to test data\n",
    "\n",
    "x_train, x_test, y_train, y_test = train_test_split(X, y, test_size=0.3, random_state=1)"
   ]
  },
  {
   "cell_type": "code",
   "execution_count": null,
   "metadata": {},
   "outputs": [],
   "source": [
    "print(\"Number of rows in train data =\", x_train.shape[0])\n",
    "print(\"Number of rows in test data =\", x_test.shape[0])"
   ]
  },
  {
   "cell_type": "code",
   "execution_count": null,
   "metadata": {
    "colab": {
     "base_uri": "https://localhost:8080/",
     "height": 1000
    },
    "id": "AQ_s8bVsH3hu",
    "outputId": "2f78d96f-2da4-4ad5-c3ba-fbd48b8406a2",
    "scrolled": false
   },
   "outputs": [],
   "source": [
    "olsmodel = sm.OLS(y_train, x_train).fit()\n",
    "print(olsmodel.summary())"
   ]
  },
  {
   "cell_type": "markdown",
   "metadata": {
    "id": "H4_Ws9_60WRG"
   },
   "source": [
    "### Interpreting the Regression Results:\n",
    "\n",
    "1. **Adjusted. R-squared**: It reflects the fit of the model.\n",
    "    - Adjusted R-squared values generally range from 0 to 1, where a higher value generally indicates a better fit, assuming certain conditions are met.\n",
    "    - In our case, the value for adj. R-squared is **0.845**, which is good!\n",
    "\n",
    "\n",
    "2. ***const* coefficient**: It is the Y-intercept.\n",
    "    - It means that if all the predictor variable coefficients are zero, then the expected output (i.e., Y) would be equal to the *const* coefficient.\n",
    "    - In our case, the value for *const* coefficient is **-10.0359**\n",
    "\n",
    "\n",
    "3. **Coefficient of a predictor variable**: It represents the change in the output Y due to a change in the predictor variable (everything else held constant).\n",
    "    - In our case, the coefficient of `Adult Mortality` is **-0.0162**."
   ]
  },
  {
   "cell_type": "markdown",
   "metadata": {},
   "source": [
    "**Let's check the performance of the model using different metrics.**\n",
    "\n",
    "* We will be using metric functions defined in sklearn for RMSE, MAE, and $R^2$.\n",
    "* We will define a function to calculate MAPE and adjusted $R^2$.\n",
    "    - The mean absolute percentage error (MAPE) measures the accuracy of predictions as a percentage, and can be calculated as the average absolute percent error for each predicted value minus actual values divided by actual values. It works best if there are no extreme values in the data and none of the actual values are 0.\n",
    "    \n",
    "* We will create a function which will print out all the above metrics in one go."
   ]
  },
  {
   "cell_type": "code",
   "execution_count": null,
   "metadata": {
    "id": "deaapIIvlJIL",
    "outputId": "3dde4318-92d3-45b2-9630-40c84f28db99"
   },
   "outputs": [],
   "source": [
    "# function to compute adjusted R-squared\n",
    "def adj_r2_score(predictors, targets, predictions):\n",
    "    r2 = r2_score(targets, predictions)\n",
    "    n = predictors.shape[0]\n",
    "    k = predictors.shape[1]\n",
    "    return 1 - ((1 - r2) * (n - 1) / (n - k - 1))\n",
    "\n",
    "\n",
    "# function to compute MAPE\n",
    "def mape_score(targets, predictions):\n",
    "    return np.mean(np.abs(targets - predictions) / targets) * 100\n",
    "\n",
    "\n",
    "# function to compute different metrics to check performance of a regression model\n",
    "def model_performance_regression(model, predictors, target):\n",
    "    \"\"\"\n",
    "    Function to compute different metrics to check regression model performance\n",
    "\n",
    "    model: regressor\n",
    "    predictors: independent variables\n",
    "    target: dependent variable\n",
    "    \"\"\"\n",
    "\n",
    "    # predicting using the independent variables\n",
    "    pred = model.predict(predictors)\n",
    "\n",
    "    r2 = r2_score(target, pred)  # to compute R-squared\n",
    "    adjr2 = adj_r2_score(predictors, target, pred)  # to compute adjusted R-squared\n",
    "    rmse = np.sqrt(mean_squared_error(target, pred))  # to compute RMSE\n",
    "    mae = mean_absolute_error(target, pred)  # to compute MAE\n",
    "    mape = mape_score(target, pred)  # to compute MAPE\n",
    "\n",
    "    # creating a dataframe of metrics\n",
    "    df_perf = pd.DataFrame(\n",
    "        {\n",
    "            \"RMSE\": rmse,\n",
    "            \"MAE\": mae,\n",
    "            \"R-squared\": r2,\n",
    "            \"Adj. R-squared\": adjr2,\n",
    "            \"MAPE\": mape,\n",
    "        },\n",
    "        index=[0],\n",
    "    )\n",
    "\n",
    "    return df_perf"
   ]
  },
  {
   "cell_type": "code",
   "execution_count": null,
   "metadata": {
    "colab": {
     "base_uri": "https://localhost:8080/",
     "height": 34
    },
    "id": "vVBBaPtf-BZd",
    "outputId": "63d34fb7-2c29-4343-b356-15c63bf06b2c"
   },
   "outputs": [],
   "source": [
    "# checking model performance on train set (seen 70% data)\n",
    "print(\"Training Performance\\n\")\n",
    "olsmodel_train_perf = model_performance_regression(olsmodel, x_train, y_train)\n",
    "olsmodel_train_perf"
   ]
  },
  {
   "cell_type": "code",
   "execution_count": null,
   "metadata": {
    "id": "Sv51vNBhlJIL",
    "outputId": "820395bc-f454-4ec9-a8f0-757d0e3c0d84"
   },
   "outputs": [],
   "source": [
    "# checking model performance on test set (seen 30% data)\n",
    "print(\"Test Performance\\n\")\n",
    "olsmodel_test_perf = model_performance_regression(olsmodel, x_test, y_test)\n",
    "olsmodel_test_perf"
   ]
  },
  {
   "cell_type": "markdown",
   "metadata": {
    "id": "doso3U2753mZ"
   },
   "source": [
    "**Observations**\n",
    "\n",
    "- The training $R^2$ is 0.85, so the model is not underfitting.\n",
    "\n",
    "- The train and test RMSE and MAE are comparable, so the model is not overfitting either.\n",
    "\n",
    "- MAE suggests that the model can predict life expectancy within a mean error of 2.8 years on the test data.\n",
    "\n",
    "- MAPE of 4.3 on the test data means that we are able to predict within 4.3% of the life expectancy."
   ]
  },
  {
   "cell_type": "markdown",
   "metadata": {
    "id": "1lqSkj1q51At"
   },
   "source": [
    "## Conclusion\n",
    "\n",
    "- We have seen how to build a linear regression model, how to predict the life expectancy of the population using various factors, and how to check the model's performance.\n",
    "\n",
    "- Next, we have to check the statistical validity of our model. For this, we will check if the model satisfies the assumptions of linear regression. Only then we will be able to make inferences from it."
   ]
  },
  {
   "cell_type": "markdown",
   "metadata": {},
   "source": [
    "### We will be discussing the assumptions of linear regression and statistical inference in the next session."
   ]
  }
 ],
 "metadata": {
  "colab": {
   "collapsed_sections": [],
   "name": "DSBA_SLF_MLS1_LifeExpectancyCaseStudy.ipynb",
   "provenance": []
  },
  "kernelspec": {
   "display_name": "Python 3 (ipykernel)",
   "language": "python",
   "name": "python3"
  },
  "language_info": {
   "codemirror_mode": {
    "name": "ipython",
    "version": 3
   },
   "file_extension": ".py",
   "mimetype": "text/x-python",
   "name": "python",
   "nbconvert_exporter": "python",
   "pygments_lexer": "ipython3",
   "version": "3.9.7"
  }
 },
 "nbformat": 4,
 "nbformat_minor": 1
}
