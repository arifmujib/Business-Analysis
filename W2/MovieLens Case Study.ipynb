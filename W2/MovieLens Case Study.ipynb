{
 "cells": [
  {
   "cell_type": "markdown",
   "metadata": {},
   "source": [
    "### MovieLens Case Study\n",
    "\n",
    "The GroupLens Research Project is a research group in the Department of Computer Science and Engineering at the University of Minnesota. The data is widely used for collaborative filtering and other filtering solutions. However, we will be using this data to act as a means to demonstrate our skill in using Python to “play” with data.\n",
    "\n",
    "### Datasets Information:\n",
    "\n",
    "- **ratings.csv:** It contains information on ratings given by the users to a particular movie. Columns: user id, movie id, rating, timestamp\n",
    "\n",
    "- **movie.csv:** The file contains information related to the movies and their genre. Columns: movie id, movie title, release date, unknown, Action, Adventure, Animation, Children’s, Comedy, Crime, Documentary, Drama, Fantasy, Film-Noir, Horror, Musical, Mystery, Romance, Sci-Fi, Thriller, War, Western\n",
    "\n",
    "- **user.csv:** It contains information about the users who have rated the movies.. Columns: user id, age, gender, occupation, zip code\n",
    "\n",
    "### Objective:\n",
    "\n",
    "`To extract insights from the dataset`\n",
    "\n",
    "### Learning Outcomes:\n",
    "`Use of Pandas Functions - shape, describe, groupby, merge etc.`\n",
    "\n",
    "\n",
    "#### Domain \n",
    "`Internet and Entertainment`\n",
    "\n",
    "**Note that the case study will need you to apply the concepts of groupby and merging extensively.**"
   ]
  },
  {
   "cell_type": "markdown",
   "metadata": {},
   "source": [
    "### 1. Import the necessary packages"
   ]
  },
  {
   "cell_type": "code",
   "execution_count": null,
   "metadata": {},
   "outputs": [],
   "source": [
    "import pandas as pd\n",
    "import numpy as np"
   ]
  },
  {
   "cell_type": "markdown",
   "metadata": {},
   "source": [
    "### 2. Read all the three datasets"
   ]
  },
  {
   "cell_type": "code",
   "execution_count": null,
   "metadata": {
    "scrolled": true
   },
   "outputs": [],
   "source": [
    "# Reading datasets by using read_csv from pandas package\n",
    "ratings = pd.read_csv(\"ratings.csv\")\n",
    "movie = pd.read_csv(\"movie.csv\")\n",
    "user = pd.read_csv(\"user.csv\")"
   ]
  },
  {
   "cell_type": "markdown",
   "metadata": {},
   "source": [
    "### 3. View the first 5 rows of all the datasets.\n",
    "`Note that you will need to do it for all three datasets separately`"
   ]
  },
  {
   "cell_type": "code",
   "execution_count": null,
   "metadata": {},
   "outputs": [],
   "source": [
    "ratings.head(5)"
   ]
  },
  {
   "cell_type": "code",
   "execution_count": null,
   "metadata": {
    "scrolled": true
   },
   "outputs": [],
   "source": [
    "movie.head(5)"
   ]
  },
  {
   "cell_type": "code",
   "execution_count": null,
   "metadata": {},
   "outputs": [],
   "source": [
    "user.head(5)"
   ]
  },
  {
   "cell_type": "markdown",
   "metadata": {},
   "source": [
    "### 4. Understand the shape of all the datasets.\n",
    "`Note that you will need to do it for all the three datasets seperately`"
   ]
  },
  {
   "cell_type": "code",
   "execution_count": null,
   "metadata": {},
   "outputs": [],
   "source": [
    "# ratings\n",
    "ratings.shape"
   ]
  },
  {
   "cell_type": "markdown",
   "metadata": {},
   "source": [
    " **Observation:** There are 100000 rows and 4 columns in the ratings dataset"
   ]
  },
  {
   "cell_type": "code",
   "execution_count": null,
   "metadata": {},
   "outputs": [],
   "source": [
    "# user\n",
    "user.shape"
   ]
  },
  {
   "cell_type": "markdown",
   "metadata": {},
   "source": [
    " **Observation:** There are 943 rows and 5 columns in the user dataset"
   ]
  },
  {
   "cell_type": "code",
   "execution_count": null,
   "metadata": {},
   "outputs": [],
   "source": [
    "# movie\n",
    "movie.shape"
   ]
  },
  {
   "cell_type": "markdown",
   "metadata": {},
   "source": [
    " **Observation:** There are 1680 rows and 21 columns in the movie dataset"
   ]
  },
  {
   "cell_type": "markdown",
   "metadata": {},
   "source": [
    "### 5. Check the data types of the columns for all the datasets.\n",
    " `Note that you will need to do it for all three datasets separately`"
   ]
  },
  {
   "cell_type": "code",
   "execution_count": null,
   "metadata": {},
   "outputs": [],
   "source": [
    "# ratings\n",
    "# We use dataframe.dtypes to get the data types of each column\n",
    "ratings.dtypes "
   ]
  },
  {
   "cell_type": "markdown",
   "metadata": {},
   "source": [
    " **Observation:** All columns have integer data type "
   ]
  },
  {
   "cell_type": "code",
   "execution_count": null,
   "metadata": {},
   "outputs": [],
   "source": [
    "# user\n",
    "user.dtypes"
   ]
  },
  {
   "cell_type": "markdown",
   "metadata": {},
   "source": [
    " **Observations:**\n",
    " 1. user id and age columns are of integer data types \n",
    " 2. gender, occupation and zip code columns are of string data type"
   ]
  },
  {
   "cell_type": "code",
   "execution_count": null,
   "metadata": {},
   "outputs": [],
   "source": [
    "# movie\n",
    "movie.dtypes"
   ]
  },
  {
   "cell_type": "code",
   "execution_count": null,
   "metadata": {},
   "outputs": [],
   "source": [
    "movie.info?"
   ]
  },
  {
   "cell_type": "markdown",
   "metadata": {},
   "source": [
    "**Observation:**\n",
    "1. movie title and release date are of string data type\n",
    "2. movie id and all genres are of interger data type"
   ]
  },
  {
   "cell_type": "markdown",
   "metadata": {},
   "source": [
    "### 6. Give a statistical summary for all the datasets.\n",
    "`Note that you will need to do it for all three datasets separately`"
   ]
  },
  {
   "cell_type": "code",
   "execution_count": null,
   "metadata": {},
   "outputs": [],
   "source": [
    "# ratings\n",
    "ratings.describe()"
   ]
  },
  {
   "cell_type": "markdown",
   "metadata": {},
   "source": [
    "**Observation:** The mean and Median of user ratings are 3.53 & 4.00 respectively"
   ]
  },
  {
   "cell_type": "code",
   "execution_count": null,
   "metadata": {},
   "outputs": [],
   "source": [
    "# user\n",
    "user.describe()"
   ]
  },
  {
   "cell_type": "markdown",
   "metadata": {},
   "source": [
    "**Observation:** The average age of all the users is 34 years while the range lies between 7 to 73 years."
   ]
  },
  {
   "cell_type": "code",
   "execution_count": null,
   "metadata": {},
   "outputs": [],
   "source": [
    "# movie\n",
    "movie.describe()"
   ]
  },
  {
   "cell_type": "markdown",
   "metadata": {},
   "source": [
    "**Observation:** The genres should be in categorical format and not in the numeric because it is of binary class"
   ]
  },
  {
   "cell_type": "markdown",
   "metadata": {},
   "source": [
    "### The statistical summary of the data will give us an overview of the data by providing key statistics of the different columns in the data."
   ]
  },
  {
   "cell_type": "markdown",
   "metadata": {},
   "source": [
    "### 7. Find the number of movies per genre using the movie data"
   ]
  },
  {
   "cell_type": "code",
   "execution_count": null,
   "metadata": {},
   "outputs": [],
   "source": [
    "# Getting all the column names\n",
    "movie.columns "
   ]
  },
  {
   "cell_type": "code",
   "execution_count": null,
   "metadata": {
    "scrolled": true
   },
   "outputs": [],
   "source": [
    "# Taking all the genre columns and finding the sum for every column\n",
    "movie[[ 'Action',\n",
    "       'Adventure', 'Animation', 'Childrens', 'Comedy', 'Crime', 'Documentary',\n",
    "       'Drama', 'Fantasy', 'Film-Noir', 'Horror', 'Musical', 'Mystery',\n",
    "       'Romance', 'Sci-Fi', 'Thriller', 'War', 'Western']].sum() "
   ]
  },
  {
   "cell_type": "code",
   "execution_count": null,
   "metadata": {},
   "outputs": [],
   "source": [
    "# Alternatively, we can also loc function\n",
    "movie.loc[:,'Action':'Western'].sum()"
   ]
  },
  {
   "cell_type": "code",
   "execution_count": null,
   "metadata": {},
   "outputs": [],
   "source": [
    "# Sorting the movies across genres\n",
    "number = movie.loc[:,'Action':'Western'].sum()\n",
    "number.sort_values(ascending = False)"
   ]
  },
  {
   "cell_type": "markdown",
   "metadata": {},
   "source": [
    "**Observations:**\n",
    "1. Drama and Comedy are the most common movie genre.\n",
    "2. Clearly, there are some movies that have more than one genre."
   ]
  },
  {
   "cell_type": "markdown",
   "metadata": {},
   "source": [
    "### Applying functions on specific columns of the data will help us in gaining specific insights about the data."
   ]
  },
  {
   "cell_type": "markdown",
   "metadata": {},
   "source": [
    "### 8. Find the movies that have more than one genre\n",
    "`Hint: use sum on the axis = 1`"
   ]
  },
  {
   "cell_type": "code",
   "execution_count": null,
   "metadata": {},
   "outputs": [],
   "source": [
    "# Checking column names\n",
    "movie.columns"
   ]
  },
  {
   "cell_type": "code",
   "execution_count": null,
   "metadata": {},
   "outputs": [],
   "source": [
    "# we create a new dataframe using two columns of the movie dataframe\n",
    "new_movie = movie[['movie id', 'movie title']].copy()"
   ]
  },
  {
   "cell_type": "code",
   "execution_count": null,
   "metadata": {},
   "outputs": [],
   "source": [
    "new_movie[\"Number of Genres\"] = movie.loc[:, 'Action':'Western'].sum(axis=1)"
   ]
  },
  {
   "cell_type": "code",
   "execution_count": null,
   "metadata": {},
   "outputs": [],
   "source": [
    "# Filtering movies that have more than 1 genres\n",
    "new_movie[new_movie['Number of Genres']>1]"
   ]
  },
  {
   "cell_type": "markdown",
   "metadata": {},
   "source": [
    "**Observation:** 849 movies have more than one genre."
   ]
  },
  {
   "cell_type": "markdown",
   "metadata": {},
   "source": [
    "### Creating new columns using existing columns in the dataframe requires domain knowledge, and can help us to understand our data better."
   ]
  },
  {
   "cell_type": "markdown",
   "metadata": {},
   "source": [
    "### 9. Find the top 25 movies according to average ratings such that each movie has number of ratings more than 100\n",
    "\n",
    "Hint : \n",
    "\n",
    "1. First find the movies that have more than 100 ratings(use groupby and count). Extract the movie id in a list.\n",
    "2. Find the average rating of all the movies and sort them in the descending order. \n",
    "3. Use isin(list obtained from 1) to filter out the movies which have more than 100 ratings.\n",
    "4. You will have to use the .merge() function to get the movie titles.\n",
    "\n",
    "Note: This question will need you to research about groupby and apply your findings. You can find more on groupby on https://pandas.pydata.org/pandas-docs/stable/reference/api/pandas.DataFrame.groupby.html."
   ]
  },
  {
   "cell_type": "code",
   "execution_count": null,
   "metadata": {},
   "outputs": [],
   "source": [
    "# Merging ratings dataset with movie dataset\n",
    "df_merge = movie.merge(ratings, on = 'movie id', how = 'inner')\n",
    "df_merge.head()"
   ]
  },
  {
   "cell_type": "code",
   "execution_count": null,
   "metadata": {},
   "outputs": [],
   "source": [
    "# Checking the dimensions of the merged dataframe\n",
    "df_merge.shape"
   ]
  },
  {
   "cell_type": "code",
   "execution_count": null,
   "metadata": {},
   "outputs": [],
   "source": [
    "# Finding the count of ratings for each movie using groupby() and count()\n",
    "# reset_index() is used to shift movie title from being the dataframe’s (movie_count’s) index to \n",
    "# being just a normal column \n",
    "movie_count = df_merge.groupby(['movie title'])['rating'].count().reset_index()\n",
    "movie_count.head()"
   ]
  },
  {
   "cell_type": "code",
   "execution_count": null,
   "metadata": {},
   "outputs": [],
   "source": [
    "# Extracting the movie titles that have more than 100 ratings \n",
    "movie_100 = movie_count[movie_count['rating']>100]['movie title']\n",
    "movie_100.head()"
   ]
  },
  {
   "cell_type": "code",
   "execution_count": null,
   "metadata": {},
   "outputs": [],
   "source": [
    "# Finding average ratings for each movie and sorting them out in descending order\n",
    "# using groupby() and sort_values() on merged data frame\n",
    "avg_rating = df_merge.groupby(['movie title'])['rating'].mean().sort_values(ascending=False).reset_index()\n",
    "avg_rating"
   ]
  },
  {
   "cell_type": "code",
   "execution_count": null,
   "metadata": {},
   "outputs": [],
   "source": [
    "# Extracting movie titles that have more than 100 ratings using movie titles in movie_100 and isin() function\n",
    "# Displaying top 25 rows only\n",
    "avg_rating[avg_rating['movie title'].isin(movie_100)].head(25)"
   ]
  },
  {
   "cell_type": "markdown",
   "metadata": {},
   "source": [
    "### We have just learned how to use groupby() to  group the various categories in the data, and how to use sort_values() to sort the data."
   ]
  },
  {
   "cell_type": "markdown",
   "metadata": {},
   "source": [
    "### 10. Find the relationship between user demographics and movie ratings"
   ]
  },
  {
   "cell_type": "markdown",
   "metadata": {},
   "source": [
    "#### 10.1 Find the mean rating for every occupation "
   ]
  },
  {
   "cell_type": "markdown",
   "metadata": {},
   "source": [
    "1. Merge the user dataset with movie and ratings(already merged : df_merge) dataset\n",
    "2. Apply groupby on occupation"
   ]
  },
  {
   "cell_type": "code",
   "execution_count": null,
   "metadata": {},
   "outputs": [],
   "source": [
    "# Merging user dataset with movie and ratings(already merged : df_merge) dataset\n",
    "df_merge_all = df_merge.merge(user, on = 'user id', how = 'inner')"
   ]
  },
  {
   "cell_type": "code",
   "execution_count": null,
   "metadata": {},
   "outputs": [],
   "source": [
    "# Group by occupation and aggregate with mean\n",
    "df_merge_all.groupby('occupation').rating.mean()"
   ]
  },
  {
   "cell_type": "markdown",
   "metadata": {},
   "source": [
    "**Observation:**: The mean rating is low (2.89) for people working in healthcare."
   ]
  },
  {
   "cell_type": "markdown",
   "metadata": {},
   "source": [
    "#### 10.2 Find mean rating for each gender"
   ]
  },
  {
   "cell_type": "code",
   "execution_count": null,
   "metadata": {},
   "outputs": [],
   "source": [
    "df_merge_all.groupby('gender').rating.mean()"
   ]
  },
  {
   "cell_type": "markdown",
   "metadata": {},
   "source": [
    "**Observation**: The ratings given by men and women are similar on average."
   ]
  },
  {
   "cell_type": "markdown",
   "metadata": {},
   "source": [
    "#### 10.3 Find the mean rating grouped by both occupation and gender\n",
    "1. Put both the columns under groupby function and find the mean rating. "
   ]
  },
  {
   "cell_type": "code",
   "execution_count": null,
   "metadata": {},
   "outputs": [],
   "source": [
    "df_merge_all.groupby(['occupation','gender']).rating.mean()"
   ]
  },
  {
   "cell_type": "markdown",
   "metadata": {},
   "source": [
    "**Observations:** \n",
    "\n",
    "1. We had seen that the healthcare sector had a low mean rating. We now see that the low rating is driven by the female workers in the healthcare sector.\n",
    "\n",
    "2. The male writers have given lower ratings compared to the female writers.\n",
    "\n",
    "3. Only male doctors have given ratings. No female doctors have given ratings as per the data."
   ]
  },
  {
   "cell_type": "markdown",
   "metadata": {},
   "source": [
    "### Using groupby() on multiple columns of the data helps us analyze subsets of the data to gain insights."
   ]
  },
  {
   "cell_type": "markdown",
   "metadata": {},
   "source": [
    "### 11. Find the mean rating for each genre."
   ]
  },
  {
   "cell_type": "code",
   "execution_count": null,
   "metadata": {},
   "outputs": [],
   "source": [
    "cols=df_merge_all.loc[:,'Action':'Western'].columns\n",
    "\n",
    "for i in cols:\n",
    "    print(i,':' , df_merge_all[df_merge_all[i]==1].rating.mean())"
   ]
  },
  {
   "cell_type": "markdown",
   "metadata": {},
   "source": [
    "**Observation**: War movies have the highest average rating, while Fantasy movies have the lowest average rating."
   ]
  },
  {
   "cell_type": "markdown",
   "metadata": {},
   "source": [
    "### 12. Divide the age column into four groups.\n",
    "\n",
    "* Group 1. 0-20 => Teenager\n",
    "* Group 2. 20-40 => Adult\n",
    "* Group 3. 40-55 => Middle Age\n",
    "* Group 4. 55+ => Elderly\n",
    "\n",
    "This questions requires pandas cut() function.\n",
    "\n",
    "Refer this link for more info: https://pandas.pydata.org/pandas-docs/version/0.23.4/generated/pandas.cut.html"
   ]
  },
  {
   "cell_type": "code",
   "execution_count": null,
   "metadata": {},
   "outputs": [],
   "source": [
    "#create a new column with name age_group\n",
    "df_merge_all['age_group']=pd.cut(df_merge_all.age, bins=(0,20,40,55,100),labels=('Teenager','Adult','Middle Age','Elderly'))"
   ]
  },
  {
   "cell_type": "code",
   "execution_count": null,
   "metadata": {},
   "outputs": [],
   "source": [
    "#print top 5 entries of the age and age_group columns\n",
    "df_merge_all[['age','age_group']].head()"
   ]
  },
  {
   "cell_type": "code",
   "execution_count": null,
   "metadata": {
    "scrolled": true
   },
   "outputs": [],
   "source": [
    "#print last 5 entries of the age and age_group columns\n",
    "df_merge_all[['age','age_group']].tail()"
   ]
  },
  {
   "cell_type": "markdown",
   "metadata": {},
   "source": [
    "#### 12.1 Find the mean rating for each age group."
   ]
  },
  {
   "cell_type": "code",
   "execution_count": null,
   "metadata": {},
   "outputs": [],
   "source": [
    "df_merge_all.groupby(['age_group']).rating.mean()"
   ]
  },
  {
   "cell_type": "markdown",
   "metadata": {},
   "source": [
    "**Observation:** Old people have given higher ratings than any other age group."
   ]
  },
  {
   "cell_type": "markdown",
   "metadata": {},
   "source": [
    "#### 12.2 Find the mean, median, and standard deviation of rating for each age group.\n",
    "\n",
    "1. This can be done using groupby.agg(), where agg() stands for aggregate.\n",
    "2. agg() can take more than 1 aggregate function simultaneously.\n",
    "\n",
    "Refer to this link for more info :https://pandas.pydata.org/pandas-docs/stable/reference/api/pandas.core.groupby.DataFrameGroupBy.aggregate.html"
   ]
  },
  {
   "cell_type": "code",
   "execution_count": null,
   "metadata": {},
   "outputs": [],
   "source": [
    "df_merge_all.groupby(['age_group']).rating.agg(['mean','median','std'])"
   ]
  },
  {
   "cell_type": "markdown",
   "metadata": {},
   "source": [
    "#### 12.3 Which genre movies are common among Engineers?"
   ]
  },
  {
   "cell_type": "code",
   "execution_count": null,
   "metadata": {},
   "outputs": [],
   "source": [
    "df_merge_all.groupby('occupation').sum().loc[:,'Action':'Western'].loc['engineer']"
   ]
  },
  {
   "cell_type": "markdown",
   "metadata": {},
   "source": [
    "**Observation:**   Engineers mostly watch movies of Drama, Comedy, and Action genres.\n",
    "\n",
    "You can try finding the most common genre among different professionals."
   ]
  },
  {
   "cell_type": "markdown",
   "metadata": {},
   "source": [
    "### We have just learned how to use the pandas cut() function to group a numerical column in the data into different categories and use agg() to use multiple aggregate functions at once with groupby(). These are important techniques that allow us to create informative groups from numerical columns and understand multiple statistics of subsets of our data at once."
   ]
  }
 ],
 "metadata": {
  "kernelspec": {
   "display_name": "Python 3",
   "language": "python",
   "name": "python3"
  },
  "language_info": {
   "codemirror_mode": {
    "name": "ipython",
    "version": 3
   },
   "file_extension": ".py",
   "mimetype": "text/x-python",
   "name": "python",
   "nbconvert_exporter": "python",
   "pygments_lexer": "ipython3",
   "version": "3.9.5"
  }
 },
 "nbformat": 4,
 "nbformat_minor": 4
}
