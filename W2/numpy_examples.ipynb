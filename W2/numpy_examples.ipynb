{
 "cells": [
  {
   "cell_type": "markdown",
   "metadata": {},
   "source": [
    "# NumPy\n",
    "\n",
    "numpy is python's package for doing math that is more advanced than +-*/\n",
    "\n",
    "This includes special functions like cosine, exponential, sqrt, ...\n",
    "\n",
    "On top of this we can use numpy to generate samples from many types of random variables\n",
    "\n",
    "numpy also has a powerful data type to define vectors, matrices, and tensors\n",
    "\n",
    "With these data types numpy also allows us to do linear algebra - matrix multiplication and matrix-vector solutions"
   ]
  },
  {
   "cell_type": "code",
   "execution_count": 1,
   "metadata": {},
   "outputs": [],
   "source": [
    "# the first step of using numpy is to tell python to use it\n",
    "import numpy as np"
   ]
  },
  {
   "cell_type": "code",
   "execution_count": 2,
   "metadata": {},
   "outputs": [
    {
     "name": "stdout",
     "output_type": "stream",
     "text": [
      "-1.0\n",
      "1.1\n",
      "5.2\n"
     ]
    }
   ],
   "source": [
    "print(np.cos(np.pi))\n",
    "print(np.sqrt(1.21))\n",
    "print(np.log(np.exp(5.2)))"
   ]
  },
  {
   "cell_type": "code",
   "execution_count": 3,
   "metadata": {},
   "outputs": [
    {
     "name": "stdout",
     "output_type": "stream",
     "text": [
      "[1 2 3]\n",
      "\n",
      "[[1 2 1]\n",
      " [4 5 9]\n",
      " [1 8 9]]\n",
      "\n",
      "[[1 4 1]\n",
      " [2 5 8]\n",
      " [1 9 9]]\n"
     ]
    }
   ],
   "source": [
    "# we can create numpy arrays by converting lists\n",
    "# this is a vector\n",
    "vec = np.array([1,2,3])\n",
    "print(vec)\n",
    "# we can create matrices by converting lists of lists\n",
    "mat = np.array([[1,2,1],[4,5,9],[1,8,9]])\n",
    "print('')\n",
    "print(mat)\n",
    "print('')\n",
    "print(mat.T)"
   ]
  },
  {
   "cell_type": "code",
   "execution_count": 4,
   "metadata": {},
   "outputs": [
    {
     "name": "stdout",
     "output_type": "stream",
     "text": [
      "[ 0  1  2  3  4  5  6  7  8  9 10 11 12 13 14]\n",
      "\n",
      "[ 3  9 15]\n"
     ]
    }
   ],
   "source": [
    "# there are lots of other ways to create numpy arrays\n",
    "vec2 = np.arange(0,15)\n",
    "print(vec2)\n",
    "print('')\n",
    "vec3 = np.arange(3,21,6)\n",
    "print(vec3)\n"
   ]
  },
  {
   "cell_type": "code",
   "execution_count": 5,
   "metadata": {},
   "outputs": [
    {
     "name": "stdout",
     "output_type": "stream",
     "text": [
      "[0.         0.55555556 1.11111111 1.66666667 2.22222222 2.77777778\n",
      " 3.33333333 3.88888889 4.44444444 5.        ]\n",
      "\n",
      "[[0.         0.55555556]\n",
      " [1.11111111 1.66666667]\n",
      " [2.22222222 2.77777778]\n",
      " [3.33333333 3.88888889]\n",
      " [4.44444444 5.        ]]\n",
      "[[0.         0.55555556]\n",
      " [1.11111111 1.66666667]\n",
      " [2.22222222 2.77777778]\n",
      " [3.33333333 3.88888889]\n",
      " [4.44444444 5.        ]]\n",
      "[0.         0.55555556 1.11111111 1.66666667 2.22222222 2.77777778\n",
      " 3.33333333 3.88888889 4.44444444 5.        ]\n"
     ]
    }
   ],
   "source": [
    "\n",
    "vec4 = np.linspace(0,5,10)\n",
    "print(vec4)\n",
    "print('')\n",
    "print(vec4.reshape(5,2))\n",
    "vec4_reshaped = vec4.reshape(5,2)\n",
    "print(vec4_reshaped)\n",
    "print(vec4)"
   ]
  },
  {
   "cell_type": "code",
   "execution_count": 35,
   "metadata": {},
   "outputs": [
    {
     "data": {
      "text/plain": [
       "array([0.        , 0.05263158, 0.10526316, 0.15789474, 0.21052632,\n",
       "       0.26315789, 0.31578947, 0.36842105, 0.42105263, 0.47368421,\n",
       "       0.52631579, 0.57894737, 0.63157895, 0.68421053, 0.73684211,\n",
       "       0.78947368, 0.84210526, 0.89473684, 0.94736842, 1.        ])"
      ]
     },
     "execution_count": 35,
     "metadata": {},
     "output_type": "execute_result"
    }
   ],
   "source": [
    "np.linspace(0,1,20)"
   ]
  },
  {
   "cell_type": "code",
   "execution_count": 6,
   "metadata": {},
   "outputs": [
    {
     "name": "stdout",
     "output_type": "stream",
     "text": [
      "[[0. 0. 0.]\n",
      " [0. 0. 0.]\n",
      " [0. 0. 0.]\n",
      " [0. 0. 0.]\n",
      " [0. 0. 0.]]\n",
      "\n",
      "[[1. 1. 1. 1. 1.]\n",
      " [1. 1. 1. 1. 1.]\n",
      " [1. 1. 1. 1. 1.]]\n",
      "\n",
      "[[1. 0. 0. 0. 0.]\n",
      " [0. 1. 0. 0. 0.]\n",
      " [0. 0. 1. 0. 0.]\n",
      " [0. 0. 0. 1. 0.]\n",
      " [0. 0. 0. 0. 1.]]\n"
     ]
    }
   ],
   "source": [
    "mat2 = np.zeros([5,3])\n",
    "print(mat2)\n",
    "mat3 = np.ones((3,5))\n",
    "print('')\n",
    "print(mat3)\n",
    "mat4 = np.eye(5)\n",
    "print('')\n",
    "print(mat4)"
   ]
  },
  {
   "cell_type": "code",
   "execution_count": 7,
   "metadata": {},
   "outputs": [
    {
     "name": "stdout",
     "output_type": "stream",
     "text": [
      "[1 2 3 4 5]\n",
      "[3 4 5 6 7]\n",
      "[ 4  6  8 10 12]\n",
      "[ 3  8 15 24 35]\n",
      "[1.         0.5        0.33333333 0.25       0.2       ]\n",
      "[1.73205081 2.         2.23606798 2.44948974 2.64575131]\n"
     ]
    }
   ],
   "source": [
    "# we can +-*/ arrays together if they're the right size\n",
    "vec5 = np.arange(1,6)\n",
    "vec6 = np.arange(3,8)\n",
    "print(vec5)\n",
    "print(vec6)\n",
    "print(vec5+vec6)\n",
    "print(vec5*vec6)\n",
    "print(1/vec5)\n",
    "print(np.sqrt(vec6))"
   ]
  },
  {
   "cell_type": "code",
   "execution_count": 8,
   "metadata": {},
   "outputs": [
    {
     "name": "stdout",
     "output_type": "stream",
     "text": [
      "[[1 2 1]\n",
      " [4 5 9]\n",
      " [1 8 9]]\n",
      "\n",
      "[1 2 3]\n",
      "\n",
      "[ 8 41 44]\n"
     ]
    }
   ],
   "source": [
    "# we can do matrix multiplication\n",
    "print(mat)\n",
    "print('')\n",
    "print(vec)\n",
    "print()\n",
    "product = np.matmul(mat,vec)\n",
    "print(product)"
   ]
  },
  {
   "cell_type": "code",
   "execution_count": 9,
   "metadata": {},
   "outputs": [
    {
     "name": "stdout",
     "output_type": "stream",
     "text": [
      "[1. 2. 3.]\n",
      "\n",
      "[[ 0.5         0.18518519 -0.24074074]\n",
      " [ 0.5        -0.14814815  0.09259259]\n",
      " [-0.5         0.11111111  0.05555556]]\n"
     ]
    }
   ],
   "source": [
    "print(np.linalg.solve(mat,product))\n",
    "print('')\n",
    "print(np.linalg.inv(mat))"
   ]
  },
  {
   "cell_type": "code",
   "execution_count": 10,
   "metadata": {},
   "outputs": [
    {
     "name": "stdout",
     "output_type": "stream",
     "text": [
      "['blue' 'red' 'orange' 'purple' 'purple' 'orange' 'Red' '6']\n",
      "['6' 'Red' 'blue' 'orange' 'purple' 'red']\n"
     ]
    }
   ],
   "source": [
    "# we can find the unique values in an array\n",
    "vec7 = np.array(['blue','red','orange','purple','purple','orange','Red',6])\n",
    "print(vec7)\n",
    "print(np.unique(vec7))"
   ]
  },
  {
   "cell_type": "code",
   "execution_count": 11,
   "metadata": {},
   "outputs": [
    {
     "name": "stdout",
     "output_type": "stream",
     "text": [
      "[[0.88014066 0.38610136 0.10825436 0.90790247 0.61634988]\n",
      " [0.3230919  0.00752001 0.7918017  0.87057683 0.25647289]\n",
      " [0.220919   0.78461181 0.64079128 0.36348352 0.3812203 ]\n",
      " [0.5574779  0.18146603 0.92059533 0.45803178 0.29185809]\n",
      " [0.55280537 0.70980445 0.69701329 0.89301749 0.59234908]]\n",
      "\n",
      "[[ 0.34315294  1.46534815 -1.23853637  0.59237212 -0.22836473]\n",
      " [-1.26671534  0.64820794  2.47965846 -0.96523922  0.12807656]\n",
      " [-0.26283236 -0.5049322   1.00653634  0.78852305  0.08196027]\n",
      " [ 0.24869798  0.90229332  1.73376732  0.76926084  1.22415423]\n",
      " [ 0.88417249 -0.43125553 -1.6387989   0.50525684 -1.38958859]\n",
      " [ 0.47411755  0.0713287   0.94658766  0.79270971  0.65924909]\n",
      " [ 0.67625006  1.11682271  0.56794392 -0.39316398  0.35512172]\n",
      " [ 1.30889618  0.92785777  1.93423597  0.38215546  0.53906629]\n",
      " [ 0.39645102  0.17630041  1.88176706 -0.73356073 -1.10514259]\n",
      " [-0.37989152 -1.20186187  0.17347092 -0.57214774 -1.13069485]]\n"
     ]
    }
   ],
   "source": [
    "# we can also use numpy to generate samples of a random variable\n",
    "rand_mat = np.random.rand(5,5) # uniform random variable\n",
    "print(rand_mat)\n",
    "rand_mat2 = np.random.randn(10,5) # standard normal random variable\n",
    "print('')\n",
    "print(rand_mat2)"
   ]
  },
  {
   "cell_type": "code",
   "execution_count": 12,
   "metadata": {},
   "outputs": [
    {
     "name": "stdout",
     "output_type": "stream",
     "text": [
      "0.5357462712261052\n",
      "0.9304635551821284\n"
     ]
    }
   ],
   "source": [
    "# we can also use numpy for statistical tools on arrays\n",
    "print(np.mean(rand_mat))\n",
    "print(np.std(rand_mat2))"
   ]
  },
  {
   "cell_type": "code",
   "execution_count": 13,
   "metadata": {},
   "outputs": [
    {
     "name": "stdout",
     "output_type": "stream",
     "text": [
      "0.007520012620179761\n",
      "2.4796584565518565\n"
     ]
    }
   ],
   "source": [
    "print(np.min(rand_mat))\n",
    "print(np.max(rand_mat2))"
   ]
  },
  {
   "cell_type": "code",
   "execution_count": 14,
   "metadata": {},
   "outputs": [],
   "source": [
    "# break here for next video!"
   ]
  },
  {
   "cell_type": "code",
   "execution_count": 15,
   "metadata": {},
   "outputs": [
    {
     "name": "stdout",
     "output_type": "stream",
     "text": [
      "[-0.06293949 -2.15421107  0.1632727  -0.24343147  0.0460558   0.39381668\n",
      "  0.25971945  0.2194641   0.66882347  1.46574216  0.56831763  0.20434163\n",
      "  0.20001065 -0.65621178 -0.01510196  0.51007414  0.04342696 -0.08016552\n",
      " -0.95337988]\n",
      "0.25971945215883707\n"
     ]
    }
   ],
   "source": [
    "# how do we access entries in a numpy vector\n",
    "rand_vec = np.random.randn(19)\n",
    "print(rand_vec)\n",
    "print(rand_vec[6])"
   ]
  },
  {
   "cell_type": "code",
   "execution_count": 16,
   "metadata": {},
   "outputs": [
    {
     "name": "stdout",
     "output_type": "stream",
     "text": [
      "[0.0460558  0.39381668 0.25971945 0.2194641  0.66882347]\n"
     ]
    }
   ],
   "source": [
    "# we can access multiple entries at once using :\n",
    "print(rand_vec[4:9])"
   ]
  },
  {
   "cell_type": "code",
   "execution_count": 17,
   "metadata": {},
   "outputs": [
    {
     "name": "stdout",
     "output_type": "stream",
     "text": [
      "[ 0  3  6  9 12]\n",
      "[-0.06293949 -0.24343147  0.25971945  1.46574216  0.20001065]\n"
     ]
    }
   ],
   "source": [
    "# we can also access multiple non-consecutive entries using np.arange\n",
    "print(np.arange(0,15,3))\n",
    "print(rand_vec[np.arange(0,15,3)])"
   ]
  },
  {
   "cell_type": "code",
   "execution_count": 18,
   "metadata": {},
   "outputs": [
    {
     "name": "stdout",
     "output_type": "stream",
     "text": [
      "[[0.88014066 0.38610136 0.10825436 0.90790247 0.61634988]\n",
      " [0.3230919  0.00752001 0.7918017  0.87057683 0.25647289]\n",
      " [0.220919   0.78461181 0.64079128 0.36348352 0.3812203 ]\n",
      " [0.5574779  0.18146603 0.92059533 0.45803178 0.29185809]\n",
      " [0.55280537 0.70980445 0.69701329 0.89301749 0.59234908]]\n",
      "0.7918016966437008\n",
      "0.7918016966437008\n"
     ]
    }
   ],
   "source": [
    "# what about matrices\n",
    "print(rand_mat)\n",
    "print(rand_mat[1][2])\n",
    "print(rand_mat[1,2])\n"
   ]
  },
  {
   "cell_type": "code",
   "execution_count": 19,
   "metadata": {},
   "outputs": [
    {
     "name": "stdout",
     "output_type": "stream",
     "text": [
      "[[0.38610136 0.10825436]\n",
      " [0.00752001 0.7918017 ]]\n"
     ]
    }
   ],
   "source": [
    "print(rand_mat[0:2,1:3])"
   ]
  },
  {
   "cell_type": "code",
   "execution_count": 20,
   "metadata": {},
   "outputs": [
    {
     "name": "stdout",
     "output_type": "stream",
     "text": [
      "[-0.06293949 -2.15421107  0.1632727  -0.24343147  0.0460558   0.39381668\n",
      "  0.25971945  0.2194641   0.66882347  1.46574216  0.56831763  0.20434163\n",
      "  0.20001065 -0.65621178 -0.01510196  0.51007414  0.04342696 -0.08016552\n",
      " -0.95337988]\n",
      "\n",
      "[-0.06293949 -2.15421107  0.1632727   4.          4.          0.39381668\n",
      "  0.25971945  0.2194641   0.66882347  1.46574216  0.56831763  0.20434163\n",
      "  0.20001065 -0.65621178 -0.01510196  0.51007414  0.04342696 -0.08016552\n",
      " -0.95337988]\n",
      "\n",
      "[-0.06293949 -2.15421107  0.1632727   1.          2.          0.39381668\n",
      "  0.25971945  0.2194641   0.66882347  1.46574216  0.56831763  0.20434163\n",
      "  0.20001065 -0.65621178 -0.01510196  0.51007414  0.04342696 -0.08016552\n",
      " -0.95337988]\n"
     ]
    }
   ],
   "source": [
    "# let's change some values in an array!\n",
    "print(rand_vec)\n",
    "rand_vec[3:5] = 4\n",
    "print('')\n",
    "print(rand_vec)\n",
    "rand_vec[3:5] = [1,2]\n",
    "print('')\n",
    "print(rand_vec)"
   ]
  },
  {
   "cell_type": "code",
   "execution_count": 21,
   "metadata": {},
   "outputs": [
    {
     "name": "stdout",
     "output_type": "stream",
     "text": [
      "[[0.88014066 0.38610136 0.10825436 0.90790247 0.61634988]\n",
      " [0.3230919  0.00752001 0.7918017  0.87057683 0.25647289]\n",
      " [0.220919   0.78461181 0.64079128 0.36348352 0.3812203 ]\n",
      " [0.5574779  0.18146603 0.92059533 0.45803178 0.29185809]\n",
      " [0.55280537 0.70980445 0.69701329 0.89301749 0.59234908]]\n",
      "\n",
      "[[0.88014066 0.38610136 0.10825436 0.90790247 0.61634988]\n",
      " [0.3230919  0.00752001 0.7918017  0.         0.        ]\n",
      " [0.220919   0.78461181 0.64079128 0.         0.        ]\n",
      " [0.5574779  0.18146603 0.92059533 0.45803178 0.29185809]\n",
      " [0.55280537 0.70980445 0.69701329 0.89301749 0.59234908]]\n"
     ]
    }
   ],
   "source": [
    "print(rand_mat)\n",
    "rand_mat[1:3,3:5] = 0\n",
    "print('')\n",
    "print(rand_mat)"
   ]
  },
  {
   "cell_type": "code",
   "execution_count": 22,
   "metadata": {},
   "outputs": [
    {
     "name": "stdout",
     "output_type": "stream",
     "text": [
      "[[0.88014066 0.38610136 0.10825436]\n",
      " [0.3230919  0.00752001 0.7918017 ]]\n",
      "[[3. 3. 3.]\n",
      " [3. 3. 3.]]\n"
     ]
    }
   ],
   "source": [
    "sub_mat = rand_mat[0:2,0:3]\n",
    "print(sub_mat)\n",
    "sub_mat[:] = 3\n",
    "print(sub_mat)\n"
   ]
  },
  {
   "cell_type": "code",
   "execution_count": 23,
   "metadata": {},
   "outputs": [
    {
     "name": "stdout",
     "output_type": "stream",
     "text": [
      "[[3.         3.         3.         0.90790247 0.61634988]\n",
      " [3.         3.         3.         0.         0.        ]\n",
      " [0.220919   0.78461181 0.64079128 0.         0.        ]\n",
      " [0.5574779  0.18146603 0.92059533 0.45803178 0.29185809]\n",
      " [0.55280537 0.70980445 0.69701329 0.89301749 0.59234908]]\n"
     ]
    }
   ],
   "source": [
    "print(rand_mat)"
   ]
  },
  {
   "cell_type": "code",
   "execution_count": 24,
   "metadata": {},
   "outputs": [
    {
     "name": "stdout",
     "output_type": "stream",
     "text": [
      "[[99. 99. 99.]\n",
      " [99. 99. 99.]]\n",
      "[[3.         3.         3.         0.90790247 0.61634988]\n",
      " [3.         3.         3.         0.         0.        ]\n",
      " [0.220919   0.78461181 0.64079128 0.         0.        ]\n",
      " [0.5574779  0.18146603 0.92059533 0.45803178 0.29185809]\n",
      " [0.55280537 0.70980445 0.69701329 0.89301749 0.59234908]]\n"
     ]
    }
   ],
   "source": [
    "sub_mat2 = rand_mat[0:2,0:3].copy()\n",
    "sub_mat2[:] = 99\n",
    "print(sub_mat2)\n",
    "print(rand_mat)\n"
   ]
  },
  {
   "cell_type": "code",
   "execution_count": 25,
   "metadata": {},
   "outputs": [],
   "source": [
    "# break here for next video"
   ]
  },
  {
   "cell_type": "code",
   "execution_count": 26,
   "metadata": {},
   "outputs": [
    {
     "name": "stdout",
     "output_type": "stream",
     "text": [
      "[-0.57603711  0.94813152 -1.44079252 -0.60538    -0.4928524   0.92269645\n",
      "  1.02847069 -0.046205   -0.34240907  2.07914546 -1.39129944  0.52037958\n",
      " -0.57671012 -1.78529262  1.60459537]\n",
      "[False  True False False False  True  True False False  True False  True\n",
      " False False  True]\n",
      "[0.94813152 0.92269645 1.02847069 2.07914546 0.52037958 1.60459537]\n"
     ]
    }
   ],
   "source": [
    "# we can also access entries with logicals\n",
    "rand_vec = np.random.randn(15)\n",
    "\n",
    "print(rand_vec)\n",
    "print(rand_vec>0)\n",
    "print(rand_vec[rand_vec>0])"
   ]
  },
  {
   "cell_type": "code",
   "execution_count": 27,
   "metadata": {},
   "outputs": [
    {
     "name": "stdout",
     "output_type": "stream",
     "text": [
      "[[ 0.34315294  1.46534815 -1.23853637  0.59237212 -0.22836473]\n",
      " [-1.26671534  0.64820794  2.47965846 -0.96523922  0.12807656]\n",
      " [-0.26283236 -0.5049322   1.00653634  0.78852305  0.08196027]\n",
      " [ 0.24869798  0.90229332  1.73376732  0.76926084  1.22415423]\n",
      " [ 0.88417249 -0.43125553 -1.6387989   0.50525684 -1.38958859]\n",
      " [ 0.47411755  0.0713287   0.94658766  0.79270971  0.65924909]\n",
      " [ 0.67625006  1.11682271  0.56794392 -0.39316398  0.35512172]\n",
      " [ 1.30889618  0.92785777  1.93423597  0.38215546  0.53906629]\n",
      " [ 0.39645102  0.17630041  1.88176706 -0.73356073 -1.10514259]\n",
      " [-0.37989152 -1.20186187  0.17347092 -0.57214774 -1.13069485]]\n",
      "[0.34315294 1.46534815 0.59237212 0.64820794 2.47965846 0.12807656\n",
      " 1.00653634 0.78852305 0.08196027 0.24869798 0.90229332 1.73376732\n",
      " 0.76926084 1.22415423 0.88417249 0.50525684 0.47411755 0.0713287\n",
      " 0.94658766 0.79270971 0.65924909 0.67625006 1.11682271 0.56794392\n",
      " 0.35512172 1.30889618 0.92785777 1.93423597 0.38215546 0.53906629\n",
      " 0.39645102 0.17630041 1.88176706 0.17347092]\n"
     ]
    }
   ],
   "source": [
    "print(rand_mat2)\n",
    "print(rand_mat2[rand_mat2>0])"
   ]
  },
  {
   "cell_type": "code",
   "execution_count": 28,
   "metadata": {},
   "outputs": [
    {
     "name": "stdout",
     "output_type": "stream",
     "text": [
      "[-0.57603711  0.94813152 -1.44079252 -0.60538    -0.4928524   0.92269645\n",
      "  1.02847069 -0.046205   -0.34240907  2.07914546 -1.39129944  0.52037958\n",
      " -0.57671012 -1.78529262  1.60459537]\n",
      "\n",
      "[-0.57603711 -5.         -1.44079252 -0.60538    -0.4928524  -5.\n",
      " -5.         -0.046205   -0.34240907 -5.         -1.39129944 -5.\n",
      " -0.57671012 -1.78529262 -5.        ]\n"
     ]
    }
   ],
   "source": [
    "\n",
    "print(rand_vec)\n",
    "print('')\n",
    "rand_vec[rand_vec>0.5] = -5\n",
    "print(rand_vec)"
   ]
  },
  {
   "cell_type": "code",
   "execution_count": 29,
   "metadata": {},
   "outputs": [],
   "source": [
    "# let's save some arrays on the disk for use later!\n",
    "np.save('saved_file_name',rand_mat2)\n"
   ]
  },
  {
   "cell_type": "code",
   "execution_count": 30,
   "metadata": {},
   "outputs": [],
   "source": [
    "np.savez('zipped_file_name',rand_mat=rand_mat,rand_mat2=rand_mat2)"
   ]
  },
  {
   "cell_type": "code",
   "execution_count": 31,
   "metadata": {},
   "outputs": [
    {
     "name": "stdout",
     "output_type": "stream",
     "text": [
      "[[ 0.34315294  1.46534815 -1.23853637  0.59237212 -0.22836473]\n",
      " [-1.26671534  0.64820794  2.47965846 -0.96523922  0.12807656]\n",
      " [-0.26283236 -0.5049322   1.00653634  0.78852305  0.08196027]\n",
      " [ 0.24869798  0.90229332  1.73376732  0.76926084  1.22415423]\n",
      " [ 0.88417249 -0.43125553 -1.6387989   0.50525684 -1.38958859]\n",
      " [ 0.47411755  0.0713287   0.94658766  0.79270971  0.65924909]\n",
      " [ 0.67625006  1.11682271  0.56794392 -0.39316398  0.35512172]\n",
      " [ 1.30889618  0.92785777  1.93423597  0.38215546  0.53906629]\n",
      " [ 0.39645102  0.17630041  1.88176706 -0.73356073 -1.10514259]\n",
      " [-0.37989152 -1.20186187  0.17347092 -0.57214774 -1.13069485]]\n",
      "\n",
      "<numpy.lib.npyio.NpzFile object at 0x7ff803b85490>\n"
     ]
    }
   ],
   "source": [
    "# now let's load it\n",
    "loaded_vec = np.load('saved_file_name.npy')\n",
    "loaded_zip = np.load('zipped_file_name.npz')\n",
    "\n",
    "print(loaded_vec)\n",
    "print('')\n",
    "print(loaded_zip)"
   ]
  },
  {
   "cell_type": "code",
   "execution_count": 32,
   "metadata": {},
   "outputs": [
    {
     "name": "stdout",
     "output_type": "stream",
     "text": [
      "[[3.         3.         3.         0.90790247 0.61634988]\n",
      " [3.         3.         3.         0.         0.        ]\n",
      " [0.220919   0.78461181 0.64079128 0.         0.        ]\n",
      " [0.5574779  0.18146603 0.92059533 0.45803178 0.29185809]\n",
      " [0.55280537 0.70980445 0.69701329 0.89301749 0.59234908]]\n",
      "\n",
      "[[ 0.34315294  1.46534815 -1.23853637  0.59237212 -0.22836473]\n",
      " [-1.26671534  0.64820794  2.47965846 -0.96523922  0.12807656]\n",
      " [-0.26283236 -0.5049322   1.00653634  0.78852305  0.08196027]\n",
      " [ 0.24869798  0.90229332  1.73376732  0.76926084  1.22415423]\n",
      " [ 0.88417249 -0.43125553 -1.6387989   0.50525684 -1.38958859]\n",
      " [ 0.47411755  0.0713287   0.94658766  0.79270971  0.65924909]\n",
      " [ 0.67625006  1.11682271  0.56794392 -0.39316398  0.35512172]\n",
      " [ 1.30889618  0.92785777  1.93423597  0.38215546  0.53906629]\n",
      " [ 0.39645102  0.17630041  1.88176706 -0.73356073 -1.10514259]\n",
      " [-0.37989152 -1.20186187  0.17347092 -0.57214774 -1.13069485]]\n",
      "[[3.         3.         3.         0.90790247 0.61634988]\n",
      " [3.         3.         3.         0.         0.        ]\n",
      " [0.220919   0.78461181 0.64079128 0.         0.        ]\n",
      " [0.5574779  0.18146603 0.92059533 0.45803178 0.29185809]\n",
      " [0.55280537 0.70980445 0.69701329 0.89301749 0.59234908]]\n"
     ]
    }
   ],
   "source": [
    "print(loaded_zip['rand_mat'])\n",
    "print('')\n",
    "print(loaded_zip['rand_mat2'])\n",
    "\n",
    "new_array  = loaded_zip['rand_mat']\n",
    "print(new_array)"
   ]
  },
  {
   "cell_type": "code",
   "execution_count": 33,
   "metadata": {},
   "outputs": [
    {
     "name": "stdout",
     "output_type": "stream",
     "text": [
      "[[3.         3.         3.         0.90790247 0.61634988]\n",
      " [3.         3.         3.         0.         0.        ]\n",
      " [0.220919   0.78461181 0.64079128 0.         0.        ]\n",
      " [0.5574779  0.18146603 0.92059533 0.45803178 0.29185809]\n",
      " [0.55280537 0.70980445 0.69701329 0.89301749 0.59234908]]\n",
      "\n",
      "[[3.         3.         3.         0.90790247 0.61634988]\n",
      " [3.         3.         3.         0.         0.        ]\n",
      " [0.220919   0.78461181 0.64079128 0.         0.        ]\n",
      " [0.5574779  0.18146603 0.92059533 0.45803178 0.29185809]\n",
      " [0.55280537 0.70980445 0.69701329 0.89301749 0.59234908]]\n"
     ]
    }
   ],
   "source": [
    "# we can also save/load as text files...but only single variables\n",
    "np.savetxt('text_file_name.txt',rand_mat,delimiter=',')\n",
    "rand_mat_txt = np.loadtxt('text_file_name.txt',delimiter=',')\n",
    "print(rand_mat)\n",
    "print('')\n",
    "print(rand_mat_txt)"
   ]
  },
  {
   "cell_type": "code",
   "execution_count": null,
   "metadata": {},
   "outputs": [],
   "source": []
  }
 ],
 "metadata": {
  "kernelspec": {
   "display_name": "Python 3",
   "language": "python",
   "name": "python3"
  },
  "language_info": {
   "codemirror_mode": {
    "name": "ipython",
    "version": 3
   },
   "file_extension": ".py",
   "mimetype": "text/x-python",
   "name": "python",
   "nbconvert_exporter": "python",
   "pygments_lexer": "ipython3",
   "version": "3.9.5"
  }
 },
 "nbformat": 4,
 "nbformat_minor": 4
}
