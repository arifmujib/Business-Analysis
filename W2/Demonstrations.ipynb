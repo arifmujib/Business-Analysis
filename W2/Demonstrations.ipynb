{
 "cells": [
  {
   "cell_type": "code",
   "execution_count": 1,
   "id": "0f0f204f-584f-4680-9e40-9d017c342e46",
   "metadata": {},
   "outputs": [],
   "source": [
    "import numpy as np\n",
    "import pandas as pd"
   ]
  },
  {
   "cell_type": "code",
   "execution_count": 2,
   "id": "f8fd6f13-e9c0-49e8-9e33-a90dbff23a94",
   "metadata": {},
   "outputs": [
    {
     "data": {
      "text/plain": [
       "array([[0.975144  , 0.17066514, 0.04299415],\n",
       "       [0.73734761, 0.17117135, 0.4132728 ],\n",
       "       [0.48896668, 0.90383998, 0.34695699]])"
      ]
     },
     "execution_count": 2,
     "metadata": {},
     "output_type": "execute_result"
    }
   ],
   "source": [
    "rand_mat = np.random.rand(3,3)\n",
    "rand_mat"
   ]
  },
  {
   "cell_type": "code",
   "execution_count": 3,
   "id": "5fc3f97d-de2a-4c50-af37-b5c68b6ab69c",
   "metadata": {},
   "outputs": [
    {
     "data": {
      "text/plain": [
       "0.47226207789009106"
      ]
     },
     "execution_count": 3,
     "metadata": {},
     "output_type": "execute_result"
    }
   ],
   "source": [
    "rand_mat.mean()"
   ]
  },
  {
   "cell_type": "code",
   "execution_count": 4,
   "id": "5dcdd68f-f492-47a0-afcb-fb7996b1a9b7",
   "metadata": {},
   "outputs": [
    {
     "data": {
      "text/plain": [
       "0.09941861074794389"
      ]
     },
     "execution_count": 4,
     "metadata": {},
     "output_type": "execute_result"
    }
   ],
   "source": [
    "rand_mat.var()"
   ]
  },
  {
   "cell_type": "code",
   "execution_count": 10,
   "id": "a4faca02-ecd5-45e9-98fd-86bb37601622",
   "metadata": {},
   "outputs": [
    {
     "data": {
      "text/plain": [
       "array([[0.975144  , 0.73734761, 0.48896668],\n",
       "       [0.17066514, 0.17117135, 0.90383998],\n",
       "       [0.04299415, 0.4132728 , 0.34695699]])"
      ]
     },
     "execution_count": 10,
     "metadata": {},
     "output_type": "execute_result"
    }
   ],
   "source": [
    "rand_mat.T"
   ]
  },
  {
   "cell_type": "code",
   "execution_count": 6,
   "id": "82c41785-068d-41f7-aad5-996c59c6e9c5",
   "metadata": {},
   "outputs": [
    {
     "data": {
      "text/plain": [
       "array([[ 0.0248929 ,  0.38112109,  0.77718169, ...,  0.27925188,\n",
       "        -0.97270899,  0.677643  ],\n",
       "       [-2.90091981,  0.1764412 ,  1.09968709, ..., -0.42316456,\n",
       "        -1.68302082, -0.39002583],\n",
       "       [ 1.36545725,  0.22705482, -0.9232604 , ...,  0.44618553,\n",
       "         1.28517278, -2.50315197],\n",
       "       ...,\n",
       "       [ 0.68384341,  0.30125376,  1.07100636, ..., -0.57741015,\n",
       "         0.3905454 ,  0.22841548],\n",
       "       [-1.01897392,  0.24798133, -0.87396222, ..., -0.32110056,\n",
       "         0.20191659,  0.46517589],\n",
       "       [ 1.81057016, -1.45804238, -1.03036946, ...,  3.28506503,\n",
       "         2.27361347, -0.29807123]])"
      ]
     },
     "execution_count": 6,
     "metadata": {},
     "output_type": "execute_result"
    }
   ],
   "source": [
    "std_norm_mat = np.random.randn(15,77)\n",
    "std_norm_mat"
   ]
  },
  {
   "cell_type": "code",
   "execution_count": 7,
   "id": "e890e876-506a-4db2-abdb-28a399c2116f",
   "metadata": {},
   "outputs": [],
   "source": [
    "import matplotlib.pyplot as plt"
   ]
  },
  {
   "cell_type": "code",
   "execution_count": 8,
   "id": "447e7975-7827-447e-8499-40d1c53c040b",
   "metadata": {},
   "outputs": [
    {
     "data": {
      "image/png": "[encoded data removed]",
      "text/plain": [
       "<Figure size 432x288 with 1 Axes>"
      ]
     },
     "metadata": {
      "needs_background": "light"
     },
     "output_type": "display_data"
    }
   ],
   "source": [
    "plt.hist(std_norm_mat.flatten(), bins=20);"
   ]
  },
  {
   "cell_type": "code",
   "execution_count": 9,
   "id": "106cc816-3a36-49b8-9669-4ca4fd59e145",
   "metadata": {},
   "outputs": [
    {
     "data": {
      "text/plain": [
       "array([ 0.0248929 ,  0.38112109,  0.77718169, ...,  3.28506503,\n",
       "        2.27361347, -0.29807123])"
      ]
     },
     "execution_count": 9,
     "metadata": {},
     "output_type": "execute_result"
    }
   ],
   "source": [
    "std_norm_mat.flatten()"
   ]
  },
  {
   "cell_type": "code",
   "execution_count": null,
   "id": "8b21b148-dab8-4b31-8f3c-4fe946e8a0b9",
   "metadata": {},
   "outputs": [],
   "source": []
  },
  {
   "cell_type": "code",
   "execution_count": null,
   "id": "30eed6b3-d160-4cfb-9f59-085ef4c10696",
   "metadata": {},
   "outputs": [],
   "source": []
  }
 ],
 "metadata": {
  "kernelspec": {
   "display_name": "Python 3",
   "language": "python",
   "name": "python3"
  },
  "language_info": {
   "codemirror_mode": {
    "name": "ipython",
    "version": 3
   },
   "file_extension": ".py",
   "mimetype": "text/x-python",
   "name": "python",
   "nbconvert_exporter": "python",
   "pygments_lexer": "ipython3",
   "version": "3.9.5"
  }
 },
 "nbformat": 4,
 "nbformat_minor": 5
}
