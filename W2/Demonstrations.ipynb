{
 "cells": [
  {
   "cell_type": "code",
   "execution_count": 1,
   "id": "0f0f204f-584f-4680-9e40-9d017c342e46",
   "metadata": {},
   "outputs": [],
   "source": [
    "import numpy as np\n",
    "import pandas as pd"
   ]
  },
  {
   "cell_type": "code",
   "execution_count": 2,
   "id": "f8fd6f13-e9c0-49e8-9e33-a90dbff23a94",
   "metadata": {},
   "outputs": [
    {
     "data": {
      "text/plain": [
       "array([[0.60791728, 0.58306035, 0.99062446, 0.90372372, 0.66027657],\n",
       "       [0.48330913, 0.96197884, 0.24258746, 0.96060124, 0.32057056],\n",
       "       [0.77534995, 0.01863437, 0.84264424, 0.4619509 , 0.92114113],\n",
       "       [0.77092787, 0.13740164, 0.36958707, 0.47791232, 0.33032933],\n",
       "       [0.16598768, 0.41439801, 0.58015001, 0.7440287 , 0.6215013 ]])"
      ]
     },
     "execution_count": 2,
     "metadata": {},
     "output_type": "execute_result"
    }
   ],
   "source": [
    "rand_mat = np.random.rand(5,5)\n",
    "rand_mat"
   ]
  },
  {
   "cell_type": "code",
   "execution_count": 3,
   "id": "5fc3f97d-de2a-4c50-af37-b5c68b6ab69c",
   "metadata": {},
   "outputs": [
    {
     "data": {
      "text/plain": [
       "0.5738637664085626"
      ]
     },
     "execution_count": 3,
     "metadata": {},
     "output_type": "execute_result"
    }
   ],
   "source": [
    "rand_mat.mean()"
   ]
  },
  {
   "cell_type": "code",
   "execution_count": 6,
   "id": "5dcdd68f-f492-47a0-afcb-fb7996b1a9b7",
   "metadata": {},
   "outputs": [
    {
     "data": {
      "text/plain": [
       "0.07561559555879935"
      ]
     },
     "execution_count": 6,
     "metadata": {},
     "output_type": "execute_result"
    }
   ],
   "source": [
    "rand_mat.var()"
   ]
  },
  {
   "cell_type": "code",
   "execution_count": 7,
   "id": "a4faca02-ecd5-45e9-98fd-86bb37601622",
   "metadata": {},
   "outputs": [
    {
     "data": {
      "text/plain": [
       "0.08333333333333333"
      ]
     },
     "execution_count": 7,
     "metadata": {},
     "output_type": "execute_result"
    }
   ],
   "source": [
    "1/12"
   ]
  },
  {
   "cell_type": "code",
   "execution_count": 16,
   "id": "82c41785-068d-41f7-aad5-996c59c6e9c5",
   "metadata": {},
   "outputs": [
    {
     "data": {
      "text/plain": [
       "array([[ 0.05121926,  0.62414434, -0.21751167, ...,  0.09462044,\n",
       "        -1.88225972,  0.42956453],\n",
       "       [-0.63551747, -1.85508818,  2.11330966, ..., -0.17718537,\n",
       "        -0.1466339 ,  0.81727668],\n",
       "       [-0.01090003, -0.72687049,  1.03329031, ..., -0.4469712 ,\n",
       "        -2.39950772, -0.01010772],\n",
       "       ...,\n",
       "       [ 1.44120086,  2.50837503,  3.0626221 , ..., -2.29612983,\n",
       "         0.14878453, -0.1908875 ],\n",
       "       [-0.66178227,  0.93790366, -0.42101923, ...,  1.56816018,\n",
       "         0.76920897,  1.76647144],\n",
       "       [ 1.23988167,  1.81917034, -0.0373743 , ...,  0.7030909 ,\n",
       "         1.20983814,  0.67889717]])"
      ]
     },
     "execution_count": 16,
     "metadata": {},
     "output_type": "execute_result"
    }
   ],
   "source": [
    "std_norm_mat = np.random.randn(15,77)\n",
    "std_norm_mat"
   ]
  },
  {
   "cell_type": "code",
   "execution_count": 11,
   "id": "e890e876-506a-4db2-abdb-28a399c2116f",
   "metadata": {},
   "outputs": [],
   "source": [
    "import matplotlib.pyplot as plt"
   ]
  },
  {
   "cell_type": "code",
   "execution_count": 19,
   "id": "447e7975-7827-447e-8499-40d1c53c040b",
   "metadata": {},
   "outputs": [
    {
     "data": {
      "image/png": "[encoded data removed]",
      "text/plain": [
       "<Figure size 432x288 with 1 Axes>"
      ]
     },
     "metadata": {
      "needs_background": "light"
     },
     "output_type": "display_data"
    }
   ],
   "source": [
    "plt.hist(std_norm_mat.flatten(), bins=20);"
   ]
  },
  {
   "cell_type": "code",
   "execution_count": 14,
   "id": "106cc816-3a36-49b8-9669-4ca4fd59e145",
   "metadata": {},
   "outputs": [
    {
     "data": {
      "text/plain": [
       "array([ 0.25961349, -1.11316181, -1.2934827 , -2.15903205,  1.40473608,\n",
       "        0.33328062, -0.06865606, -1.22186683,  1.81197266,  1.6254733 ,\n",
       "       -0.08238841,  0.01869467,  0.34988164,  0.10144141, -0.08205204,\n",
       "       -0.39391875,  2.61410554,  0.8870266 , -0.13573033,  0.9074942 ,\n",
       "        1.19197541,  1.13624481, -0.62236513, -0.79315619,  0.97699779,\n",
       "       -0.05406897, -0.88483731,  0.99530967,  0.2176647 ,  0.21615004,\n",
       "       -1.19584588,  0.43001449, -0.26050928,  2.03446955,  1.23712099])"
      ]
     },
     "execution_count": 14,
     "metadata": {},
     "output_type": "execute_result"
    }
   ],
   "source": [
    "std_norm_mat.flatten()"
   ]
  },
  {
   "cell_type": "code",
   "execution_count": 25,
   "id": "8b21b148-dab8-4b31-8f3c-4fe946e8a0b9",
   "metadata": {},
   "outputs": [
    {
     "data": {
      "text/plain": [
       "2"
      ]
     },
     "execution_count": 25,
     "metadata": {},
     "output_type": "execute_result"
    }
   ],
   "source": []
  },
  {
   "cell_type": "code",
   "execution_count": null,
   "id": "30eed6b3-d160-4cfb-9f59-085ef4c10696",
   "metadata": {},
   "outputs": [],
   "source": []
  }
 ],
 "metadata": {
  "kernelspec": {
   "display_name": "Python 3",
   "language": "python",
   "name": "python3"
  },
  "language_info": {
   "codemirror_mode": {
    "name": "ipython",
    "version": 3
   },
   "file_extension": ".py",
   "mimetype": "text/x-python",
   "name": "python",
   "nbconvert_exporter": "python",
   "pygments_lexer": "ipython3",
   "version": "3.9.5"
  }
 },
 "nbformat": 4,
 "nbformat_minor": 5
}
