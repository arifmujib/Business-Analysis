{
 "cells": [
  {
   "cell_type": "markdown",
   "metadata": {},
   "source": [
    "### Importing the necessary libraries"
   ]
  },
  {
   "cell_type": "code",
   "execution_count": 1,
   "metadata": {},
   "outputs": [],
   "source": [
    "import numpy as np\n",
    "import pandas as pd\n",
    "import matplotlib.pyplot as plt\n",
    "import scipy.stats as stats"
   ]
  },
  {
   "cell_type": "markdown",
   "metadata": {
    "_cell_guid": "9b9566bb-e9b5-4b48-9b45-0194167d2b2b",
    "_uuid": "6256e72b89e829fc8583163418120a3e50aaa156",
    "colab_type": "text",
    "id": "euOWOovJE43G"
   },
   "source": [
    "# 1. One-sample t-test \n",
    "\n",
    "The mass of a sample of N = 20 acorns from a forest subjected to acid rain from a coal power plant are m = [8.8, 6.6, 9.5, 11.2, 10.2, 7.4, 8.0, 9.6, 9.9, 9.0, 7.6, 7.4, 10.4, 11.1, 8.5, 10.0, 11.6, 10.7, 10.3, and 7.0 g ]\n",
    "\n",
    "Does this sample provide enough evidence (alpha = 0.05) to say that the average mass of all acorns is different from 10 g?"
   ]
  },
  {
   "cell_type": "markdown",
   "metadata": {},
   "source": [
    "**a) Formulate the null and alternate hypothesis**\n",
    "\n",
    "$H_0$:  μ = 10, The average mass of the acorns is 10 g\n",
    "\n",
    "$H_a$:  μ $\\neq$ 10, The average mass of the acorns is different from 10 g"
   ]
  },
  {
   "cell_type": "markdown",
   "metadata": {},
   "source": [
    "**b) Calculate the test-statistic and based on the p-value provide a conclusion.**"
   ]
  },
  {
   "cell_type": "code",
   "execution_count": 2,
   "metadata": {
    "_cell_guid": "4148d56b-fa5a-4e96-b67c-1e57bccf6417",
    "_uuid": "763af9076a0089015fc6d5d85c17e344b50b5a48",
    "colab": {},
    "colab_type": "code",
    "id": "cmPwcZrXE43G",
    "outputId": "3a006dcc-398f-486f-ff03-c75f8730385a",
    "scrolled": true
   },
   "outputs": [
    {
     "name": "stdout",
     "output_type": "stream",
     "text": [
      "tstat =  -2.2491611580763973 , p-value =  0.03655562279112415\n"
     ]
    }
   ],
   "source": [
    "x = [8.8, 6.6, 9.5, 11.2, 10.2, 7.4, 8.0, 9.6, 9.9, 9.0,\n",
    "     7.6, 7.4, 10.4, 11.1, 8.5, 10.0, 11.6, 10.7, 10.3, 7.0]\n",
    "\n",
    "mu = 10\n",
    "\n",
    "t, p = stats.ttest_1samp(x, popmean = mu)\n",
    "print(\"tstat = \", t, \", p-value = \", p)"
   ]
  },
  {
   "cell_type": "markdown",
   "metadata": {
    "_cell_guid": "b2894e2f-f2ab-4004-af72-0cbaa592d286",
    "_uuid": "662933c050f5d099e89102fa8779f69d1f3ac8b2",
    "colab_type": "text",
    "id": "72xPNgoXE43J"
   },
   "source": [
    "Since p-value(~0.04) < 0.05 (alpha), we reject the null hypothesis and conclude that the average mass of the acorns is different from 10 g."
   ]
  },
  {
   "cell_type": "markdown",
   "metadata": {
    "_cell_guid": "fd17fd23-4f92-403e-aada-0b61433b22e9",
    "_uuid": "948240552a9daac38010e7ec652d02adbdfab6f7",
    "colab_type": "text",
    "id": "ulAnmKcwE43M"
   },
   "source": [
    "# 2. Independent (unpaired) two-sample t-test\n",
    "\n",
    "The mass of N<sub>1</sub> = 20 acorns from oak trees up wind from a coal power plant and N<sub>2</sub> = 30 acorns from oak trees down wind from the same coal power plant are measured. Is the mass of acorns from trees down wind different from the ones from up wind at a significance level of 0.05? The sample sizes are not equal but we will assume that the population variance for sample 1 and sample 2 are equal.\n",
    "\n",
    "#### sample up wind:\n",
    "x1 = [10.8, 10.0, 8.2, 9.9, 11.6, 10.1, 11.3, 10.3, 10.7, 9.7, \n",
    "      7.8, 9.6, 9.7, 11.6, 10.3, 9.8, 12.3, 11.0, 10.4, 10.4]\n",
    "\n",
    "#### sample down wind:\n",
    "x2 = [7.8, 7.5, 9.5, 11.7, 8.1, 8.8, 8.8, 7.7, 9.7, 7.0, \n",
    "      9.0, 9.7, 11.3, 8.7, 8.8, 10.9, 10.3, 9.6, 8.4, 6.6,\n",
    "      7.2, 7.6, 11.5, 6.6, 8.6, 10.5, 8.4, 8.5, 10.2, 9.2]\n"
   ]
  },
  {
   "cell_type": "markdown",
   "metadata": {},
   "source": [
    "**a) Formulate the null and alternate hypothesis.**"
   ]
  },
  {
   "cell_type": "markdown",
   "metadata": {},
   "source": [
    "$H_0$: $\\mu_1 = \\mu_2$, There is no difference between the average mass of acorns from down wind and up wind trees\n",
    "\n",
    "$H_a$: $\\mu1 \\neq \\mu2$, There is a difference between the average mass of acorns from down wind and up wind trees\n"
   ]
  },
  {
   "cell_type": "markdown",
   "metadata": {},
   "source": [
    "**b) Calculate the test-statistic and based on the p-value provide a conclusion.**"
   ]
  },
  {
   "cell_type": "code",
   "execution_count": 3,
   "metadata": {
    "_cell_guid": "f2b15c98-92e0-4f2b-90e1-beb62cc3ae03",
    "_uuid": "fa96a81f7f2ca3b6cb195dd0e0c087b8d30b348b",
    "colab": {},
    "colab_type": "code",
    "id": "uS5i2yATE43M",
    "outputId": "5032c658-d5c0-44f2-9ad3-936de89d0a43"
   },
   "outputs": [
    {
     "name": "stdout",
     "output_type": "stream",
     "text": [
      "tstat =  3.5981947686898033 , p_value =  0.0007560337478801464\n"
     ]
    }
   ],
   "source": [
    "# sample up wind\n",
    "x1 = [10.8, 10.0, 8.2, 9.9, 11.6, 10.1, 11.3, 10.3, 10.7, 9.7, \n",
    "      7.8, 9.6, 9.7, 11.6, 10.3, 9.8, 12.3, 11.0, 10.4, 10.4]\n",
    "\n",
    "# sample down wind\n",
    "x2 = [7.8, 7.5, 9.5, 11.7, 8.1, 8.8, 8.8, 7.7, 9.7, 7.0, \n",
    "      9.0, 9.7, 11.3, 8.7, 8.8, 10.9, 10.3, 9.6, 8.4, 6.6,\n",
    "      7.2, 7.6, 11.5, 6.6, 8.6, 10.5, 8.4, 8.5, 10.2, 9.2]\n",
    "\n",
    "\n",
    "t, p_value = stats.ttest_ind(x1, x2)\n",
    "print(\"tstat = \",t, \", p_value = \", p_value)"
   ]
  },
  {
   "cell_type": "markdown",
   "metadata": {},
   "source": [
    "Since p-value(0.0007) < 0.05 (alpha), we reject the null hypothesis and conclude that there is a difference in the two means."
   ]
  },
  {
   "cell_type": "markdown",
   "metadata": {
    "_cell_guid": "9b5d97b5-9c0c-4a45-b333-36d3bdeecdcc",
    "_uuid": "8520e337989f942369ad861e6aebece17394efe3",
    "colab_type": "text",
    "collapsed": true,
    "id": "1qEyYs3GE43P"
   },
   "source": [
    "# 3. Paired samples t-test\n",
    "\n",
    "The average mass of acorns from the same N = 30 trees downwind of a power plant is measured before (x<sub>1</sub>) and after (x<sub>2</sub>) the power plant converts from burning coal to burning natural gas. Does the mass of the acorns change after the conversion from coal to natural gas at a significance level of 0.05? \n",
    "\n",
    "### sample before conversion to natural gas\n",
    "x1 = np.array([10.8, 6.4, 8.3, 7.6, 11.4, 9.9, 10.6, 8.7, 8.1, 10.9,\n",
    "      11.0, 11.8, 7.3, 9.6, 9.3, 9.9, 9.0, 9.5, 10.6, 10.3,\n",
    "      8.8, 12.3, 8.9, 10.5, 11.6, 7.6, 8.9, 10.4, 10.2, 8.8])\n",
    "\n",
    "### sample after conversion to natural gas\n",
    "x2 = np.array([10.1, 6.9, 8.6, 8.8, 12.1, 11.3, 12.4, 9.3, 9.3, 10.8,\n",
    "      12.4, 11.5, 7.4, 10.0, 11.1, 10.6, 9.4, 9.5, 10.0, 10.0,\n",
    "      9.7, 13.5, 9.6, 11.6, 11.7, 7.9, 8.6, 10.8, 9.5, 9.6])\n",
    "\n"
   ]
  },
  {
   "cell_type": "markdown",
   "metadata": {},
   "source": [
    "**a) Formulate the null and alternate hypothesis.**\n",
    "\n",
    "* H<sub>0</sub>: $\\mu_1 = \\mu_2$ (The average mass of the acorns before and after conversion is not different)\n",
    "* H<sub>1</sub>: $\\mu_1 \\neq \\mu_2$ (The average mass of the acorns before and after conversion is different)"
   ]
  },
  {
   "cell_type": "markdown",
   "metadata": {},
   "source": [
    "**b) Calculate the test-statistic and based on the p-value provide a conclusion.**"
   ]
  },
  {
   "cell_type": "code",
   "execution_count": 4,
   "metadata": {
    "_cell_guid": "d5690fde-4d81-4f50-93c0-cad681140c71",
    "_uuid": "a256d0a2cc6426f642854fc66a63dd146d37bcf7",
    "colab": {},
    "colab_type": "code",
    "id": "sn_qG1AbE43P",
    "outputId": "e57eccc9-9b57-4bf9-8656-84b21fa38fdb"
   },
   "outputs": [
    {
     "name": "stdout",
     "output_type": "stream",
     "text": [
      "tstat =  -3.905439081326491 , p-value =  0.0005168689824684378\n"
     ]
    }
   ],
   "source": [
    "# sample before conversion to natural gas\n",
    "x1 = np.array([10.8, 6.4, 8.3, 7.6, 11.4, 9.9, 10.6, 8.7, 8.1, 10.9,\n",
    "      11.0, 11.8, 7.3, 9.6, 9.3, 9.9, 9.0, 9.5, 10.6, 10.3,\n",
    "      8.8, 12.3, 8.9, 10.5, 11.6, 7.6, 8.9, 10.4, 10.2, 8.8])\n",
    "# sample after conversion to natural gas\n",
    "x2 = np.array([10.1, 6.9, 8.6, 8.8, 12.1, 11.3, 12.4, 9.3, 9.3, 10.8,\n",
    "      12.4, 11.5, 7.4, 10.0, 11.1, 10.6, 9.4, 9.5, 10.0, 10.0,\n",
    "      9.7, 13.5, 9.6, 11.6, 11.7, 7.9, 8.6, 10.8, 9.5, 9.6])\n",
    "\n",
    "\n",
    "t, p = stats.ttest_rel(x1, x2)\n",
    "print(\"tstat = \", t, \", p-value = \", p) "
   ]
  },
  {
   "cell_type": "markdown",
   "metadata": {},
   "source": [
    "Since p-value(0.0005) < 0.05 (alpha), we reject the null hypothesis and conclude that there is a significant difference between the means of the acorns before and after the power plant converts from burning coal to burning natural gas.\n"
   ]
  },
  {
   "cell_type": "markdown",
   "metadata": {},
   "source": [
    "# 4. ANOVA test\n",
    "\n",
    "The marks obtained by 5 randomly picked students in Mathematics exam from three sections A, B, and C are as follows:\n",
    "\n",
    "### Marks of 5 randomly picked students from Section A\n",
    "A = [51, 45, 33, 45, 67]\n",
    "\n",
    "### Marks of 5 randomly picked students from Section B\n",
    "B = [23, 43, 23, 43, 45]\n",
    "\n",
    "### Marks of 5 randomly picked students from Section C\n",
    "C = [56, 76, 74, 87, 56]\n",
    "\n",
    "Does the sample provide enough evidence to say that the mean marks of students in the three sections are different?"
   ]
  },
  {
   "cell_type": "markdown",
   "metadata": {},
   "source": [
    "**a) Formulate the null and alternate hypothesis.**"
   ]
  },
  {
   "cell_type": "markdown",
   "metadata": {},
   "source": [
    "$H_0$: The mean marks of students in the three sections are equal\n",
    "\n",
    "$H_a$: At least one of the mean marks of students in the three sections is unequal."
   ]
  },
  {
   "cell_type": "markdown",
   "metadata": {},
   "source": [
    "**b) Calculate the test-statistic and based on the p-value provide a conclusion.**"
   ]
  },
  {
   "cell_type": "code",
   "execution_count": 5,
   "metadata": {},
   "outputs": [
    {
     "name": "stdout",
     "output_type": "stream",
     "text": [
      "tstat =  9.747205503009463 , p-value =  0.0030597541434430556\n"
     ]
    }
   ],
   "source": [
    "# marks of students in section A\n",
    "A = np.array([51, 45, 33, 45, 67])\n",
    "\n",
    "# marks of students in section B\n",
    "B = np.array([23,43,23,43,45])\n",
    "\n",
    "# marks of students in section C\n",
    "C = np.array([56, 76, 74, 87, 56])\n",
    "\n",
    "# performing a one-way ANOVA test\n",
    "t, p = stats.f_oneway(A, B, C)\n",
    "print(\"tstat = \", t, \", p-value = \", p)"
   ]
  },
  {
   "cell_type": "markdown",
   "metadata": {},
   "source": [
    "Since p-value(0.003) < 0.05 (alpha), we reject the null hypothesis and conclude that atleast one of the mean marks of students in the three sections is unequal."
   ]
  }
 ],
 "metadata": {
  "kernelspec": {
   "display_name": "Python 3 (ipykernel)",
   "language": "python",
   "name": "python3"
  },
  "language_info": {
   "codemirror_mode": {
    "name": "ipython",
    "version": 3
   },
   "file_extension": ".py",
   "mimetype": "text/x-python",
   "name": "python",
   "nbconvert_exporter": "python",
   "pygments_lexer": "ipython3",
   "version": "3.9.7"
  },
  "toc": {
   "base_numbering": 1,
   "nav_menu": {},
   "number_sections": true,
   "sideBar": true,
   "skip_h1_title": false,
   "title_cell": "Table of Contents",
   "title_sidebar": "Contents",
   "toc_cell": false,
   "toc_position": {},
   "toc_section_display": true,
   "toc_window_display": false
  }
 },
 "nbformat": 4,
 "nbformat_minor": 4
}
