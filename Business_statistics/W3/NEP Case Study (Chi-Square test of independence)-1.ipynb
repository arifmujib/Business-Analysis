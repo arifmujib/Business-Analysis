{
 "cells": [
  {
   "cell_type": "markdown",
   "metadata": {
    "id": "j-6FwhbcvcKF"
   },
   "source": [
    "# NEP Case Study"
   ]
  },
  {
   "cell_type": "markdown",
   "metadata": {
    "id": "J_RhyX25vcKM"
   },
   "source": [
    "## Problem Statement"
   ]
  },
  {
   "cell_type": "markdown",
   "metadata": {
    "id": "S4xvNOIvvcKN"
   },
   "source": [
    "**A survey was done, after the draft National Education Policy (NEP) 2020 was published in a country, with 577 college teachers. Each of them was asked whether they voted for the ruling party in 2019 or not and whether they are in favor of or against the NEP. Using the survey data, can we say with statistical evidence that voting preference is not independent of opinion on NEP?**"
   ]
  },
  {
   "cell_type": "markdown",
   "metadata": {
    "id": "ybtylzDRvdKO"
   },
   "source": [
    "## Data Dictionary\n",
    "\n",
    "The survey dataset contains the following columns\n",
    "\n",
    "`college code`: Unique identification code for the college\n",
    "\n",
    "`favours NEP`: Is the college teacher in favour of NEP (Yes/No)\n",
    "\n",
    "`voted for ruling party`: Did the college teacher vote for the ruling party in 2019? (Yes/No)\n",
    "\n",
    "`experience`: Years of experience of the college teacher"
   ]
  },
  {
   "cell_type": "markdown",
   "metadata": {
    "id": "gNp_DUjCvcKO"
   },
   "source": [
    "### Import the necessary libraries"
   ]
  },
  {
   "cell_type": "code",
   "execution_count": 1,
   "metadata": {
    "id": "-p1mAieHvcKP"
   },
   "outputs": [],
   "source": [
    "import numpy as np\n",
    "import pandas as pd\n",
    "import matplotlib.pyplot as plt\n",
    "import seaborn as sns\n",
    "from scipy.stats import chi2_contingency   # For Chi-Square test"
   ]
  },
  {
   "cell_type": "markdown",
   "metadata": {
    "id": "mcJMxz7YvcKS"
   },
   "source": [
    "### Reading the data into the DataFrame"
   ]
  },
  {
   "cell_type": "code",
   "execution_count": 2,
   "metadata": {
    "id": "2-WpHk0DvcKT"
   },
   "outputs": [],
   "source": [
    "df = pd.read_csv('NEP.csv')"
   ]
  },
  {
   "cell_type": "code",
   "execution_count": 3,
   "metadata": {
    "colab": {
     "base_uri": "https://localhost:8080/",
     "height": 206
    },
    "id": "_jYRGrAQvcKU",
    "outputId": "b1e23c21-9357-4d72-d89e-13307f8dd935"
   },
   "outputs": [
    {
     "data": {
      "text/html": [
       "<div>\n",
       "<style scoped>\n",
       "    .dataframe tbody tr th:only-of-type {\n",
       "        vertical-align: middle;\n",
       "    }\n",
       "\n",
       "    .dataframe tbody tr th {\n",
       "        vertical-align: top;\n",
       "    }\n",
       "\n",
       "    .dataframe thead th {\n",
       "        text-align: right;\n",
       "    }\n",
       "</style>\n",
       "<table border=\"1\" class=\"dataframe\">\n",
       "  <thead>\n",
       "    <tr style=\"text-align: right;\">\n",
       "      <th></th>\n",
       "      <th>college code</th>\n",
       "      <th>favours NEP</th>\n",
       "      <th>voted for ruling party</th>\n",
       "      <th>experience</th>\n",
       "    </tr>\n",
       "  </thead>\n",
       "  <tbody>\n",
       "    <tr>\n",
       "      <th>0</th>\n",
       "      <td>C3439</td>\n",
       "      <td>Yes</td>\n",
       "      <td>Yes</td>\n",
       "      <td>10</td>\n",
       "    </tr>\n",
       "    <tr>\n",
       "      <th>1</th>\n",
       "      <td>C3483</td>\n",
       "      <td>No</td>\n",
       "      <td>No</td>\n",
       "      <td>9</td>\n",
       "    </tr>\n",
       "    <tr>\n",
       "      <th>2</th>\n",
       "      <td>C2753</td>\n",
       "      <td>Yes</td>\n",
       "      <td>Yes</td>\n",
       "      <td>9</td>\n",
       "    </tr>\n",
       "    <tr>\n",
       "      <th>3</th>\n",
       "      <td>C3242</td>\n",
       "      <td>Yes</td>\n",
       "      <td>Yes</td>\n",
       "      <td>3</td>\n",
       "    </tr>\n",
       "    <tr>\n",
       "      <th>4</th>\n",
       "      <td>C2402</td>\n",
       "      <td>No</td>\n",
       "      <td>No</td>\n",
       "      <td>5</td>\n",
       "    </tr>\n",
       "  </tbody>\n",
       "</table>\n",
       "</div>"
      ],
      "text/plain": [
       "  college code favours NEP voted for ruling party  experience\n",
       "0        C3439         Yes                    Yes          10\n",
       "1        C3483          No                     No           9\n",
       "2        C2753         Yes                    Yes           9\n",
       "3        C3242         Yes                    Yes           3\n",
       "4        C2402          No                     No           5"
      ]
     },
     "execution_count": 3,
     "metadata": {},
     "output_type": "execute_result"
    }
   ],
   "source": [
    "# let's look at the first five rows\n",
    "df.head()"
   ]
  },
  {
   "cell_type": "code",
   "execution_count": 4,
   "metadata": {
    "colab": {
     "base_uri": "https://localhost:8080/"
    },
    "id": "okNos1BsyJtv",
    "outputId": "a45ca1ca-e8fc-43fb-e1b6-779bc7ed5eae"
   },
   "outputs": [
    {
     "data": {
      "text/plain": [
       "(577, 4)"
      ]
     },
     "execution_count": 4,
     "metadata": {},
     "output_type": "execute_result"
    }
   ],
   "source": [
    "# shape of the data\n",
    "df.shape"
   ]
  },
  {
   "cell_type": "markdown",
   "metadata": {
    "id": "rJ9jDMw4yQ2t"
   },
   "source": [
    "The dataset contains 577 rows and 4 columns."
   ]
  },
  {
   "cell_type": "markdown",
   "metadata": {
    "id": "f1VGBGzGzaxX"
   },
   "source": [
    "### Check for missing values"
   ]
  },
  {
   "cell_type": "code",
   "execution_count": 5,
   "metadata": {
    "colab": {
     "base_uri": "https://localhost:8080/"
    },
    "id": "3tk6wTKdzf_y",
    "outputId": "07ba9de5-d5fd-4d45-9df2-eea5a8e2a69e"
   },
   "outputs": [
    {
     "data": {
      "text/plain": [
       "college code              0\n",
       "favours NEP               0\n",
       "voted for ruling party    0\n",
       "experience                0\n",
       "dtype: int64"
      ]
     },
     "execution_count": 5,
     "metadata": {},
     "output_type": "execute_result"
    }
   ],
   "source": [
    "df.isna().sum()"
   ]
  },
  {
   "cell_type": "markdown",
   "metadata": {
    "id": "vdqQi1zSznGw"
   },
   "source": [
    "There are no missing values in any of the column"
   ]
  },
  {
   "cell_type": "markdown",
   "metadata": {
    "id": "r2djSiSxzxsl"
   },
   "source": [
    "Let's check the value counts of both the categorical features"
   ]
  },
  {
   "cell_type": "code",
   "execution_count": 6,
   "metadata": {
    "colab": {
     "base_uri": "https://localhost:8080/"
    },
    "id": "7KBN31pJz4y3",
    "outputId": "9843d777-22e8-4be0-94db-c154b91b1a45"
   },
   "outputs": [
    {
     "data": {
      "text/plain": [
       "No     307\n",
       "Yes    270\n",
       "Name: favours NEP, dtype: int64"
      ]
     },
     "execution_count": 6,
     "metadata": {},
     "output_type": "execute_result"
    }
   ],
   "source": [
    "df['favours NEP'].value_counts()"
   ]
  },
  {
   "cell_type": "code",
   "execution_count": 7,
   "metadata": {
    "colab": {
     "base_uri": "https://localhost:8080/"
    },
    "id": "mAyxToF_z9uP",
    "outputId": "4e4fe2cb-15d1-4a96-eb73-322be2f2d6e5"
   },
   "outputs": [
    {
     "data": {
      "text/plain": [
       "Yes    326\n",
       "No     251\n",
       "Name: voted for ruling party, dtype: int64"
      ]
     },
     "execution_count": 7,
     "metadata": {},
     "output_type": "execute_result"
    }
   ],
   "source": [
    "df['voted for ruling party'].value_counts()"
   ]
  },
  {
   "cell_type": "markdown",
   "metadata": {
    "id": "dlhJ_1Yg0HTl"
   },
   "source": [
    "Let's try to understand the distribution of values better by visualizing it."
   ]
  },
  {
   "cell_type": "code",
   "execution_count": 8,
   "metadata": {
    "colab": {
     "base_uri": "https://localhost:8080/",
     "height": 285
    },
    "id": "bphJQMs60P-s",
    "outputId": "730f84be-51be-472f-cf24-b0cc84abb3b4"
   },
   "outputs": [
    {
     "data": {
      "image/png": "[encoded data removed]",
      "text/plain": [
       "<Figure size 432x288 with 1 Axes>"
      ]
     },
     "metadata": {
      "needs_background": "light"
     },
     "output_type": "display_data"
    }
   ],
   "source": [
    "# create a stacked bar plot to compare the distributions of both the categorical features\n",
    "pd.crosstab(df['favours NEP'],df['voted for ruling party'],normalize='index').plot(kind='bar',stacked =True)\n",
    "plt.legend()\n",
    "plt.show()"
   ]
  },
  {
   "cell_type": "markdown",
   "metadata": {
    "id": "_yhBl6t7XMWd"
   },
   "source": [
    "We can see that the count of people who voted for the ruling party is greater among people who favoured NEP. Let's perform a hypothesis test to check whether we have enough statistical evidence to say that the voting preference is not independent of the opinion on NEP."
   ]
  },
  {
   "cell_type": "markdown",
   "metadata": {
    "id": "4qXAu8l_vcKY"
   },
   "source": [
    "## Step 1: Define null and alternative hypotheses"
   ]
  },
  {
   "cell_type": "markdown",
   "metadata": {
    "id": "s8zr8XwCvcKZ"
   },
   "source": [
    "$H_0:$ Voting preference is independent of Opinion on NEP\n",
    "\n",
    "$H_a:$ Voting preference is NOT independent of Opinion on NEP"
   ]
  },
  {
   "cell_type": "markdown",
   "metadata": {
    "id": "MKIBCEaXvcKZ"
   },
   "source": [
    "## Step 2: Select Appropriate test"
   ]
  },
  {
   "cell_type": "markdown",
   "metadata": {
    "id": "AmFl5LnOvcKa"
   },
   "source": [
    "The formulated hypotheses can be tested using a Chi-square test of independence of attributes, concerning the two categorical variables, favours NEP (in favour of/against the policy) and voting preference (voted/did not vote for ruling party)."
   ]
  },
  {
   "cell_type": "markdown",
   "metadata": {
    "id": "vHm9eKdOvcKa"
   },
   "source": [
    "## Step 3: Decide the significance level"
   ]
  },
  {
   "cell_type": "markdown",
   "metadata": {
    "id": "ZVEzu_VZvcKb"
   },
   "source": [
    "Here, we select α= 0.05."
   ]
  },
  {
   "cell_type": "markdown",
   "metadata": {
    "id": "ABbv-whMvcKb"
   },
   "source": [
    "## Step 4: Data Preparation"
   ]
  },
  {
   "cell_type": "code",
   "execution_count": 9,
   "metadata": {
    "colab": {
     "base_uri": "https://localhost:8080/",
     "height": 143
    },
    "id": "6kjDJ9FdYnoH",
    "outputId": "c89906a3-585f-4af6-b2b3-20cdb79a45fc"
   },
   "outputs": [
    {
     "data": {
      "text/html": [
       "<div>\n",
       "<style scoped>\n",
       "    .dataframe tbody tr th:only-of-type {\n",
       "        vertical-align: middle;\n",
       "    }\n",
       "\n",
       "    .dataframe tbody tr th {\n",
       "        vertical-align: top;\n",
       "    }\n",
       "\n",
       "    .dataframe thead th {\n",
       "        text-align: right;\n",
       "    }\n",
       "</style>\n",
       "<table border=\"1\" class=\"dataframe\">\n",
       "  <thead>\n",
       "    <tr style=\"text-align: right;\">\n",
       "      <th>voted for ruling party</th>\n",
       "      <th>No</th>\n",
       "      <th>Yes</th>\n",
       "    </tr>\n",
       "    <tr>\n",
       "      <th>favours NEP</th>\n",
       "      <th></th>\n",
       "      <th></th>\n",
       "    </tr>\n",
       "  </thead>\n",
       "  <tbody>\n",
       "    <tr>\n",
       "      <th>No</th>\n",
       "      <td>185</td>\n",
       "      <td>122</td>\n",
       "    </tr>\n",
       "    <tr>\n",
       "      <th>Yes</th>\n",
       "      <td>66</td>\n",
       "      <td>204</td>\n",
       "    </tr>\n",
       "  </tbody>\n",
       "</table>\n",
       "</div>"
      ],
      "text/plain": [
       "voted for ruling party   No  Yes\n",
       "favours NEP                     \n",
       "No                      185  122\n",
       "Yes                      66  204"
      ]
     },
     "execution_count": 9,
     "metadata": {},
     "output_type": "execute_result"
    }
   ],
   "source": [
    "# create the contingency table showing the distribution of the two categorical variables\n",
    "contingency_table = pd.crosstab(df['favours NEP'],df['voted for ruling party'])\n",
    "contingency_table"
   ]
  },
  {
   "cell_type": "markdown",
   "metadata": {
    "id": "rZ1IVcpTZTGv"
   },
   "source": [
    "We have created a two-by-two contingency table, with the counts of 'favours NEP' (Yes or No) in the rows and the counts of 'Voted for ruling party' (Yes or No) in the columns."
   ]
  },
  {
   "cell_type": "markdown",
   "metadata": {
    "id": "PkcYDg1yvcKd"
   },
   "source": [
    "## Step 5: Calculate the p-value"
   ]
  },
  {
   "cell_type": "code",
   "execution_count": 10,
   "metadata": {
    "ExecuteTime": {
     "end_time": "2020-05-22T05:27:15.638829Z",
     "start_time": "2020-05-22T05:27:15.506427Z"
    },
    "colab": {
     "base_uri": "https://localhost:8080/"
    },
    "id": "jh9vDeO6vcKd",
    "outputId": "c7173156-a12e-4efc-93f7-3d3e94f6dfba"
   },
   "outputs": [
    {
     "name": "stdout",
     "output_type": "stream",
     "text": [
      "The p-value is 9.91379472642833e-18\n"
     ]
    }
   ],
   "source": [
    "# use chi2_contingency() to find the p-value\n",
    "chi2, pval, dof, exp_freq = chi2_contingency(contingency_table)\n",
    "# print the p-value\n",
    "print('The p-value is', pval)"
   ]
  },
  {
   "cell_type": "markdown",
   "metadata": {
    "ExecuteTime": {
     "end_time": "2020-05-22T05:27:15.867215Z",
     "start_time": "2020-05-22T05:27:15.640821Z"
    },
    "id": "TJLWYZYhvcKe"
   },
   "source": [
    "## Step 6: Compare the p-value with $\\alpha$"
   ]
  },
  {
   "cell_type": "code",
   "execution_count": 11,
   "metadata": {
    "colab": {
     "base_uri": "https://localhost:8080/"
    },
    "id": "6KbyGWgyvcKe",
    "outputId": "c7b00dca-6235-4476-b841-a0b6c16e7492"
   },
   "outputs": [
    {
     "name": "stdout",
     "output_type": "stream",
     "text": [
      "As the p-value 9.91379472642833e-18 is less than the level of significance, we reject the null hypothesis.\n"
     ]
    }
   ],
   "source": [
    "# print the conclusion based on p-value\n",
    "if pval < 0.05:\n",
    "    print(f'As the p-value {pval} is less than the level of significance, we reject the null hypothesis.')\n",
    "else:\n",
    "    print(f'As the p-value {pval} is greater than the level of significance, we fail to reject the null hypothesis.')"
   ]
  },
  {
   "cell_type": "markdown",
   "metadata": {
    "id": "7f_kemQFvcKf"
   },
   "source": [
    "## Step 7:  Conclusion"
   ]
  },
  {
   "cell_type": "markdown",
   "metadata": {
    "id": "Mc9u6EyAvcKf"
   },
   "source": [
    "Since the pvalue is < 0.05, we reject the null hypothesis. Hence, we have enough statistical evidence to say that voting preference is NOT independent of opinion on NEP."
   ]
  },
  {
   "cell_type": "markdown",
   "metadata": {
    "id": "e0RXujHavcKg"
   },
   "source": [
    "### Insight\n",
    "\n",
    "Voting preference of the college teachers is NOT independent of their opinion on the National Education Policy (NEP). "
   ]
  }
 ],
 "metadata": {
  "colab": {
   "name": "NEP Case Study (Chi-Square test of independence)-1.ipynb",
   "provenance": []
  },
  "kernelspec": {
   "display_name": "Python 3",
   "language": "python",
   "name": "python3"
  },
  "language_info": {
   "codemirror_mode": {
    "name": "ipython",
    "version": 3
   },
   "file_extension": ".py",
   "mimetype": "text/x-python",
   "name": "python",
   "nbconvert_exporter": "python",
   "pygments_lexer": "ipython3",
   "version": "3.8.8"
  },
  "toc": {
   "base_numbering": 1,
   "nav_menu": {},
   "number_sections": true,
   "sideBar": true,
   "skip_h1_title": false,
   "title_cell": "Table of Contents",
   "title_sidebar": "Contents",
   "toc_cell": false,
   "toc_position": {},
   "toc_section_display": true,
   "toc_window_display": false
  },
  "varInspector": {
   "cols": {
    "lenName": 16,
    "lenType": 16,
    "lenVar": 40
   },
   "kernels_config": {
    "python": {
     "delete_cmd_postfix": "",
     "delete_cmd_prefix": "del ",
     "library": "var_list.py",
     "varRefreshCmd": "print(var_dic_list())"
    },
    "r": {
     "delete_cmd_postfix": ") ",
     "delete_cmd_prefix": "rm(",
     "library": "var_list.r",
     "varRefreshCmd": "cat(var_dic_list()) "
    }
   },
   "types_to_exclude": [
    "module",
    "function",
    "builtin_function_or_method",
    "instance",
    "_Feature"
   ],
   "window_display": false
  }
 },
 "nbformat": 4,
 "nbformat_minor": 1
}
