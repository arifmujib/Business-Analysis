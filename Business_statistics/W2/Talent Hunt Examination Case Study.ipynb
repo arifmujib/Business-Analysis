{
 "cells": [
  {
   "cell_type": "markdown",
   "id": "09804029",
   "metadata": {},
   "source": [
    "### Background:\n",
    "A research institute conducts a  talent hunt examination every year to hire people who can work on various research projects in the field of Mathematics and Computer Science. ‘A2Z’ institute provides a preparatory program to help the aspirants prepare for the talent hunt exam. The institute has a good record of helping many students clear the exam. Before the application for the next batch starts, the institute wants to attract more aspirants to their program. For this, the institute wants to assure the aspiring students of the quality of results obtained by students enrolled in their program in recent years. \n",
    "\n",
    "However, one challenge in estimating an average score is that every year the exam’s difficulty level varies a little, and the distribution of scores also changes accordingly. The institute keeps a track of the final scores of its alumni who attempted the exam previously. A dataset constituted of a simple random sample of final scores of 600 aspirants from the last three years is prepared by the institute."
   ]
  },
  {
   "cell_type": "markdown",
   "id": "9a6ea0c4",
   "metadata": {},
   "source": [
    "### Objective:\n",
    "\n",
    "The institute wants to provide an estimate of the average score obtained by aspirants enrolled in their program. Keeping in mind the variation in scores every year, the institute wants to estimate a range of scores instead of a single estimate of the average score, to make the estimate more robust. It is known from the history of scores in the exam that the standard deviation of the scores is 10. And the cut-off score in the most recent year was 84.\n",
    "\n",
    "Using the data of the final scores, the institute wants to perform the following task to complete the objective:\n",
    "\n",
    "1. Construct a 95% confidence interval for the mean score that an aspirant has scored after enrolling in the institute’s program.\n",
    "\n",
    "\n",
    "2. Perform a hypothesis test (taking alpha = 5%) to check if the mean score of the aspirants enrolled in the program is less than the last year’s cut-off score, which is 84. Using the test results, verify the confidence interval constructed for the mean score.\n"
   ]
  },
  {
   "cell_type": "markdown",
   "id": "ecc4767a",
   "metadata": {},
   "source": [
    "### Dataset: \n",
    "The dataset contains the final scores of 600 aspirants enrolled in the institute’s program in the last three years."
   ]
  },
  {
   "cell_type": "markdown",
   "id": "15c27a03",
   "metadata": {},
   "source": [
    "### Import the libraries "
   ]
  },
  {
   "cell_type": "code",
   "execution_count": 1,
   "id": "e52eb36f",
   "metadata": {},
   "outputs": [],
   "source": [
    "#import the important packages\n",
    "import pandas as pd #library used for data manipulation and analysis\n",
    "import numpy as np # library used for working with arrays.\n",
    "import matplotlib.pyplot as plt # library for plots and visualisations\n",
    "import seaborn as sns # library for visualisations\n",
    "%matplotlib inline \n",
    "\n",
    "import scipy.stats as stats # this library contains a large number of probability distributions as well as a growing library of statistical functions."
   ]
  },
  {
   "cell_type": "markdown",
   "id": "74aae585",
   "metadata": {},
   "source": [
    "### Read the data"
   ]
  },
  {
   "cell_type": "code",
   "execution_count": 2,
   "id": "d4b88271",
   "metadata": {},
   "outputs": [],
   "source": [
    "df = pd.read_csv('Talent_hunt.csv')"
   ]
  },
  {
   "cell_type": "code",
   "execution_count": 3,
   "id": "c5fa6936",
   "metadata": {},
   "outputs": [
    {
     "data": {
      "text/html": [
       "<div>\n",
       "<style scoped>\n",
       "    .dataframe tbody tr th:only-of-type {\n",
       "        vertical-align: middle;\n",
       "    }\n",
       "\n",
       "    .dataframe tbody tr th {\n",
       "        vertical-align: top;\n",
       "    }\n",
       "\n",
       "    .dataframe thead th {\n",
       "        text-align: right;\n",
       "    }\n",
       "</style>\n",
       "<table border=\"1\" class=\"dataframe\">\n",
       "  <thead>\n",
       "    <tr style=\"text-align: right;\">\n",
       "      <th></th>\n",
       "      <th>final_score</th>\n",
       "    </tr>\n",
       "  </thead>\n",
       "  <tbody>\n",
       "    <tr>\n",
       "      <th>0</th>\n",
       "      <td>85.55</td>\n",
       "    </tr>\n",
       "    <tr>\n",
       "      <th>1</th>\n",
       "      <td>81.11</td>\n",
       "    </tr>\n",
       "    <tr>\n",
       "      <th>2</th>\n",
       "      <td>91.47</td>\n",
       "    </tr>\n",
       "    <tr>\n",
       "      <th>3</th>\n",
       "      <td>83.13</td>\n",
       "    </tr>\n",
       "    <tr>\n",
       "      <th>4</th>\n",
       "      <td>82.73</td>\n",
       "    </tr>\n",
       "  </tbody>\n",
       "</table>\n",
       "</div>"
      ],
      "text/plain": [
       "   final_score\n",
       "0        85.55\n",
       "1        81.11\n",
       "2        91.47\n",
       "3        83.13\n",
       "4        82.73"
      ]
     },
     "execution_count": 3,
     "metadata": {},
     "output_type": "execute_result"
    }
   ],
   "source": [
    "df.head()"
   ]
  },
  {
   "cell_type": "code",
   "execution_count": 4,
   "id": "e3da7117",
   "metadata": {},
   "outputs": [
    {
     "data": {
      "text/plain": [
       "(600, 1)"
      ]
     },
     "execution_count": 4,
     "metadata": {},
     "output_type": "execute_result"
    }
   ],
   "source": [
    "df.shape"
   ]
  },
  {
   "cell_type": "markdown",
   "id": "a3f4f2d3",
   "metadata": {},
   "source": [
    "The dataset contains 600 data points"
   ]
  },
  {
   "cell_type": "markdown",
   "id": "34bb910b",
   "metadata": {},
   "source": [
    "### Visualize data"
   ]
  },
  {
   "cell_type": "code",
   "execution_count": 5,
   "id": "6fe01324",
   "metadata": {},
   "outputs": [
    {
     "data": {
      "image/png": "[encoded data removed]",
      "text/plain": [
       "<Figure size 360x360 with 1 Axes>"
      ]
     },
     "metadata": {
      "needs_background": "light"
     },
     "output_type": "display_data"
    }
   ],
   "source": [
    "# plot a density curve of the distribution of the scores\n",
    "sns.displot(df.final_score,kde=True)\n",
    "plt.show()"
   ]
  },
  {
   "cell_type": "markdown",
   "id": "9e234ede",
   "metadata": {},
   "source": [
    "The scores distribution is a little skewed to the right. Majority of aspirants have scored between 81 and 87"
   ]
  },
  {
   "cell_type": "markdown",
   "id": "af601cdf",
   "metadata": {},
   "source": [
    "### 1. Construct a 95% confidence interval for the mean score secured by an aspirant after enrolling in the institute’s program."
   ]
  },
  {
   "cell_type": "code",
   "execution_count": 6,
   "id": "7e7e7f9a",
   "metadata": {},
   "outputs": [
    {
     "data": {
      "text/plain": [
       "array([84.02, 85.62])"
      ]
     },
     "execution_count": 6,
     "metadata": {},
     "output_type": "execute_result"
    }
   ],
   "source": [
    "# import the required function\n",
    "from scipy.stats import norm\n",
    "\n",
    "# calculate the value of sample mean. Population standard deviation is known to be 10\n",
    "x_bar = df.final_score.mean()\n",
    "sigma = 10\n",
    "\n",
    "n = 600 #sample size\n",
    "\n",
    "# construct the confidence interval\n",
    "np.round(norm.interval(0.95, loc=x_bar, scale=sigma / np.sqrt(n)), 2)"
   ]
  },
  {
   "cell_type": "markdown",
   "id": "01f71f14",
   "metadata": {},
   "source": [
    "The 95% confidence interval obtained for the mean score is [84.02, 85.62]. This means that it is 95% likely that an aspirant enrolled in the institute's program will score, on average, between 84.02 and 85.62."
   ]
  },
  {
   "cell_type": "markdown",
   "id": "04ef6c7f",
   "metadata": {},
   "source": [
    "### 2. Perform a hypothesis test (taking alpha = 5%) to check if the mean score of the aspirants enrolled in the program is less than last year’s cut-off score of 84. Using the test results, verify the confidence interval constructed for the mean score."
   ]
  },
  {
   "cell_type": "markdown",
   "id": "44d697e9",
   "metadata": {},
   "source": [
    "**Let's write the null and alternative hypotheses**"
   ]
  },
  {
   "cell_type": "markdown",
   "id": "946a1f7b",
   "metadata": {},
   "source": [
    "Let $\\mu$ be the mean final_score of all aspirants who enroll in the institute's program.\n",
    "\n",
    "The null and alternative hypothesis can be written as:\n",
    "\n",
    ">$H_0: \\mu >= 84$\n",
    "\n",
    "against the alternate hypothesis\n",
    "\n",
    "> $H_a: \\mu < 84$"
   ]
  },
  {
   "cell_type": "markdown",
   "id": "34c69e47",
   "metadata": {
    "id": "Za3CtsidYe2a"
   },
   "source": [
    "**Are the assumptions of Z-test satisfied?**"
   ]
  },
  {
   "cell_type": "markdown",
   "id": "24b3792a",
   "metadata": {
    "id": "uZEqFhp8V99Y"
   },
   "source": [
    "*   Samples are drawn from a normal distribution - Since the sample size is 600(which is > 30), Central Limit Theorem states that the distribution of sample means will be approximately normal.  \n",
    "*   Observations are from a simple random sample - the institute collected a simple random sample\n",
    "*   Standard deviation is known - Yes\n",
    "\n",
    "\n",
    "Voila! We can use Z-test for this problem."
   ]
  },
  {
   "cell_type": "markdown",
   "id": "f21091f9",
   "metadata": {},
   "source": [
    "**Calculate the Z-statistic value**"
   ]
  },
  {
   "cell_type": "code",
   "execution_count": 7,
   "id": "8cf5da63",
   "metadata": {},
   "outputs": [
    {
     "data": {
      "text/plain": [
       "2.008581589082085"
      ]
     },
     "execution_count": 7,
     "metadata": {},
     "output_type": "execute_result"
    }
   ],
   "source": [
    "# set the values of population mean and population standard deviation \n",
    "mu, sigma = 84, 10\n",
    "\n",
    "# calculate the value of the sample mean from the data\n",
    "x_bar = df.final_score.mean()\n",
    "\n",
    "\n",
    "# calculate the test statistic\n",
    "test_stat = (x_bar - mu) / (sigma/np.sqrt(600))\n",
    "test_stat"
   ]
  },
  {
   "cell_type": "markdown",
   "id": "663d42ca",
   "metadata": {},
   "source": [
    "**The Z test statistic follows a standard normal distribution.**\n",
    "\n",
    "Let's plot the distribution of the Z test statistic and see where the computed test statistic lies in the plot."
   ]
  },
  {
   "cell_type": "code",
   "execution_count": 10,
   "id": "aafe0d41",
   "metadata": {},
   "outputs": [
    {
     "data": {
      "image/png": "[encoded data removed]",
      "text/plain": [
       "<Figure size 432x288 with 1 Axes>"
      ]
     },
     "metadata": {
      "needs_background": "light"
     },
     "output_type": "display_data"
    }
   ],
   "source": [
    "# import the required function\n",
    "from scipy.stats import norm\n",
    "\n",
    "# plotting the distribution of Z test statistic along with the computed test statistic\n",
    "# We are plotting the distributions here to better visualize the calculations\n",
    "x = np.linspace(-4, 4, 100) # create an array of 100 numbers starting from -4 and ending at 4\n",
    "plt.plot(x, norm.pdf(x, 0, 1)) # plot the pdf of the normal distribution\n",
    "plt.axvline(x = test_stat, c = 'r') # draw a vertical red line through the mentioned point\n",
    "plt.axvline(x = -2, c = 'g')\n",
    "\n",
    "plt.show() # display the plot"
   ]
  },
  {
   "cell_type": "markdown",
   "id": "c5361d68",
   "metadata": {},
   "source": [
    "As this is a left-tailed test, the p-value will be the area to the left of the test statistic under the standard normal curve."
   ]
  },
  {
   "cell_type": "code",
   "execution_count": 11,
   "id": "1cf0b5f9",
   "metadata": {},
   "outputs": [
    {
     "data": {
      "text/plain": [
       "0.02229076271630992"
      ]
     },
     "execution_count": 11,
     "metadata": {},
     "output_type": "execute_result"
    }
   ],
   "source": [
    "# calculate the p-value using the cdf() function\n",
    "1 - norm.cdf(test_stat)"
   ]
  },
  {
   "cell_type": "markdown",
   "id": "92d1bee8",
   "metadata": {},
   "source": [
    "### Insight\n",
    "\n",
    "As the p-value ~0.98 is greater than the level of significance (0.05), we fail to reject the null hypothesis. Thus, we do not have enough statistical evidence to say that the mean final score of all aspirants who enroll in the institute's program is less than last year's cutoff of 84."
   ]
  },
  {
   "cell_type": "markdown",
   "id": "1ad77731",
   "metadata": {},
   "source": [
    "This result validates the confidence interval as well. The 95% confidence interval for the mean final score was [84.02,85.62]. And using a statistical hypothesis test at 5% alpha, we did not find significant evidence that the mean final score is less than 84. "
   ]
  },
  {
   "cell_type": "markdown",
   "id": "f542b10b",
   "metadata": {},
   "source": [
    "### Key Takeaways\n",
    "\n",
    "* The estimation theory helped in estimating the mean score of the aspirants who enrolled in the institute's program with 95% confidence.\n",
    "* The statistical test helped us in validating the confidence interval."
   ]
  }
 ],
 "metadata": {
  "kernelspec": {
   "display_name": "Python 3 (ipykernel)",
   "language": "python",
   "name": "python3"
  },
  "language_info": {
   "codemirror_mode": {
    "name": "ipython",
    "version": 3
   },
   "file_extension": ".py",
   "mimetype": "text/x-python",
   "name": "python",
   "nbconvert_exporter": "python",
   "pygments_lexer": "ipython3",
   "version": "3.9.7"
  }
 },
 "nbformat": 4,
 "nbformat_minor": 5
}
