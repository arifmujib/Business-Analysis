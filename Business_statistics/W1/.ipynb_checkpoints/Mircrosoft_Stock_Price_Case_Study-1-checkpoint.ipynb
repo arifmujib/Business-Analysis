{
 "cells": [
  {
   "cell_type": "markdown",
   "metadata": {},
   "source": [
    "# Microsoft Stock Price Case Study"
   ]
  },
  {
   "cell_type": "markdown",
   "metadata": {
    "id": "XNsQZ1xNusNI"
   },
   "source": [
    "## Context\n",
    "\n",
    "Companies' worth or its total market value is called market capitalization or market cap. It is equal to the share price multiplied by the number of shares outstanding. Stock price is a proportional and relative  value of companies' growth. Here, analysing the stock price data will help us to understand a company's growth. Increase in stock price increases the company's market value."
   ]
  },
  {
   "cell_type": "markdown",
   "metadata": {
    "id": "1b4Wmz2fuvSW"
   },
   "source": [
    "## Problem statement\n",
    "\n",
    "We have Collected the latest data of Microsoft Stock price and calculated daily log return which is approximately  normally distributed. Let us try to answer some of the question that will help us to decide roughly whether to invest in the Microsoft shares or not?\n",
    "\n",
    "a) What is the probability that the stock price will drop over 5% in a day? \n",
    "\n",
    "b) What is the probability that the stock price will drop over 10% in a day?\n",
    " \n",
    "c) What is the probability that the stock price will drop over 50% in a year? \n",
    "\n",
    "d) What is the probability that the stock price will drop over 25% in a year?\n",
    "\n",
    "e) What is the 50th percentile  of the yearly stock price?"
   ]
  },
  {
   "cell_type": "markdown",
   "metadata": {
    "id": "qRvk2yIeuzhl"
   },
   "source": [
    "## Data Description\n",
    "\n",
    "Stock price data of Microsoft  is collected from [Yahoo finance](https://finance.yahoo.com/quote/MSFT/history/?guccounter=1&guce_referrer=aHR0cHM6Ly93d3cuZ29vZ2xlLmNvbS8&guce_referrer_sig=AQAAACSI6SR_7Lby3ssAYvSwbF4Vrasme85BzSE1On02J71Ft-9OAY7hldPaYfYfqY4cCXkAj2PzEpzcLOBo3Usc4RC37eM4jZI5bqXmsXoAdEWXXDKLtJpZI4GK2EAXM8HRWFhkkkUckOoyxvcw66UVWlAnUMRswLPnIPNivRXivisH). It has four main attributes, as follows:\n",
    "\n",
    "1. **Date:** Date of the stock price records.\n",
    "\n",
    "2. **Open:** The average value of opened price on a particular day.\n",
    "\n",
    "3. **Close:**  The average value of closed  price on a particular day.\n",
    "\n",
    "4. **Low:** The lowest price reached on a particular day.\n",
    "\n",
    "5. **High:** The highest price reached on a particular day."
   ]
  },
  {
   "cell_type": "markdown",
   "metadata": {
    "id": "74H1TQUju5Cx"
   },
   "source": [
    "### Importing libraries "
   ]
  },
  {
   "cell_type": "code",
   "execution_count": 33,
   "metadata": {
    "id": "PZCzw9HGupYm"
   },
   "outputs": [],
   "source": [
    "import pandas as pd\n",
    "import numpy as np\n",
    "import matplotlib.pyplot as plt\n",
    "import seaborn as sns\n",
    "%matplotlib inline\n",
    "\n",
    "# importing normal distribution functions\n",
    "from scipy.stats import norm "
   ]
  },
  {
   "cell_type": "markdown",
   "metadata": {
    "id": "rx8Lxdtwu_6N"
   },
   "source": [
    "\n",
    "### Reading the Data into the Dataframe"
   ]
  },
  {
   "cell_type": "code",
   "execution_count": 34,
   "metadata": {
    "colab": {
     "base_uri": "https://localhost:8080/",
     "height": 195
    },
    "id": "o2uGcZEuvIB_",
    "outputId": "86f2d5d4-d2f5-4719-e17c-3fcaddc0c14e"
   },
   "outputs": [
    {
     "data": {
      "text/html": [
       "<div>\n",
       "<style scoped>\n",
       "    .dataframe tbody tr th:only-of-type {\n",
       "        vertical-align: middle;\n",
       "    }\n",
       "\n",
       "    .dataframe tbody tr th {\n",
       "        vertical-align: top;\n",
       "    }\n",
       "\n",
       "    .dataframe thead th {\n",
       "        text-align: right;\n",
       "    }\n",
       "</style>\n",
       "<table border=\"1\" class=\"dataframe\">\n",
       "  <thead>\n",
       "    <tr style=\"text-align: right;\">\n",
       "      <th></th>\n",
       "      <th>Date</th>\n",
       "      <th>Open</th>\n",
       "      <th>High</th>\n",
       "      <th>Low</th>\n",
       "      <th>Close</th>\n",
       "      <th>Adj Close</th>\n",
       "      <th>Volume</th>\n",
       "    </tr>\n",
       "  </thead>\n",
       "  <tbody>\n",
       "    <tr>\n",
       "      <th>0</th>\n",
       "      <td>2020-01-10</td>\n",
       "      <td>162.820007</td>\n",
       "      <td>163.220001</td>\n",
       "      <td>161.179993</td>\n",
       "      <td>161.339996</td>\n",
       "      <td>159.648727</td>\n",
       "      <td>20725900</td>\n",
       "    </tr>\n",
       "    <tr>\n",
       "      <th>1</th>\n",
       "      <td>2020-01-13</td>\n",
       "      <td>161.759995</td>\n",
       "      <td>163.309998</td>\n",
       "      <td>161.259995</td>\n",
       "      <td>163.279999</td>\n",
       "      <td>161.568405</td>\n",
       "      <td>21626500</td>\n",
       "    </tr>\n",
       "    <tr>\n",
       "      <th>2</th>\n",
       "      <td>2020-01-14</td>\n",
       "      <td>163.389999</td>\n",
       "      <td>163.600006</td>\n",
       "      <td>161.720001</td>\n",
       "      <td>162.130005</td>\n",
       "      <td>160.430450</td>\n",
       "      <td>23477400</td>\n",
       "    </tr>\n",
       "    <tr>\n",
       "      <th>3</th>\n",
       "      <td>2020-01-15</td>\n",
       "      <td>162.619995</td>\n",
       "      <td>163.940002</td>\n",
       "      <td>162.570007</td>\n",
       "      <td>163.179993</td>\n",
       "      <td>161.469452</td>\n",
       "      <td>21417900</td>\n",
       "    </tr>\n",
       "    <tr>\n",
       "      <th>4</th>\n",
       "      <td>2020-01-16</td>\n",
       "      <td>164.350006</td>\n",
       "      <td>166.240005</td>\n",
       "      <td>164.029999</td>\n",
       "      <td>166.169998</td>\n",
       "      <td>164.428116</td>\n",
       "      <td>23865400</td>\n",
       "    </tr>\n",
       "  </tbody>\n",
       "</table>\n",
       "</div>"
      ],
      "text/plain": [
       "         Date        Open        High         Low       Close   Adj Close  \\\n",
       "0  2020-01-10  162.820007  163.220001  161.179993  161.339996  159.648727   \n",
       "1  2020-01-13  161.759995  163.309998  161.259995  163.279999  161.568405   \n",
       "2  2020-01-14  163.389999  163.600006  161.720001  162.130005  160.430450   \n",
       "3  2020-01-15  162.619995  163.940002  162.570007  163.179993  161.469452   \n",
       "4  2020-01-16  164.350006  166.240005  164.029999  166.169998  164.428116   \n",
       "\n",
       "     Volume  \n",
       "0  20725900  \n",
       "1  21626500  \n",
       "2  23477400  \n",
       "3  21417900  \n",
       "4  23865400  "
      ]
     },
     "execution_count": 34,
     "metadata": {},
     "output_type": "execute_result"
    }
   ],
   "source": [
    "ms = pd.read_csv('MSFT.csv')\n",
    "ms.head()"
   ]
  },
  {
   "cell_type": "code",
   "execution_count": 35,
   "metadata": {},
   "outputs": [
    {
     "data": {
      "text/plain": [
       "(252, 7)"
      ]
     },
     "execution_count": 35,
     "metadata": {},
     "output_type": "execute_result"
    }
   ],
   "source": [
    "# checking the shape of the data\n",
    "ms.shape"
   ]
  },
  {
   "cell_type": "markdown",
   "metadata": {},
   "source": [
    "* There are 252 rows and 7 columns."
   ]
  },
  {
   "cell_type": "code",
   "execution_count": 36,
   "metadata": {},
   "outputs": [
    {
     "name": "stdout",
     "output_type": "stream",
     "text": [
      "<class 'pandas.core.frame.DataFrame'>\n",
      "RangeIndex: 252 entries, 0 to 251\n",
      "Data columns (total 7 columns):\n",
      " #   Column     Non-Null Count  Dtype  \n",
      "---  ------     --------------  -----  \n",
      " 0   Date       252 non-null    object \n",
      " 1   Open       252 non-null    float64\n",
      " 2   High       252 non-null    float64\n",
      " 3   Low        252 non-null    float64\n",
      " 4   Close      252 non-null    float64\n",
      " 5   Adj Close  252 non-null    float64\n",
      " 6   Volume     252 non-null    int64  \n",
      "dtypes: float64(5), int64(1), object(1)\n",
      "memory usage: 13.9+ KB\n"
     ]
    }
   ],
   "source": [
    "# inspecting the dataset\n",
    "ms.info()"
   ]
  },
  {
   "cell_type": "markdown",
   "metadata": {},
   "source": [
    "* There are 6 numeric features about the stock price, and one categorical feature 'Date'."
   ]
  },
  {
   "cell_type": "code",
   "execution_count": 37,
   "metadata": {},
   "outputs": [
    {
     "data": {
      "text/plain": [
       "Date         0\n",
       "Open         0\n",
       "High         0\n",
       "Low          0\n",
       "Close        0\n",
       "Adj Close    0\n",
       "Volume       0\n",
       "dtype: int64"
      ]
     },
     "execution_count": 37,
     "metadata": {},
     "output_type": "execute_result"
    }
   ],
   "source": [
    "# checking for missing values\n",
    "ms.isnull().sum()"
   ]
  },
  {
   "cell_type": "markdown",
   "metadata": {},
   "source": [
    "* There are no missing values in the data."
   ]
  },
  {
   "cell_type": "markdown",
   "metadata": {
    "id": "YMBPTY9yvKpL"
   },
   "source": [
    "## Log Daily Return\n",
    "\n",
    "\n",
    "Log returns are defined as the calculation of return on investment using logarithm. It  gives a much clearer picture about the overall returns than the arithmetic formula that we use for returns in everyday life.\n",
    "\n",
    "**Consider an example to understand this**\n",
    "\n",
    "The closing price of for three days are:\n",
    "\n",
    "Day 1: Rs 100\n",
    "\n",
    "Day 2: Rs 150\n",
    "\n",
    "Day 3: Rs 75\n",
    "\n",
    "Calculation of returns using arithmetic return calculation:\n",
    "\n",
    "Return= (Final Value - Initial value)/Initial Value\n",
    "\n",
    "Return on Day 2: (150-100)/100 =0.50 that is 50%\n",
    "\n",
    "Return on Day 3: (75-150)/150= -0.50 that is -50%\n",
    "\n",
    "Overall return: (75-100)/100= -0.25 that is -25%\n",
    "\n",
    "Here it shows that there was a gain of 50% on day 2 and a loss of 50% on day 3. It looks like there is neither loss, nor gain at this point. But actually there is a loss of 25% on Day 3 compared to Day 1. Arithmetic returns fails here.\n",
    "\n",
    "Let us calculate the returns using Log Returns Formula\n",
    "\n",
    "Log Return= ln(Final Value) – ln(Initial value)\n",
    "\n",
    "Return on Day 2: ln(150)- ln(100) = 5.01 – 4.60 = 0.41\n",
    "\n",
    "Return on Day 3: ln(75)- ln(150) = 4.32- 5.01 = -0.69\n",
    "\n",
    "Overall return: ln(75)- ln(100) = 4.32- 4.60 = -0.28\n",
    "\n",
    "In term of log returns the return for day 2 is 0.41 and for Day 3 is -0.69. So it is clearly visible that the loss on Day 3 is more than the gain on Day 2.The overall return is -0.28 on Day 3 ,which is the same however we calculate - either by adding the daily returns or by using the formula (ln75- ln100).\n",
    "\n",
    "This is not true in case of arithmetic returns where we get “0” by adding daily returns when actually return is -25% in the above example. A log daily return gives a clearer picture of returns of an investment."
   ]
  },
  {
   "cell_type": "code",
   "execution_count": 38,
   "metadata": {
    "id": "ZGQ2T0cRvL22"
   },
   "outputs": [],
   "source": [
    "# let's calculate log daily return for Microsoft data\n",
    "ms['LogReturn'] = np.log(ms['Close'])-np.log(ms['Close']).shift(1)"
   ]
  },
  {
   "cell_type": "code",
   "execution_count": 39,
   "metadata": {
    "colab": {
     "base_uri": "https://localhost:8080/"
    },
    "id": "1jhpvYidvOux",
    "outputId": "67f0102a-24cf-47d3-e31b-294b362c4df8"
   },
   "outputs": [
    {
     "data": {
      "text/plain": [
       "0           NaN\n",
       "1      0.011953\n",
       "2     -0.007068\n",
       "3      0.006455\n",
       "4      0.018158\n",
       "         ...   \n",
       "247   -0.021495\n",
       "248    0.000964\n",
       "249   -0.026271\n",
       "250    0.028060\n",
       "251    0.006074\n",
       "Name: LogReturn, Length: 252, dtype: float64"
      ]
     },
     "execution_count": 39,
     "metadata": {},
     "output_type": "execute_result"
    }
   ],
   "source": [
    "ms['LogReturn']"
   ]
  },
  {
   "cell_type": "markdown",
   "metadata": {
    "id": "eLLivqwrvUru"
   },
   "source": [
    "## Mean and Standard Deviation of LogReturn "
   ]
  },
  {
   "cell_type": "code",
   "execution_count": 40,
   "metadata": {
    "id": "Fd3fcJ2tvVHf"
   },
   "outputs": [],
   "source": [
    "#mean\n",
    "mu = ms['LogReturn'].mean()\n",
    "#standard deviation\n",
    "sigma = ms['LogReturn'].std(ddof=1)"
   ]
  },
  {
   "cell_type": "markdown",
   "metadata": {
    "id": "JvFccvmivaqD"
   },
   "source": [
    "## Plotting the Distribution \n",
    "\n",
    "It  will help us analyse the shape of data distribution and PDF of normal distribution using the calculated statistics ( mu and sigma ) from data."
   ]
  },
  {
   "cell_type": "code",
   "execution_count": 41,
   "metadata": {
    "colab": {
     "base_uri": "https://localhost:8080/",
     "height": 333
    },
    "id": "imDlwanmvX8T",
    "outputId": "179113d4-b87a-491f-eaf1-e8c6c2588be6"
   },
   "outputs": [
    {
     "data": {
      "image/png": "[encoded data removed]",
      "text/plain": [
       "<Figure size 432x288 with 1 Axes>"
      ]
     },
     "metadata": {
      "needs_background": "light"
     },
     "output_type": "display_data"
    }
   ],
   "source": [
    "# Plot a histogram to show the distribution of log return of Microsoft's stock. \n",
    "\n",
    "density = pd.DataFrame()\n",
    "density['x'] = np.arange(ms['LogReturn'].min(), ms['LogReturn'].max(), 0.001)\n",
    "density['pdf'] = norm.pdf(density['x'], mu, sigma)\n",
    "\n",
    "sns.histplot(ms['LogReturn'], kde = True, stat = 'density')\n",
    "plt.plot(density['x'], density['pdf'], color='red')\n",
    "plt.show()"
   ]
  },
  {
   "cell_type": "markdown",
   "metadata": {
    "id": "ujriM3cVvf2M"
   },
   "source": [
    "**Insight:**  As can be seen in the above plot, there are two curves red and blue. Blue curve represents the shape of data distribution and red curve represnts the PDF ( Probability density function ). This data is approximately normal. Thus, We can assume this data distribution as normal and apply other calculation of PDF and CDF based on normality assumption"
   ]
  },
  {
   "cell_type": "markdown",
   "metadata": {
    "id": "GP40qyu5vjGk"
   },
   "source": [
    "As we already discussed that stock price represents the growth of the company and increasing or decreasing of stock price will effect the market value of the company. If anyone  would like  to buy the shares of the company then he  will  be interested in knowing the probability of increment or decrement of stock price. This probability can be calculated using CDF. Lets understand CDF.\n",
    "\n",
    "\n",
    "**CDF:** of a Random variable ( X ) is the probability that X  will take the value less than or equal to x. It can be represented mathematically as -\n",
    "\n",
    "> ## $F_x (x) = P(X \\leq x) $\n",
    "\n",
    "The library scipy.stats provides a function called cdf() to calculate the CDF of any distribution. Here, we assumed our data to be normal distribution so we can use norm.cdf() to calculate cumulative probability density for a normal distribution"
   ]
  },
  {
   "cell_type": "markdown",
   "metadata": {},
   "source": [
    "## Calculating Probabilities"
   ]
  },
  {
   "cell_type": "markdown",
   "metadata": {
    "id": "tRz6vjDrvsGs"
   },
   "source": [
    "### a) What is the probability that the stock price will drop over 5% in a day? "
   ]
  },
  {
   "cell_type": "code",
   "execution_count": 42,
   "metadata": {},
   "outputs": [
    {
     "name": "stdout",
     "output_type": "stream",
     "text": [
      "The required probability that the stock price will drop over 5% in a day is 0.033181437344865984\n"
     ]
    }
   ],
   "source": [
    "# We are to calculate P(X<=-0.05)\n",
    "prob_drop5_day = norm.cdf(-0.05,loc=mu, scale=sigma)\n",
    "print('The required probability that the stock price will drop over 5% in a day is '+ str(prob_drop5_day))"
   ]
  },
  {
   "cell_type": "markdown",
   "metadata": {
    "id": "9vHXiYsev1hG"
   },
   "source": [
    "### b) What is the probability that the stock price will drop over 10% in a day?\n"
   ]
  },
  {
   "cell_type": "code",
   "execution_count": 43,
   "metadata": {
    "scrolled": false
   },
   "outputs": [
    {
     "name": "stdout",
     "output_type": "stream",
     "text": [
      "The probability that the stock price will drop over 10% in a day is 0.0001428695000257634\n"
     ]
    }
   ],
   "source": [
    "# We are to calculate P(X<=-0.10)\n",
    "prob_drop10_day=norm.cdf(-0.10, loc=mu, scale = sigma)\n",
    "print('The probability that the stock price will drop over 10% in a day is '+str(prob_drop10_day))"
   ]
  },
  {
   "cell_type": "markdown",
   "metadata": {},
   "source": [
    "### c) What is the probability that the stock price will drop over 50% in a year? \n"
   ]
  },
  {
   "cell_type": "markdown",
   "metadata": {},
   "source": [
    "While, considering the volatility of stock price for a year, we have to calculate the annual standard deviation.Therefore, we will have to annualize the standard deviation calculated using the periodic data."
   ]
  },
  {
   "cell_type": "markdown",
   "metadata": {},
   "source": [
    "Here, we shall assume that there are 250 trading days in a year. Depending on weekends and public holidays, this number may vary between 250 and 260."
   ]
  },
  {
   "cell_type": "markdown",
   "metadata": {},
   "source": [
    "The annualized standard deviation of daily returns is calculated as follows:\n",
    "\n",
    "> Annualized Standard Deviation = Standard Deviation of Daily Returns * Square Root (250)"
   ]
  },
  {
   "cell_type": "markdown",
   "metadata": {},
   "source": [
    "For yearly calculation, mean can be calculated as:\n",
    "> Annual Mean = Mean of Daily Returns * 250"
   ]
  },
  {
   "cell_type": "code",
   "execution_count": 44,
   "metadata": {
    "colab": {
     "base_uri": "https://localhost:8080/"
    },
    "id": "0gqSRlidv19t",
    "outputId": "6e5aa00a-3f72-4fe3-cb37-7505e317ec7a"
   },
   "outputs": [
    {
     "name": "stdout",
     "output_type": "stream",
     "text": [
      "The probability that the stock price will drop over 50% in a year is 0.03366022235185039\n"
     ]
    }
   ],
   "source": [
    "# calculating mean and standard deviation for yearly log-return\n",
    "mu_yearly = mu * 250\n",
    "sigma_yearly = sigma * np.sqrt(250) \n",
    "# We are to calculate P(X<=0.5)\n",
    "prob_drop50_year=norm.cdf(-0.5, mu_yearly, sigma_yearly)\n",
    "print('The probability that the stock price will drop over 50% in a year is '+ str(prob_drop50_year) )"
   ]
  },
  {
   "cell_type": "markdown",
   "metadata": {},
   "source": [
    "### d) What is the probability that the stock price will drop over 25% in a year?\n"
   ]
  },
  {
   "cell_type": "code",
   "execution_count": 45,
   "metadata": {},
   "outputs": [
    {
     "name": "stdout",
     "output_type": "stream",
     "text": [
      "The probability that the stock price will drop over 25% in a year is 0.10331797034715662\n"
     ]
    }
   ],
   "source": [
    "# We are to calculate P(X<=25)\n",
    "prob_drop25_year=norm.cdf(-0.25, mu_yearly, sigma_yearly)\n",
    "print('The probability that the stock price will drop over 25% in a year is '+ str(prob_drop25_year))"
   ]
  },
  {
   "cell_type": "markdown",
   "metadata": {
    "id": "fvnEkJLbv-Up"
   },
   "source": [
    "### e) What is the 50th percentile  of the yearly stock price?"
   ]
  },
  {
   "cell_type": "markdown",
   "metadata": {},
   "source": [
    "The 50th percentile is the value which has a cumulative probability density of 50% or 0.50\n",
    "We can calculate the percentile values using the function norm.ppf()"
   ]
  },
  {
   "cell_type": "code",
   "execution_count": 46,
   "metadata": {
    "colab": {
     "base_uri": "https://localhost:8080/"
    },
    "id": "wKqk2Z58wj2V",
    "outputId": "b09c331b-ac8b-4ef8-aed3-eba5cc66caeb"
   },
   "outputs": [
    {
     "data": {
      "text/plain": [
       "0.30715621781524466"
      ]
     },
     "execution_count": 46,
     "metadata": {},
     "output_type": "execute_result"
    }
   ],
   "source": [
    "# We are to calculate x such that P(X<=x)=0.50\n",
    "norm.ppf(0.50, loc=mu_yearly, scale=sigma_yearly)"
   ]
  },
  {
   "cell_type": "markdown",
   "metadata": {
    "id": "VH4FbhyIwogc"
   },
   "source": [
    "### Conclusion\n",
    "\n",
    "From the above calculation, It is clear that the probability of decrement in stock price of Microsoft is very less. Therefore, It is safe to invest in the shares of Microsoft."
   ]
  }
 ],
 "metadata": {
  "colab": {
   "name": "Additional_case_study_Stock_price.ipynbA",
   "provenance": []
  },
  "kernelspec": {
   "display_name": "Python 3 (ipykernel)",
   "language": "python",
   "name": "python3"
  },
  "language_info": {
   "codemirror_mode": {
    "name": "ipython",
    "version": 3
   },
   "file_extension": ".py",
   "mimetype": "text/x-python",
   "name": "python",
   "nbconvert_exporter": "python",
   "pygments_lexer": "ipython3",
   "version": "3.9.7"
  }
 },
 "nbformat": 4,
 "nbformat_minor": 1
}
