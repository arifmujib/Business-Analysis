{
 "cells": [
  {
   "cell_type": "markdown",
   "metadata": {
    "id": "7uTqu6UnZIuP"
   },
   "source": [
    "# **Context:** \n",
    "\n",
    "Pharmaceutical company Medicon has manufactured the sixth batch (40,000 units) of COVID-19 vaccine doses. This vaccine was clinically tested last quarter and around 2,00,000 doses of this vaccine have already been given to the people, in five batches. Now, this sixth batch of doses needs to be tested for their time of effect (which is measured as the time taken for the dose to completely cure COVID), as well as for quality assurance (which tells you whether the dose will be able to do a satisfactory job or not). [Please note that this is not a clinical trial, the vaccine has already cleared clinical trials. This batch test is to ensure the quality and effectiveness of the sixth batch] The company wants to plan for the next batch of doses. Let's understand the quality of this(sixth) batch. You are working with the quality assurance team of Medicon and want to understand the quality of the sixth batch.\n",
    "\n",
    "**Note:** Here, satisfactory job means that the dose is able to completely cure covid and it does not have any side effects.\n"
   ]
  },
  {
   "cell_type": "markdown",
   "metadata": {
    "id": "n5dtiaJdi1Y_"
   },
   "source": [
    "## **Problem statement**: \n",
    "\n",
    "\n",
    "From the previous analysis, it is found that a dose is 2 times more likely to produce a satisfactory result than not.\n",
    "\n",
    "1) The quality assurance team has collected 10 volunteers who were ready for the trial of this new batch and given one dose to each volunteer. Help the team to answer the following questions\n",
    "\n",
    "a) Plot the probability distribution for the number of unsatisfactory doses.\n",
    "\n",
    "b) Find the probability that exactly 3 doses will not be able to do a satisfactory job.\n",
    "\n",
    "c) Find the probability that at most 3 doses will not do the satisfactory job out of 10 selected.\n",
    "\n",
    "2) The New York city administration wants to buy 20 Doses for Health care workers who were COVID-Positive. They have contacted the company and requested 20 Doses. What is the probability that at least 11 doses will not do a satisfactory job out of 20 doses?\n",
    "\n",
    "3) Quality assurance team wants to analyze the time of effect for doses. So, they have collected the 50 volunteers with the help of the city administration and given one dose to each volunteer. Data of these 50 doses are in the 'doses.csv' file. Based on this sample, answer the following questions:\n",
    "\n",
    "a) What is the probability that a dose will take less than 11.5 hours?\n",
    "\n",
    "b) What is the 90th percentile of time of effect for the doses?\n"
   ]
  },
  {
   "cell_type": "markdown",
   "metadata": {
    "id": "8FbHCKa_NBGQ"
   },
   "source": [
    "## Import the libraries "
   ]
  },
  {
   "cell_type": "code",
   "execution_count": 1,
   "metadata": {
    "id": "cNXGq81liYXe"
   },
   "outputs": [],
   "source": [
    "#import the important packages\n",
    "import pandas as pd #library used for data manipulation and analysis\n",
    "import numpy as np # library used for working with arrays.\n",
    "import matplotlib.pyplot as plt # library for plots and visualisations\n",
    "import seaborn as sns # library for visualisations\n",
    "%matplotlib inline \n",
    "\n",
    "import scipy.stats as stats # this library contains a large number of probability distributions as well as a growing library of statistical functions."
   ]
  },
  {
   "cell_type": "markdown",
   "metadata": {
    "id": "Hrjb75zpALlN"
   },
   "source": [
    "**The quality assurance team has collected the 10 volunteers who were ready for the trial of this new batch and given one dose to each volunteer. What is the probability that k doses will do a satisfactory job out of 10 doses given to the volunteers?**\n",
    "\n",
    "The above situation follows the Binomial distribution because we are taking the random sample of 10 doses and checking the probability of exactly 3 will not do a satisfactory job. \n",
    "\n",
    "\n",
    "Let's check first whether the assumptions of the binomial distribution are satisfied or not.\n",
    "\n",
    "*  There are only two possible outcomes (success or failure) for each trial – A dose will do a satisfactory job or not (yes or no).\n",
    "\n",
    "* Number of trials (n) is fixed - A  sample of size 10 is taken. Each dose in the sample represents a trial.\n",
    "\n",
    "* Each trial is independent of the other trials - It is reasonable to assume that giving dose to each person is independent.\n",
    "\n",
    "* The probability of success (p) is the same for each trial - The probability of success for each trial (a dose will not do a satisfactory job) is not known.\n",
    "\n",
    "Let's find the probability of success of each trial (A dose will not do a satisfactory job)\n",
    "\n",
    "\n",
    "As we already know, the quality assurance teams check on the fifth batch of doses and found that - it is 2 times more likely that a dose will be able to produce a satisfactory result than not.\n",
    "\n",
    "Let p be the probability that a dose will not do a satisfactory job.\n",
    "\n",
    "It is 2 times more likely that a dose will be able to produce a satisfactory result than not. So, the probability that a dose will do a satisfactory job is 2p.\n",
    "\n",
    "According to the rules of probability,\n",
    "\n",
    "p + 2p = 1\n",
    "\n",
    "=> 3p = 1\n",
    "\n",
    "=> p = 1/3\n",
    "\n",
    "=> p = 0.33\n",
    "\n",
    "\n",
    "Hence, The probability of success for each trial (a dose will not do a satisfactory job) is 0.33."
   ]
  },
  {
   "cell_type": "markdown",
   "metadata": {
    "id": "sposkI4aH8_L"
   },
   "source": [
    "## Lets estimate the probability distribution of doses \n"
   ]
  },
  {
   "cell_type": "code",
   "execution_count": 2,
   "metadata": {
    "id": "sGLoIPMP_-Sf"
   },
   "outputs": [],
   "source": [
    "# declare the sample size in variable n which represents the number of doses given to the volunteers \n",
    "n=10"
   ]
  },
  {
   "cell_type": "code",
   "execution_count": 3,
   "metadata": {
    "id": "ZgnoUEpHISKO"
   },
   "outputs": [],
   "source": [
    "# declare p which represents the probability of success, i.e., the probability that a dose will not do a satisfactory job\n",
    "p=0.33"
   ]
  },
  {
   "cell_type": "code",
   "execution_count": 4,
   "metadata": {
    "colab": {
     "base_uri": "https://localhost:8080/"
    },
    "id": "C-tnZuKyIZY-",
    "outputId": "3f0bbfa5-1714-44cd-9ffb-43e9f6ed34ea"
   },
   "outputs": [
    {
     "data": {
      "text/plain": [
       "array([ 0,  1,  2,  3,  4,  5,  6,  7,  8,  9, 10])"
      ]
     },
     "execution_count": 4,
     "metadata": {},
     "output_type": "execute_result"
    }
   ],
   "source": [
    "# declare different number of doses selected in a numpy array\n",
    "k=np.arange(0,11)\n",
    "k"
   ]
  },
  {
   "cell_type": "code",
   "execution_count": 5,
   "metadata": {
    "id": "zOMdaSVSIhUd"
   },
   "outputs": [],
   "source": [
    "# import the required function\n",
    "from scipy.stats import binom\n",
    "# use the binom.pmf() function to generate the probability distribution\n",
    "binomial = binom.pmf(k = k,n = n, p = p)"
   ]
  },
  {
   "cell_type": "code",
   "execution_count": 6,
   "metadata": {
    "colab": {
     "base_uri": "https://localhost:8080/"
    },
    "id": "mNiIIt6JI0Kk",
    "outputId": "ddac35a7-24e3-4d8c-c928-ffc7fbfb4ccf"
   },
   "outputs": [
    {
     "data": {
      "text/plain": [
       "array([1.82283780e-02, 8.97815635e-02, 1.98993465e-01, 2.61364552e-01,\n",
       "       2.25280640e-01, 1.33150945e-01, 5.46515074e-02, 1.53816609e-02,\n",
       "       2.84101573e-03, 3.10956945e-04, 1.53157899e-05])"
      ]
     },
     "execution_count": 6,
     "metadata": {},
     "output_type": "execute_result"
    }
   ],
   "source": [
    "binomial"
   ]
  },
  {
   "cell_type": "markdown",
   "metadata": {
    "id": "LEtZ2aqQI6dZ"
   },
   "source": [
    "As you can see **binomial** is the array of probabilities for the different number of doses that will not do a satisfactory job. Let us visualize the same in the following plot."
   ]
  },
  {
   "cell_type": "markdown",
   "metadata": {
    "id": "tRX9gs2fPrut"
   },
   "source": [
    "**a) Plot the  probability distribution**\n"
   ]
  },
  {
   "cell_type": "code",
   "execution_count": 6,
   "metadata": {
    "colab": {
     "base_uri": "https://localhost:8080/",
     "height": 297
    },
    "id": "AsMrxVECI2zT",
    "outputId": "e9a6d85f-2c5d-4cbc-c156-651e2f1e6bd3"
   },
   "outputs": [
    {
     "data": {
      "image/png": "[encoded data removed]",
      "text/plain": [
       "<Figure size 432x288 with 1 Axes>"
      ]
     },
     "metadata": {
      "needs_background": "light"
     },
     "output_type": "display_data"
    }
   ],
   "source": [
    "# plot the distribution\n",
    "plt.bar(k,binomial)\n",
    "plt.title('Binomial: n=%i , p=%.2f' % (n,p), fontsize=15)\n",
    "plt.xlabel('Number of Doses')\n",
    "plt.ylabel('Probability that doses will not do a satisfactory job')\n",
    "plt.show()"
   ]
  },
  {
   "cell_type": "markdown",
   "metadata": {
    "id": "jFFr2sXaK-IQ"
   },
   "source": [
    "**b) Find the probability that exactly, 3 doses will not be able to do a satisfactory job.**"
   ]
  },
  {
   "cell_type": "code",
   "execution_count": 7,
   "metadata": {
    "colab": {
     "base_uri": "https://localhost:8080/"
    },
    "id": "-azdDTV4JCgy",
    "outputId": "1e26e5f2-7e22-444e-baf8-9bd2c9b6c796"
   },
   "outputs": [
    {
     "data": {
      "text/plain": [
       "0.26136455155259125"
      ]
     },
     "execution_count": 7,
     "metadata": {},
     "output_type": "execute_result"
    }
   ],
   "source": [
    "binomial[3]"
   ]
  },
  {
   "cell_type": "markdown",
   "metadata": {
    "id": "crI831a9Jmcn"
   },
   "source": [
    "* The probability of exactly 3 doses will not do a satisfactory job is 26.14%."
   ]
  },
  {
   "cell_type": "markdown",
   "metadata": {
    "id": "KvTxEpGZKN6c"
   },
   "source": [
    "**c) Find the probability that at most 3 doses will not do the satisfactory job out of 10 selected.**\n",
    "\n",
    "First, we need to calculate P(X<=3). Here, X is the random variable that represents the number of doses that will not do a satisfactory job. \n",
    "\n",
    "CDF is used to calculate the cumulative probability.\n"
   ]
  },
  {
   "cell_type": "code",
   "execution_count": 8,
   "metadata": {
    "colab": {
     "base_uri": "https://localhost:8080/",
     "height": 297
    },
    "id": "hzrA4Oz3J__y",
    "outputId": "0c6e5e34-857b-49cb-ef52-16ee84338aca"
   },
   "outputs": [
    {
     "data": {
      "image/png": "[encoded data removed]",
      "text/plain": [
       "<Figure size 432x288 with 1 Axes>"
      ]
     },
     "metadata": {
      "needs_background": "light"
     },
     "output_type": "display_data"
    }
   ],
   "source": [
    "# plot the probability distribution\n",
    "# We are plotting the distributions here to better visualize the calculations. \n",
    "# Of course you do not 'need' to create the following visualization to answer the question above. \n",
    "# You can directly use the cdf function for probability calculations.\n",
    "barl=plt.bar(k,binomial)\n",
    "plt.title('Binomial: n=%i , p=%.2f' % (n,p), fontsize=15)\n",
    "plt.xlabel('Number of Doses')\n",
    "plt.ylabel('Probability that doses will not do a satisfactory job')\n",
    "for i in range(0,4):\n",
    "   barl[i].set_color('r')\n",
    "plt.show()"
   ]
  },
  {
   "cell_type": "markdown",
   "metadata": {
    "id": "CgPbGLOSPPYq"
   },
   "source": [
    "In the above graph, the red region represents P(X<=3).\n",
    "\n",
    "Let's calculate the probability that out of 10 randomly selected doses, at most 3 will not do a satisfactory job. We will use binom.cdf() for this."
   ]
  },
  {
   "cell_type": "code",
   "execution_count": 9,
   "metadata": {
    "colab": {
     "base_uri": "https://localhost:8080/"
    },
    "id": "C93TNkZiPH98",
    "outputId": "f304a2b5-8995-40c0-ded1-4a7e9e7d4d3f"
   },
   "outputs": [
    {
     "name": "stdout",
     "output_type": "stream",
     "text": [
      "0.5683679584925136\n"
     ]
    }
   ],
   "source": [
    "# calculate cdf\n",
    "prob_atmost3 = binom.cdf(k = 3 ,n = n, p = p)\n",
    "print(prob_atmost3)"
   ]
  },
  {
   "cell_type": "markdown",
   "metadata": {
    "id": "bttPuQE-PvsY"
   },
   "source": [
    "*  56.84% is the probability that at most 3 doses will not do a satisfactory job."
   ]
  },
  {
   "cell_type": "markdown",
   "metadata": {
    "id": "urid6LnBQWbk"
   },
   "source": [
    "**2) The New York city administration wants to buy 20 Doses for Health care workers who were COVID-Positive. They have contacted the company and requested 20 Doses. What is the probability that at least 11 doses will not do a satisfactory job out of 20 doses?**\n",
    "\n",
    "\n",
    "\n",
    "Let's calculate the probability that at least 11 doses will not do a satisfactory job out of 20 selected.\n",
    "\n",
    "First, we need to calculate the probability for P(X>=11). Here, X is the random variable that represents doses that will not do a satisfactory job. CDF is used to calculate the cumulative probability."
   ]
  },
  {
   "cell_type": "code",
   "execution_count": 10,
   "metadata": {
    "colab": {
     "base_uri": "https://localhost:8080/"
    },
    "id": "o8qJEipgQ3iI",
    "outputId": "e114f4fd-7c9d-4503-df35-a4b52da86823"
   },
   "outputs": [
    {
     "data": {
      "text/plain": [
       "array([ 0,  1,  2,  3,  4,  5,  6,  7,  8,  9, 10, 11, 12, 13, 14, 15, 16,\n",
       "       17, 18, 19, 20])"
      ]
     },
     "execution_count": 10,
     "metadata": {},
     "output_type": "execute_result"
    }
   ],
   "source": [
    "# declare the sample size in variable n which represents the number of doses selected randomly\n",
    "n=20\n",
    "# declare p which represents the probability of success, i.e., the probability that a dose will not do satisfactory job\n",
    "p=0.33\n",
    "# declare different number of doses selected in a numpy array\n",
    "k=np.arange(0,21)\n",
    "k"
   ]
  },
  {
   "cell_type": "code",
   "execution_count": 11,
   "metadata": {
    "id": "Y4pcrmVTRhde"
   },
   "outputs": [],
   "source": [
    "# import the required function\n",
    "from scipy.stats import binom\n",
    "# use the binom.pmf() function to generate the probability distribution\n",
    "binomial = binom.pmf(k = k,n = n, p = p)"
   ]
  },
  {
   "cell_type": "code",
   "execution_count": 12,
   "metadata": {
    "colab": {
     "base_uri": "https://localhost:8080/",
     "height": 297
    },
    "id": "Aj4naC37PjBx",
    "outputId": "88569be5-3085-4c36-b37a-980f3e2d86f6"
   },
   "outputs": [
    {
     "data": {
      "image/png": "[encoded data removed]",
      "text/plain": [
       "<Figure size 432x288 with 1 Axes>"
      ]
     },
     "metadata": {
      "needs_background": "light"
     },
     "output_type": "display_data"
    }
   ],
   "source": [
    "# plot the probability distribution\n",
    "# We are plotting the distributions here to better visualize the calculations. \n",
    "# Of course you do not 'need' to create the following visualization to answer the question above. \n",
    "# You can directly use the cdf function for probability calculations.\n",
    "barl=plt.bar(k,binomial)\n",
    "plt.title('Binomial: n=%i , p=%.2f' % (n,p), fontsize=15)\n",
    "plt.xlabel('Number of Doses')\n",
    "plt.ylabel('Probability that doses will not do a satisfactory job')\n",
    "for i in range(11,21):\n",
    "   barl[i].set_color('r')\n",
    "plt.show()"
   ]
  },
  {
   "cell_type": "markdown",
   "metadata": {
    "id": "TEas5m-tQqcb"
   },
   "source": [
    "In the above graph, the red region represents P(X>=11).\n",
    "\n",
    "Let's calculate the probability that out of 20 randomly selected doses, at least 11 will not do a satisfactory job. We will use binom.cdf() for this.\n",
    "\n",
    "P(X>=11) = 1 - P(X<=10)"
   ]
  },
  {
   "cell_type": "code",
   "execution_count": 13,
   "metadata": {
    "colab": {
     "base_uri": "https://localhost:8080/"
    },
    "id": "zxWaoAjMQm48",
    "outputId": "a5fe4f54-0ad3-4068-92fb-a90fc4bf6d7e"
   },
   "outputs": [
    {
     "name": "stdout",
     "output_type": "stream",
     "text": [
      "0.03499740152648401\n"
     ]
    }
   ],
   "source": [
    "# calculate cdf\n",
    "prob_atleast11 = 1 - binom.cdf(k = 10, n = n, p = p)\n",
    "print(prob_atleast11)"
   ]
  },
  {
   "cell_type": "markdown",
   "metadata": {
    "id": "E_2gaKjaLMGT"
   },
   "source": [
    "* There is 3.5 % chance that at least 11 doses will not do a satisfactory job out of 20 doses"
   ]
  },
  {
   "cell_type": "markdown",
   "metadata": {
    "id": "a8-JKudAKKQu"
   },
   "source": [
    "**3) Quality assurance team has collected 50 volunteers with the help of the city administration. Each volunteer is given a dose and the effective time of curing the covid is also monitored. Data for 50 doses is in 'doses.csv'.Based on this sample, Answer the following questions**\n"
   ]
  },
  {
   "cell_type": "markdown",
   "metadata": {
    "id": "xzjVtrmk9xaU"
   },
   "source": [
    "## **Data Dictionary**:\n",
    "\n",
    "We are using the dataset which is randomly generated and having two features \n",
    "\n",
    "**drung_serial_number**: It represents the serial number of each dose and discrete in nature\n",
    "\n",
    "**time_of_effect**: It represents the time taken by dose to cure the COVID. It is in hours and continuous in nature."
   ]
  },
  {
   "cell_type": "markdown",
   "metadata": {
    "id": "PH9A8NlF8Bl_"
   },
   "source": [
    "### Reading the Sample Data into the DataFrame"
   ]
  },
  {
   "cell_type": "code",
   "execution_count": 15,
   "metadata": {
    "colab": {
     "base_uri": "https://localhost:8080/",
     "height": 195
    },
    "id": "E6b88UwqAfLM",
    "outputId": "b46ac624-71c4-4a75-9726-00cf5bf8b13e"
   },
   "outputs": [
    {
     "data": {
      "text/html": [
       "<div>\n",
       "<style scoped>\n",
       "    .dataframe tbody tr th:only-of-type {\n",
       "        vertical-align: middle;\n",
       "    }\n",
       "\n",
       "    .dataframe tbody tr th {\n",
       "        vertical-align: top;\n",
       "    }\n",
       "\n",
       "    .dataframe thead th {\n",
       "        text-align: right;\n",
       "    }\n",
       "</style>\n",
       "<table border=\"1\" class=\"dataframe\">\n",
       "  <thead>\n",
       "    <tr style=\"text-align: right;\">\n",
       "      <th></th>\n",
       "      <th>drug_serial_number</th>\n",
       "      <th>time_of_effect</th>\n",
       "    </tr>\n",
       "  </thead>\n",
       "  <tbody>\n",
       "    <tr>\n",
       "      <th>0</th>\n",
       "      <td>672</td>\n",
       "      <td>5.8</td>\n",
       "    </tr>\n",
       "    <tr>\n",
       "      <th>1</th>\n",
       "      <td>895</td>\n",
       "      <td>17.3</td>\n",
       "    </tr>\n",
       "    <tr>\n",
       "      <th>2</th>\n",
       "      <td>518</td>\n",
       "      <td>16.7</td>\n",
       "    </tr>\n",
       "    <tr>\n",
       "      <th>3</th>\n",
       "      <td>448</td>\n",
       "      <td>13.1</td>\n",
       "    </tr>\n",
       "    <tr>\n",
       "      <th>4</th>\n",
       "      <td>402</td>\n",
       "      <td>13.6</td>\n",
       "    </tr>\n",
       "  </tbody>\n",
       "</table>\n",
       "</div>"
      ],
      "text/plain": [
       "   drug_serial_number  time_of_effect\n",
       "0                 672             5.8\n",
       "1                 895            17.3\n",
       "2                 518            16.7\n",
       "3                 448            13.1\n",
       "4                 402            13.6"
      ]
     },
     "execution_count": 15,
     "metadata": {},
     "output_type": "execute_result"
    }
   ],
   "source": [
    "drug = pd.read_csv('doses.csv')\n",
    "drug.head()"
   ]
  },
  {
   "cell_type": "markdown",
   "metadata": {
    "id": "OiNQWmnx-bOQ"
   },
   "source": [
    "## Overview of the dataset"
   ]
  },
  {
   "cell_type": "code",
   "execution_count": 16,
   "metadata": {
    "colab": {
     "base_uri": "https://localhost:8080/"
    },
    "id": "08ZOa6zpAu-h",
    "outputId": "7a4d83f6-ed62-4182-84b6-d80a907c75db"
   },
   "outputs": [
    {
     "name": "stdout",
     "output_type": "stream",
     "text": [
      "<class 'pandas.core.frame.DataFrame'>\n",
      "RangeIndex: 50 entries, 0 to 49\n",
      "Data columns (total 2 columns):\n",
      " #   Column              Non-Null Count  Dtype  \n",
      "---  ------              --------------  -----  \n",
      " 0   drug_serial_number  50 non-null     int64  \n",
      " 1   time_of_effect      50 non-null     float64\n",
      "dtypes: float64(1), int64(1)\n",
      "memory usage: 928.0 bytes\n"
     ]
    }
   ],
   "source": [
    "drug.info()"
   ]
  },
  {
   "cell_type": "markdown",
   "metadata": {
    "id": "X8Nu1fcmA4En"
   },
   "source": [
    "* As you can see from the result of the info function there no null values present in any of the columns"
   ]
  },
  {
   "cell_type": "markdown",
   "metadata": {
    "id": "eKmM-Hv9KySo"
   },
   "source": [
    "Let's calculate the mean and standard deviation of time of effect for the sample doses\n",
    "\n"
   ]
  },
  {
   "cell_type": "code",
   "execution_count": 17,
   "metadata": {
    "colab": {
     "base_uri": "https://localhost:8080/"
    },
    "id": "9JmSPFqkRodY",
    "outputId": "04056a79-0195-46c1-b1ad-5ca0c8427cae"
   },
   "outputs": [
    {
     "name": "stdout",
     "output_type": "stream",
     "text": [
      "The estimated mean is 13.44\n",
      "The estimated standard deviation is 4.75\n"
     ]
    }
   ],
   "source": [
    "# import the required function\n",
    "from scipy.stats import norm \n",
    "# estimate the mean and standard deviation of the time of effect for the doses\n",
    "mu = drug['time_of_effect'].mean() \n",
    "sigma = drug['time_of_effect'].std()\n",
    "print('The estimated mean is', round(mu,2))\n",
    "print('The estimated standard deviation is', round(sigma,2))"
   ]
  },
  {
   "cell_type": "markdown",
   "metadata": {
    "id": "COpe00rKM66m"
   },
   "source": [
    "### Plotting the Distribution \n",
    "\n",
    "It will help us analyze the shape of the distribution of time of effect for doses. "
   ]
  },
  {
   "cell_type": "code",
   "execution_count": 18,
   "metadata": {
    "colab": {
     "base_uri": "https://localhost:8080/",
     "height": 386
    },
    "id": "8X0snKzrC0pO",
    "outputId": "a75b4d5a-c665-4615-f955-f91d9f4fed9b"
   },
   "outputs": [
    {
     "data": {
      "text/plain": [
       "<seaborn.axisgrid.FacetGrid at 0x1c5b18e9be0>"
      ]
     },
     "execution_count": 18,
     "metadata": {},
     "output_type": "execute_result"
    },
    {
     "data": {
      "image/png": "[encoded data removed]",
      "text/plain": [
       "<Figure size 360x360 with 1 Axes>"
      ]
     },
     "metadata": {
      "needs_background": "light"
     },
     "output_type": "display_data"
    }
   ],
   "source": [
    "import seaborn as sns\n",
    "sns.displot(drug['time_of_effect'],kind=\"kde\")"
   ]
  },
  {
   "cell_type": "markdown",
   "metadata": {
    "id": "RuxwnAxMNZ2n"
   },
   "source": [
    "* As you can see in the above plot, the shape of the distribution is not perfectly normal because we just have 50 observations in the sample. But, we can assume this data distribution to be normal and perform our calculations based on the normality assumption.\n",
    "\n"
   ]
  },
  {
   "cell_type": "markdown",
   "metadata": {
    "id": "GjG-LOUgDtln"
   },
   "source": [
    "**a) Calculate the probability that a dose will take  less than 11.5 hours**"
   ]
  },
  {
   "cell_type": "code",
   "execution_count": 19,
   "metadata": {
    "colab": {
     "base_uri": "https://localhost:8080/"
    },
    "id": "Rs6QKIKOLX4n",
    "outputId": "8003c6cd-362b-4052-f67b-e1f9bf151fde"
   },
   "outputs": [
    {
     "name": "stdout",
     "output_type": "stream",
     "text": [
      "The probability that a dose will take less than 11.5 is 0.3412\n"
     ]
    }
   ],
   "source": [
    "# find the cumulative probability\n",
    "# norm.cdf() calculates the cumulative probability\n",
    "prob = norm.cdf(11.5, mu, sigma)\n",
    "print('The probability that a dose will take less than 11.5 is', round(prob, 4))"
   ]
  },
  {
   "cell_type": "markdown",
   "metadata": {
    "id": "askOv-hMFB9X"
   },
   "source": [
    "**b) What is the 90th percentile of the time of effect for doses?**"
   ]
  },
  {
   "cell_type": "code",
   "execution_count": 20,
   "metadata": {
    "id": "7OLQd57CD2pg"
   },
   "outputs": [],
   "source": [
    "perc_90th = norm.ppf(0.90, mu, sigma)"
   ]
  },
  {
   "cell_type": "code",
   "execution_count": 21,
   "metadata": {
    "colab": {
     "base_uri": "https://localhost:8080/"
    },
    "id": "g1cGPQHNEjHR",
    "outputId": "dabca7b9-82a7-4957-baa6-6c8df06c1bb6"
   },
   "outputs": [
    {
     "name": "stdout",
     "output_type": "stream",
     "text": [
      "The 90th percentile of the time of effect for doses is 19.52\n"
     ]
    }
   ],
   "source": [
    "print('The 90th percentile of the time of effect for doses is', round(perc_90th, 2))"
   ]
  }
 ],
 "metadata": {
  "colab": {
   "collapsed_sections": [],
   "name": "Medicon_dose_testing.ipynb",
   "provenance": []
  },
  "kernelspec": {
   "display_name": "Python 3 (ipykernel)",
   "language": "python",
   "name": "python3"
  },
  "language_info": {
   "codemirror_mode": {
    "name": "ipython",
    "version": 3
   },
   "file_extension": ".py",
   "mimetype": "text/x-python",
   "name": "python",
   "nbconvert_exporter": "python",
   "pygments_lexer": "ipython3",
   "version": "3.9.7"
  }
 },
 "nbformat": 4,
 "nbformat_minor": 1
}
