{
 "cells": [
  {
   "cell_type": "markdown",
   "metadata": {},
   "source": [
    "# NumPy\n",
    "\n",
    "numpy is python's package for doing math that is more advanced than +-*/\n",
    "\n",
    "This includes special functions like cosine, exponential, sqrt, ...\n",
    "\n",
    "On top of this we can use numpy to generate samples from many types of random variables\n",
    "\n",
    "numpy also has a powerful data type to define vectors, matrices, and tensors\n",
    "\n",
    "With these data types numpy also allows us to do linear algebra - matrix multiplication and matrix-vector solutions"
   ]
  },
  {
   "cell_type": "code",
   "execution_count": 1,
   "metadata": {},
   "outputs": [],
   "source": [
    "# the first step of using numpy is to tell python to use it\n",
    "import numpy as np"
   ]
  },
  {
   "cell_type": "code",
   "execution_count": 2,
   "metadata": {},
   "outputs": [
    {
     "name": "stdout",
     "output_type": "stream",
     "text": [
      "-1.0\n",
      "1.1\n",
      "5.2\n"
     ]
    }
   ],
   "source": [
    "print(np.cos(np.pi))\n",
    "print(np.sqrt(1.21))\n",
    "print(np.log(np.exp(5.2)))"
   ]
  },
  {
   "cell_type": "code",
   "execution_count": 3,
   "metadata": {},
   "outputs": [
    {
     "name": "stdout",
     "output_type": "stream",
     "text": [
      "[1 2 3]\n",
      "\n",
      "[[1 2 1]\n",
      " [4 5 9]\n",
      " [1 8 9]]\n",
      "\n",
      "[[1 4 1]\n",
      " [2 5 8]\n",
      " [1 9 9]]\n"
     ]
    }
   ],
   "source": [
    "# we can create numpy arrays by converting lists\n",
    "# this is a vector\n",
    "vec = np.array([1,2,3])\n",
    "print(vec)\n",
    "# we can create matrices by converting lists of lists\n",
    "mat = np.array([[1,2,1],[4,5,9],[1,8,9]])\n",
    "print('')\n",
    "print(mat)\n",
    "print('')\n",
    "print(mat.T)"
   ]
  },
  {
   "cell_type": "code",
   "execution_count": 4,
   "metadata": {},
   "outputs": [
    {
     "name": "stdout",
     "output_type": "stream",
     "text": [
      "[ 0  1  2  3  4  5  6  7  8  9 10 11 12 13 14]\n",
      "\n",
      "[ 3  9 15]\n"
     ]
    }
   ],
   "source": [
    "# there are lots of other ways to create numpy arrays\n",
    "vec2 = np.arange(0,15)\n",
    "print(vec2)\n",
    "print('')\n",
    "vec3 = np.arange(3,21,6)\n",
    "print(vec3)\n"
   ]
  },
  {
   "cell_type": "code",
   "execution_count": 5,
   "metadata": {},
   "outputs": [
    {
     "name": "stdout",
     "output_type": "stream",
     "text": [
      "[0.         0.55555556 1.11111111 1.66666667 2.22222222 2.77777778\n",
      " 3.33333333 3.88888889 4.44444444 5.        ]\n",
      "\n",
      "[[0.         0.55555556]\n",
      " [1.11111111 1.66666667]\n",
      " [2.22222222 2.77777778]\n",
      " [3.33333333 3.88888889]\n",
      " [4.44444444 5.        ]]\n",
      "[[0.         0.55555556]\n",
      " [1.11111111 1.66666667]\n",
      " [2.22222222 2.77777778]\n",
      " [3.33333333 3.88888889]\n",
      " [4.44444444 5.        ]]\n",
      "[0.         0.55555556 1.11111111 1.66666667 2.22222222 2.77777778\n",
      " 3.33333333 3.88888889 4.44444444 5.        ]\n"
     ]
    }
   ],
   "source": [
    "\n",
    "vec4 = np.linspace(0,5,10)\n",
    "print(vec4)\n",
    "print('')\n",
    "print(vec4.reshape(5,2))\n",
    "vec4_reshaped = vec4.reshape(5,2)\n",
    "print(vec4_reshaped)\n",
    "print(vec4)"
   ]
  },
  {
   "cell_type": "code",
   "execution_count": 6,
   "metadata": {},
   "outputs": [
    {
     "data": {
      "text/plain": [
       "array([0.        , 0.05263158, 0.10526316, 0.15789474, 0.21052632,\n",
       "       0.26315789, 0.31578947, 0.36842105, 0.42105263, 0.47368421,\n",
       "       0.52631579, 0.57894737, 0.63157895, 0.68421053, 0.73684211,\n",
       "       0.78947368, 0.84210526, 0.89473684, 0.94736842, 1.        ])"
      ]
     },
     "execution_count": 6,
     "metadata": {},
     "output_type": "execute_result"
    }
   ],
   "source": [
    "np.linspace(0,1,20)"
   ]
  },
  {
   "cell_type": "code",
   "execution_count": 7,
   "metadata": {},
   "outputs": [
    {
     "name": "stdout",
     "output_type": "stream",
     "text": [
      "[[0. 0. 0.]\n",
      " [0. 0. 0.]\n",
      " [0. 0. 0.]\n",
      " [0. 0. 0.]\n",
      " [0. 0. 0.]]\n",
      "\n",
      "[[1. 1. 1. 1. 1.]\n",
      " [1. 1. 1. 1. 1.]\n",
      " [1. 1. 1. 1. 1.]]\n",
      "\n",
      "[[1. 0. 0. 0. 0.]\n",
      " [0. 1. 0. 0. 0.]\n",
      " [0. 0. 1. 0. 0.]\n",
      " [0. 0. 0. 1. 0.]\n",
      " [0. 0. 0. 0. 1.]]\n"
     ]
    }
   ],
   "source": [
    "mat2 = np.zeros([5,3])\n",
    "print(mat2)\n",
    "mat3 = np.ones((3,5))\n",
    "print('')\n",
    "print(mat3)\n",
    "mat4 = np.eye(5)\n",
    "print('')\n",
    "print(mat4)"
   ]
  },
  {
   "cell_type": "code",
   "execution_count": 8,
   "metadata": {},
   "outputs": [
    {
     "data": {
      "text/plain": [
       "array([[0., 0., 0.],\n",
       "       [0., 0., 0.],\n",
       "       [0., 0., 0.],\n",
       "       [0., 0., 0.],\n",
       "       [0., 0., 0.],\n",
       "       [1., 1., 1.],\n",
       "       [1., 1., 1.],\n",
       "       [1., 1., 1.],\n",
       "       [1., 1., 1.],\n",
       "       [1., 1., 1.]])"
      ]
     },
     "execution_count": 8,
     "metadata": {},
     "output_type": "execute_result"
    }
   ],
   "source": [
    "np.concatenate((mat2, mat3.T))"
   ]
  },
  {
   "cell_type": "code",
   "execution_count": 9,
   "metadata": {},
   "outputs": [
    {
     "name": "stdout",
     "output_type": "stream",
     "text": [
      "[1 2 3 4 5]\n",
      "[3 4 5 6 7]\n",
      "[ 4  6  8 10 12]\n",
      "[ 3  8 15 24 35]\n",
      "[1.         0.5        0.33333333 0.25       0.2       ]\n",
      "[1.73205081 2.         2.23606798 2.44948974 2.64575131]\n"
     ]
    }
   ],
   "source": [
    "# we can +-*/ arrays together if they're the right size\n",
    "vec5 = np.arange(1,6)\n",
    "vec6 = np.arange(3,8)\n",
    "print(vec5)\n",
    "print(vec6)\n",
    "print(vec5+vec6)\n",
    "print(vec5*vec6)\n",
    "print(1/vec5)\n",
    "print(np.sqrt(vec6))"
   ]
  },
  {
   "cell_type": "code",
   "execution_count": 10,
   "metadata": {},
   "outputs": [
    {
     "name": "stdout",
     "output_type": "stream",
     "text": [
      "[[1 2 1]\n",
      " [4 5 9]\n",
      " [1 8 9]]\n",
      "\n",
      "[1 2 3]\n",
      "\n",
      "[ 8 41 44]\n"
     ]
    }
   ],
   "source": [
    "# we can do matrix multiplication\n",
    "print(mat)\n",
    "print('')\n",
    "print(vec)\n",
    "print()\n",
    "product = np.matmul(mat,vec)\n",
    "print(product)"
   ]
  },
  {
   "cell_type": "code",
   "execution_count": 11,
   "metadata": {},
   "outputs": [
    {
     "name": "stdout",
     "output_type": "stream",
     "text": [
      "[1. 2. 3.]\n",
      "\n",
      "[[ 0.5         0.18518519 -0.24074074]\n",
      " [ 0.5        -0.14814815  0.09259259]\n",
      " [-0.5         0.11111111  0.05555556]]\n"
     ]
    }
   ],
   "source": [
    "print(np.linalg.solve(mat,product))\n",
    "print('')\n",
    "print(np.linalg.inv(mat))"
   ]
  },
  {
   "cell_type": "code",
   "execution_count": 12,
   "metadata": {},
   "outputs": [
    {
     "name": "stdout",
     "output_type": "stream",
     "text": [
      "['blue' 'red' 'orange' 'purple' 'purple' 'orange' 'Red' '6']\n",
      "['6' 'Red' 'blue' 'orange' 'purple' 'red']\n"
     ]
    }
   ],
   "source": [
    "# we can find the unique values in an array\n",
    "vec7 = np.array(['blue','red','orange','purple','purple','orange','Red',6])\n",
    "print(vec7)\n",
    "print(np.unique(vec7))"
   ]
  },
  {
   "cell_type": "code",
   "execution_count": 13,
   "metadata": {},
   "outputs": [
    {
     "name": "stdout",
     "output_type": "stream",
     "text": [
      "[[0.80492111 0.36797075 0.30454216 0.72857373 0.61675315]\n",
      " [0.73745118 0.88746088 0.49457808 0.61016367 0.51746651]\n",
      " [0.21770326 0.96745226 0.85883849 0.53430592 0.10186307]\n",
      " [0.16502866 0.41187234 0.35931353 0.05783302 0.65701601]\n",
      " [0.49157536 0.73277707 0.52895365 0.16755481 0.80532964]]\n",
      "\n",
      "[[-1.23288175 -0.88813909 -0.15640249 -1.52648519  0.34149243]\n",
      " [ 1.38881546  1.41437848 -0.52692725 -1.10135084 -0.32878499]\n",
      " [-0.35780069  0.45382081  0.89076643  1.00723039  1.49054166]\n",
      " [-0.93790428  0.03347393 -0.5905212   0.55880802 -1.35258311]\n",
      " [ 1.0197918  -2.20767839  0.7133552  -0.51617895 -0.3920353 ]\n",
      " [ 1.99011056 -0.62066468 -0.1313068   1.62890109  0.89628255]\n",
      " [ 0.17299455 -0.71902342 -1.11272084 -0.95719911  0.72882878]\n",
      " [-1.38742385  0.95433115  0.95782904 -0.87222722  0.69144253]\n",
      " [-0.21448362  1.9335935  -0.97196488 -1.12353414 -0.12920349]\n",
      " [-0.38002302 -1.00874968 -0.11493089 -0.07071608  0.29310205]]\n"
     ]
    }
   ],
   "source": [
    "# we can also use numpy to generate samples of a random variable\n",
    "rand_mat = np.random.rand(5,5) # uniform random variable\n",
    "print(rand_mat)\n",
    "rand_mat2 = np.random.randn(10,5) # standard normal random variable\n",
    "print('')\n",
    "print(rand_mat2)"
   ]
  },
  {
   "cell_type": "code",
   "execution_count": 14,
   "metadata": {},
   "outputs": [
    {
     "name": "stdout",
     "output_type": "stream",
     "text": [
      "0.5250919325480013\n",
      "0.9807365712583734\n"
     ]
    }
   ],
   "source": [
    "# we can also use numpy for statistical tools on arrays\n",
    "print(np.mean(rand_mat))\n",
    "print(np.std(rand_mat2))"
   ]
  },
  {
   "cell_type": "code",
   "execution_count": 15,
   "metadata": {},
   "outputs": [
    {
     "name": "stdout",
     "output_type": "stream",
     "text": [
      "0.05783301577096056\n",
      "1.9901105566665744\n"
     ]
    }
   ],
   "source": [
    "print(np.min(rand_mat))\n",
    "print(np.max(rand_mat2))"
   ]
  },
  {
   "cell_type": "code",
   "execution_count": 16,
   "metadata": {},
   "outputs": [],
   "source": [
    "# break here for next video!"
   ]
  },
  {
   "cell_type": "code",
   "execution_count": 17,
   "metadata": {},
   "outputs": [
    {
     "name": "stdout",
     "output_type": "stream",
     "text": [
      "[ 1.28840282  1.60605651  0.01297824 -0.3135444   1.23062157 -1.6158883\n",
      "  0.50472899 -1.46570051  0.10968463 -0.06386618 -0.2716062  -0.77420309\n",
      "  0.70975973 -0.65095715  0.68226233 -0.43233048  0.9832627  -0.6499543\n",
      " -1.17494605]\n",
      "0.5047289940173099\n"
     ]
    }
   ],
   "source": [
    "# how do we access entries in a numpy vector\n",
    "rand_vec = np.random.randn(19)\n",
    "print(rand_vec)\n",
    "print(rand_vec[6])"
   ]
  },
  {
   "cell_type": "code",
   "execution_count": 18,
   "metadata": {},
   "outputs": [
    {
     "name": "stdout",
     "output_type": "stream",
     "text": [
      "[ 1.23062157 -1.6158883   0.50472899 -1.46570051  0.10968463]\n"
     ]
    }
   ],
   "source": [
    "# we can access multiple entries at once using :\n",
    "print(rand_vec[4:9])"
   ]
  },
  {
   "cell_type": "code",
   "execution_count": 19,
   "metadata": {},
   "outputs": [
    {
     "name": "stdout",
     "output_type": "stream",
     "text": [
      "[ 0  3  6  9 12]\n",
      "[ 1.28840282 -0.3135444   0.50472899 -0.06386618  0.70975973]\n"
     ]
    }
   ],
   "source": [
    "# we can also access multiple non-consecutive entries using np.arange\n",
    "print(np.arange(0,15,3))\n",
    "print(rand_vec[np.arange(0,15,3)])"
   ]
  },
  {
   "cell_type": "code",
   "execution_count": 20,
   "metadata": {},
   "outputs": [
    {
     "name": "stdout",
     "output_type": "stream",
     "text": [
      "[[0.80492111 0.36797075 0.30454216 0.72857373 0.61675315]\n",
      " [0.73745118 0.88746088 0.49457808 0.61016367 0.51746651]\n",
      " [0.21770326 0.96745226 0.85883849 0.53430592 0.10186307]\n",
      " [0.16502866 0.41187234 0.35931353 0.05783302 0.65701601]\n",
      " [0.49157536 0.73277707 0.52895365 0.16755481 0.80532964]]\n",
      "0.49457807702939927\n",
      "0.49457807702939927\n"
     ]
    }
   ],
   "source": [
    "# what about matrices\n",
    "print(rand_mat)\n",
    "print(rand_mat[1][2])\n",
    "print(rand_mat[1,2])\n"
   ]
  },
  {
   "cell_type": "code",
   "execution_count": 21,
   "metadata": {},
   "outputs": [
    {
     "name": "stdout",
     "output_type": "stream",
     "text": [
      "[[0.36797075 0.30454216]\n",
      " [0.88746088 0.49457808]]\n"
     ]
    }
   ],
   "source": [
    "print(rand_mat[0:2,1:3])"
   ]
  },
  {
   "cell_type": "code",
   "execution_count": 22,
   "metadata": {},
   "outputs": [
    {
     "name": "stdout",
     "output_type": "stream",
     "text": [
      "[ 1.28840282  1.60605651  0.01297824 -0.3135444   1.23062157 -1.6158883\n",
      "  0.50472899 -1.46570051  0.10968463 -0.06386618 -0.2716062  -0.77420309\n",
      "  0.70975973 -0.65095715  0.68226233 -0.43233048  0.9832627  -0.6499543\n",
      " -1.17494605]\n",
      "\n",
      "[ 1.28840282  1.60605651  0.01297824  4.          4.         -1.6158883\n",
      "  0.50472899 -1.46570051  0.10968463 -0.06386618 -0.2716062  -0.77420309\n",
      "  0.70975973 -0.65095715  0.68226233 -0.43233048  0.9832627  -0.6499543\n",
      " -1.17494605]\n",
      "\n",
      "[ 1.28840282  1.60605651  0.01297824  1.          2.         -1.6158883\n",
      "  0.50472899 -1.46570051  0.10968463 -0.06386618 -0.2716062  -0.77420309\n",
      "  0.70975973 -0.65095715  0.68226233 -0.43233048  0.9832627  -0.6499543\n",
      " -1.17494605]\n"
     ]
    }
   ],
   "source": [
    "# let's change some values in an array!\n",
    "print(rand_vec)\n",
    "rand_vec[3:5] = 4\n",
    "print('')\n",
    "print(rand_vec)\n",
    "rand_vec[3:5] = [1,2]\n",
    "print('')\n",
    "print(rand_vec)"
   ]
  },
  {
   "cell_type": "code",
   "execution_count": 23,
   "metadata": {},
   "outputs": [
    {
     "name": "stdout",
     "output_type": "stream",
     "text": [
      "[[0.80492111 0.36797075 0.30454216 0.72857373 0.61675315]\n",
      " [0.73745118 0.88746088 0.49457808 0.61016367 0.51746651]\n",
      " [0.21770326 0.96745226 0.85883849 0.53430592 0.10186307]\n",
      " [0.16502866 0.41187234 0.35931353 0.05783302 0.65701601]\n",
      " [0.49157536 0.73277707 0.52895365 0.16755481 0.80532964]]\n",
      "\n",
      "[[0.80492111 0.36797075 0.30454216 0.72857373 0.61675315]\n",
      " [0.73745118 0.88746088 0.49457808 0.         0.        ]\n",
      " [0.21770326 0.96745226 0.85883849 0.         0.        ]\n",
      " [0.16502866 0.41187234 0.35931353 0.05783302 0.65701601]\n",
      " [0.49157536 0.73277707 0.52895365 0.16755481 0.80532964]]\n"
     ]
    }
   ],
   "source": [
    "print(rand_mat)\n",
    "rand_mat[1:3,3:5] = 0\n",
    "print('')\n",
    "print(rand_mat)"
   ]
  },
  {
   "cell_type": "code",
   "execution_count": 24,
   "metadata": {},
   "outputs": [
    {
     "name": "stdout",
     "output_type": "stream",
     "text": [
      "[[0.80492111 0.36797075 0.30454216]\n",
      " [0.73745118 0.88746088 0.49457808]]\n",
      "[[3. 3. 3.]\n",
      " [3. 3. 3.]]\n"
     ]
    }
   ],
   "source": [
    "sub_mat = rand_mat[0:2,0:3]\n",
    "print(sub_mat)\n",
    "sub_mat[:] = 3\n",
    "print(sub_mat)\n"
   ]
  },
  {
   "cell_type": "code",
   "execution_count": 25,
   "metadata": {},
   "outputs": [
    {
     "name": "stdout",
     "output_type": "stream",
     "text": [
      "[[3.         3.         3.         0.72857373 0.61675315]\n",
      " [3.         3.         3.         0.         0.        ]\n",
      " [0.21770326 0.96745226 0.85883849 0.         0.        ]\n",
      " [0.16502866 0.41187234 0.35931353 0.05783302 0.65701601]\n",
      " [0.49157536 0.73277707 0.52895365 0.16755481 0.80532964]]\n"
     ]
    }
   ],
   "source": [
    "print(rand_mat)"
   ]
  },
  {
   "cell_type": "code",
   "execution_count": 26,
   "metadata": {},
   "outputs": [
    {
     "name": "stdout",
     "output_type": "stream",
     "text": [
      "[[99. 99. 99.]\n",
      " [99. 99. 99.]]\n",
      "[[3.         3.         3.         0.72857373 0.61675315]\n",
      " [3.         3.         3.         0.         0.        ]\n",
      " [0.21770326 0.96745226 0.85883849 0.         0.        ]\n",
      " [0.16502866 0.41187234 0.35931353 0.05783302 0.65701601]\n",
      " [0.49157536 0.73277707 0.52895365 0.16755481 0.80532964]]\n"
     ]
    }
   ],
   "source": [
    "sub_mat2 = rand_mat[0:2,0:3].copy()\n",
    "sub_mat2[:] = 99\n",
    "print(sub_mat2)\n",
    "print(rand_mat)\n"
   ]
  },
  {
   "cell_type": "code",
   "execution_count": null,
   "metadata": {},
   "outputs": [],
   "source": [
    "# break here for next video"
   ]
  },
  {
   "cell_type": "code",
   "execution_count": 39,
   "metadata": {},
   "outputs": [
    {
     "data": {
      "text/plain": [
       "(25,)"
      ]
     },
     "execution_count": 39,
     "metadata": {},
     "output_type": "execute_result"
    }
   ],
   "source": [
    "rand_mat.flatten().shape"
   ]
  },
  {
   "cell_type": "code",
   "execution_count": 28,
   "metadata": {},
   "outputs": [
    {
     "name": "stdout",
     "output_type": "stream",
     "text": [
      "[-0.23001579  0.68593773 -0.25940209  1.18893708 -0.46306623  2.69345585\n",
      "  1.46832042 -0.82989946 -1.7964344  -0.38137699  0.2158683  -0.06836579\n",
      " -0.16233859  0.90933172  1.29232963]\n",
      "[False  True False  True False  True  True False False False  True False\n",
      " False  True  True]\n",
      "[0.68593773 1.18893708 2.69345585 1.46832042 0.2158683  0.90933172\n",
      " 1.29232963]\n"
     ]
    }
   ],
   "source": [
    "# we can also access entries with logicals\n",
    "rand_vec = np.random.randn(15)\n",
    "\n",
    "print(rand_vec)\n",
    "print(rand_vec>0)\n",
    "print(rand_vec[rand_vec>0])"
   ]
  },
  {
   "cell_type": "code",
   "execution_count": 29,
   "metadata": {},
   "outputs": [
    {
     "name": "stdout",
     "output_type": "stream",
     "text": [
      "[[-1.23288175 -0.88813909 -0.15640249 -1.52648519  0.34149243]\n",
      " [ 1.38881546  1.41437848 -0.52692725 -1.10135084 -0.32878499]\n",
      " [-0.35780069  0.45382081  0.89076643  1.00723039  1.49054166]\n",
      " [-0.93790428  0.03347393 -0.5905212   0.55880802 -1.35258311]\n",
      " [ 1.0197918  -2.20767839  0.7133552  -0.51617895 -0.3920353 ]\n",
      " [ 1.99011056 -0.62066468 -0.1313068   1.62890109  0.89628255]\n",
      " [ 0.17299455 -0.71902342 -1.11272084 -0.95719911  0.72882878]\n",
      " [-1.38742385  0.95433115  0.95782904 -0.87222722  0.69144253]\n",
      " [-0.21448362  1.9335935  -0.97196488 -1.12353414 -0.12920349]\n",
      " [-0.38002302 -1.00874968 -0.11493089 -0.07071608  0.29310205]]\n",
      "[0.34149243 1.38881546 1.41437848 0.45382081 0.89076643 1.00723039\n",
      " 1.49054166 0.03347393 0.55880802 1.0197918  0.7133552  1.99011056\n",
      " 1.62890109 0.89628255 0.17299455 0.72882878 0.95433115 0.95782904\n",
      " 0.69144253 1.9335935  0.29310205]\n"
     ]
    }
   ],
   "source": [
    "print(rand_mat2)\n",
    "print(rand_mat2[rand_mat2>0])"
   ]
  },
  {
   "cell_type": "code",
   "execution_count": 30,
   "metadata": {},
   "outputs": [
    {
     "name": "stdout",
     "output_type": "stream",
     "text": [
      "[-0.23001579  0.68593773 -0.25940209  1.18893708 -0.46306623  2.69345585\n",
      "  1.46832042 -0.82989946 -1.7964344  -0.38137699  0.2158683  -0.06836579\n",
      " -0.16233859  0.90933172  1.29232963]\n",
      "\n",
      "[-0.23001579 -5.         -0.25940209 -5.         -0.46306623 -5.\n",
      " -5.         -0.82989946 -1.7964344  -0.38137699  0.2158683  -0.06836579\n",
      " -0.16233859 -5.         -5.        ]\n"
     ]
    }
   ],
   "source": [
    "\n",
    "print(rand_vec)\n",
    "print('')\n",
    "rand_vec[rand_vec>0.5] = -5\n",
    "print(rand_vec)"
   ]
  },
  {
   "cell_type": "code",
   "execution_count": 31,
   "metadata": {},
   "outputs": [],
   "source": [
    "# let's save some arrays on the disk for use later!\n",
    "np.save('saved_file_name',rand_mat2)\n"
   ]
  },
  {
   "cell_type": "code",
   "execution_count": 32,
   "metadata": {},
   "outputs": [],
   "source": [
    "np.savez('zipped_file_name',rand_mat=rand_mat,rand_mat2=rand_mat2)"
   ]
  },
  {
   "cell_type": "code",
   "execution_count": 33,
   "metadata": {},
   "outputs": [
    {
     "name": "stdout",
     "output_type": "stream",
     "text": [
      "[[-1.23288175 -0.88813909 -0.15640249 -1.52648519  0.34149243]\n",
      " [ 1.38881546  1.41437848 -0.52692725 -1.10135084 -0.32878499]\n",
      " [-0.35780069  0.45382081  0.89076643  1.00723039  1.49054166]\n",
      " [-0.93790428  0.03347393 -0.5905212   0.55880802 -1.35258311]\n",
      " [ 1.0197918  -2.20767839  0.7133552  -0.51617895 -0.3920353 ]\n",
      " [ 1.99011056 -0.62066468 -0.1313068   1.62890109  0.89628255]\n",
      " [ 0.17299455 -0.71902342 -1.11272084 -0.95719911  0.72882878]\n",
      " [-1.38742385  0.95433115  0.95782904 -0.87222722  0.69144253]\n",
      " [-0.21448362  1.9335935  -0.97196488 -1.12353414 -0.12920349]\n",
      " [-0.38002302 -1.00874968 -0.11493089 -0.07071608  0.29310205]]\n",
      "\n",
      "<numpy.lib.npyio.NpzFile object at 0x7f86b4092fa0>\n"
     ]
    }
   ],
   "source": [
    "# now let's load it\n",
    "loaded_vec = np.load('saved_file_name.npy')\n",
    "loaded_zip = np.load('zipped_file_name.npz')\n",
    "\n",
    "print(loaded_vec)\n",
    "print('')\n",
    "print(loaded_zip)"
   ]
  },
  {
   "cell_type": "code",
   "execution_count": 34,
   "metadata": {},
   "outputs": [
    {
     "name": "stdout",
     "output_type": "stream",
     "text": [
      "[[3.         3.         3.         0.72857373 0.61675315]\n",
      " [3.         3.         3.         0.         0.        ]\n",
      " [0.21770326 0.96745226 0.85883849 0.         0.        ]\n",
      " [0.16502866 0.41187234 0.35931353 0.05783302 0.65701601]\n",
      " [0.49157536 0.73277707 0.52895365 0.16755481 0.80532964]]\n",
      "\n",
      "[[-1.23288175 -0.88813909 -0.15640249 -1.52648519  0.34149243]\n",
      " [ 1.38881546  1.41437848 -0.52692725 -1.10135084 -0.32878499]\n",
      " [-0.35780069  0.45382081  0.89076643  1.00723039  1.49054166]\n",
      " [-0.93790428  0.03347393 -0.5905212   0.55880802 -1.35258311]\n",
      " [ 1.0197918  -2.20767839  0.7133552  -0.51617895 -0.3920353 ]\n",
      " [ 1.99011056 -0.62066468 -0.1313068   1.62890109  0.89628255]\n",
      " [ 0.17299455 -0.71902342 -1.11272084 -0.95719911  0.72882878]\n",
      " [-1.38742385  0.95433115  0.95782904 -0.87222722  0.69144253]\n",
      " [-0.21448362  1.9335935  -0.97196488 -1.12353414 -0.12920349]\n",
      " [-0.38002302 -1.00874968 -0.11493089 -0.07071608  0.29310205]]\n",
      "[[3.         3.         3.         0.72857373 0.61675315]\n",
      " [3.         3.         3.         0.         0.        ]\n",
      " [0.21770326 0.96745226 0.85883849 0.         0.        ]\n",
      " [0.16502866 0.41187234 0.35931353 0.05783302 0.65701601]\n",
      " [0.49157536 0.73277707 0.52895365 0.16755481 0.80532964]]\n"
     ]
    }
   ],
   "source": [
    "print(loaded_zip['rand_mat'])\n",
    "print('')\n",
    "print(loaded_zip['rand_mat2'])\n",
    "\n",
    "new_array  = loaded_zip['rand_mat']\n",
    "print(new_array)"
   ]
  },
  {
   "cell_type": "code",
   "execution_count": 35,
   "metadata": {},
   "outputs": [
    {
     "name": "stdout",
     "output_type": "stream",
     "text": [
      "[[3.         3.         3.         0.72857373 0.61675315]\n",
      " [3.         3.         3.         0.         0.        ]\n",
      " [0.21770326 0.96745226 0.85883849 0.         0.        ]\n",
      " [0.16502866 0.41187234 0.35931353 0.05783302 0.65701601]\n",
      " [0.49157536 0.73277707 0.52895365 0.16755481 0.80532964]]\n",
      "\n",
      "[[3.         3.         3.         0.72857373 0.61675315]\n",
      " [3.         3.         3.         0.         0.        ]\n",
      " [0.21770326 0.96745226 0.85883849 0.         0.        ]\n",
      " [0.16502866 0.41187234 0.35931353 0.05783302 0.65701601]\n",
      " [0.49157536 0.73277707 0.52895365 0.16755481 0.80532964]]\n"
     ]
    }
   ],
   "source": [
    "# we can also save/load as text files...but only single variables\n",
    "np.savetxt('text_file_name.txt',rand_mat,delimiter=',')\n",
    "rand_mat_txt = np.loadtxt('text_file_name.txt',delimiter=',')\n",
    "print(rand_mat)\n",
    "print('')\n",
    "print(rand_mat_txt)"
   ]
  },
  {
   "cell_type": "code",
   "execution_count": null,
   "metadata": {},
   "outputs": [],
   "source": []
  }
 ],
 "metadata": {
  "kernelspec": {
   "display_name": "Python 3",
   "language": "python",
   "name": "python3"
  },
  "language_info": {
   "codemirror_mode": {
    "name": "ipython",
    "version": 3
   },
   "file_extension": ".py",
   "mimetype": "text/x-python",
   "name": "python",
   "nbconvert_exporter": "python",
   "pygments_lexer": "ipython3",
   "version": "3.9.5"
  }
 },
 "nbformat": 4,
 "nbformat_minor": 4
}
