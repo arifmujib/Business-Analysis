{
 "cells": [
  {
   "cell_type": "code",
   "execution_count": 31,
   "id": "confident-badge",
   "metadata": {},
   "outputs": [],
   "source": [
    "import numpy as np\n",
    "import pandas as pd"
   ]
  },
  {
   "cell_type": "code",
   "execution_count": 33,
   "id": "favorite-handling",
   "metadata": {},
   "outputs": [
    {
     "data": {
      "text/plain": [
       "array([2, 3, 4, 5, 6])"
      ]
     },
     "execution_count": 33,
     "metadata": {},
     "output_type": "execute_result"
    }
   ],
   "source": [
    "new = np.array([2,3,4,5,6])\n",
    "new"
   ]
  },
  {
   "cell_type": "code",
   "execution_count": 34,
   "id": "widespread-ratio",
   "metadata": {},
   "outputs": [
    {
     "data": {
      "text/plain": [
       "array([[0.36659058, 0.91538858, 0.01806359, 0.82602122],\n",
       "       [0.99927502, 0.80818931, 0.06605372, 0.65889613],\n",
       "       [0.85968993, 0.81926407, 0.2531843 , 0.56088329]])"
      ]
     },
     "execution_count": 34,
     "metadata": {},
     "output_type": "execute_result"
    }
   ],
   "source": [
    "a = np.random.rand(3,4)\n",
    "a"
   ]
  },
  {
   "cell_type": "code",
   "execution_count": 56,
   "id": "solid-margin",
   "metadata": {},
   "outputs": [
    {
     "data": {
      "text/plain": [
       "array([[0.36659058, 0.91538858, 0.01806359, 0.82602122, 0.99927502,\n",
       "        0.80818931, 0.06605372, 0.65889613, 0.85968993, 0.81926407,\n",
       "        0.2531843 , 0.56088329]])"
      ]
     },
     "execution_count": 56,
     "metadata": {},
     "output_type": "execute_result"
    }
   ],
   "source": [
    "a.reshape(12,1).transpose()"
   ]
  },
  {
   "cell_type": "code",
   "execution_count": 48,
   "id": "perceived-optimization",
   "metadata": {},
   "outputs": [
    {
     "data": {
      "text/plain": [
       "array([[0.08195455, 0.15049809, 0.54267322, 0.60380865]])"
      ]
     },
     "execution_count": 48,
     "metadata": {},
     "output_type": "execute_result"
    }
   ],
   "source": [
    "b = np.random.rand(1,4)\n",
    "b"
   ]
  },
  {
   "cell_type": "code",
   "execution_count": 46,
   "id": "laughing-insulin",
   "metadata": {},
   "outputs": [
    {
     "data": {
      "text/plain": [
       "array([[0.36659058, 0.91538858, 0.01806359, 0.82602122, 0.1536799 ],\n",
       "       [0.99927502, 0.80818931, 0.06605372, 0.65889613, 0.10518476],\n",
       "       [0.85968993, 0.81926407, 0.2531843 , 0.56088329, 0.27281637]])"
      ]
     },
     "execution_count": 46,
     "metadata": {},
     "output_type": "execute_result"
    }
   ],
   "source": [
    "np.concatenate((a,b1), axis=1)"
   ]
  },
  {
   "cell_type": "code",
   "execution_count": 47,
   "id": "creative-exemption",
   "metadata": {},
   "outputs": [
    {
     "data": {
      "text/plain": [
       "array([[0.11277371],\n",
       "       [0.07399972],\n",
       "       [0.45361585]])"
      ]
     },
     "execution_count": 47,
     "metadata": {},
     "output_type": "execute_result"
    }
   ],
   "source": [
    "b1 = np.random.rand(3,1)\n",
    "b1"
   ]
  },
  {
   "cell_type": "code",
   "execution_count": 49,
   "id": "intended-journalism",
   "metadata": {},
   "outputs": [
    {
     "data": {
      "text/plain": [
       "array([[0.08195455],\n",
       "       [0.15049809],\n",
       "       [0.54267322],\n",
       "       [0.60380865]])"
      ]
     },
     "execution_count": 49,
     "metadata": {},
     "output_type": "execute_result"
    }
   ],
   "source": [
    "c= b.transpose()\n",
    "c"
   ]
  },
  {
   "cell_type": "code",
   "execution_count": 51,
   "id": "promising-generation",
   "metadata": {},
   "outputs": [
    {
     "data": {
      "text/plain": [
       "(4, 1)"
      ]
     },
     "execution_count": 51,
     "metadata": {},
     "output_type": "execute_result"
    }
   ],
   "source": [
    "c.shape"
   ]
  },
  {
   "cell_type": "code",
   "execution_count": 52,
   "id": "sexual-assist",
   "metadata": {},
   "outputs": [
    {
     "data": {
      "text/plain": [
       "array([[0.36659058, 0.91538858, 0.01806359, 0.82602122],\n",
       "       [0.99927502, 0.80818931, 0.06605372, 0.65889613],\n",
       "       [0.85968993, 0.81926407, 0.2531843 , 0.56088329]])"
      ]
     },
     "execution_count": 52,
     "metadata": {},
     "output_type": "execute_result"
    }
   ],
   "source": [
    "a"
   ]
  },
  {
   "cell_type": "code",
   "execution_count": 53,
   "id": "sonic-uzbekistan",
   "metadata": {},
   "outputs": [
    {
     "data": {
      "text/plain": [
       "array([[0.36659058, 0.99927502, 0.85968993],\n",
       "       [0.91538858, 0.80818931, 0.81926407],\n",
       "       [0.01806359, 0.06605372, 0.2531843 ],\n",
       "       [0.82602122, 0.65889613, 0.56088329]])"
      ]
     },
     "execution_count": 53,
     "metadata": {},
     "output_type": "execute_result"
    }
   ],
   "source": [
    "a.transpose()"
   ]
  },
  {
   "cell_type": "code",
   "execution_count": 54,
   "id": "conservative-holiday",
   "metadata": {},
   "outputs": [
    {
     "data": {
      "text/plain": [
       "array([0, 1, 2, 3, 4, 5, 6, 7, 8, 9])"
      ]
     },
     "execution_count": 54,
     "metadata": {},
     "output_type": "execute_result"
    }
   ],
   "source": [
    "range1 = np.arange(0,10)\n",
    "range1"
   ]
  },
  {
   "cell_type": "code",
   "execution_count": 57,
   "id": "regular-graham",
   "metadata": {},
   "outputs": [
    {
     "data": {
      "text/plain": [
       "array([0. , 0.2, 0.4, 0.6, 0.8])"
      ]
     },
     "execution_count": 57,
     "metadata": {},
     "output_type": "execute_result"
    }
   ],
   "source": [
    "range2 = np.arange(0,1, 0.2)\n",
    "range2"
   ]
  },
  {
   "cell_type": "code",
   "execution_count": 59,
   "id": "ecological-coast",
   "metadata": {},
   "outputs": [
    {
     "data": {
      "text/plain": [
       "array([0.  , 0.25, 0.5 , 0.75, 1.  ])"
      ]
     },
     "execution_count": 59,
     "metadata": {},
     "output_type": "execute_result"
    }
   ],
   "source": [
    "line = np.linspace(0,1,5)\n",
    "line"
   ]
  },
  {
   "cell_type": "code",
   "execution_count": 28,
   "id": "alternative-interface",
   "metadata": {},
   "outputs": [
    {
     "data": {
      "text/plain": [
       "array([0.        , 0.11111111, 0.22222222, 0.33333333, 0.44444444,\n",
       "       0.55555556, 0.66666667, 0.77777778, 0.88888889, 1.        ])"
      ]
     },
     "execution_count": 28,
     "metadata": {},
     "output_type": "execute_result"
    }
   ],
   "source": [
    "line"
   ]
  },
  {
   "cell_type": "code",
   "execution_count": null,
   "id": "quality-seeker",
   "metadata": {},
   "outputs": [],
   "source": []
  }
 ],
 "metadata": {
  "kernelspec": {
   "display_name": "Python 3",
   "language": "python",
   "name": "python3"
  },
  "language_info": {
   "codemirror_mode": {
    "name": "ipython",
    "version": 3
   },
   "file_extension": ".py",
   "mimetype": "text/x-python",
   "name": "python",
   "nbconvert_exporter": "python",
   "pygments_lexer": "ipython3",
   "version": "3.9.5"
  }
 },
 "nbformat": 4,
 "nbformat_minor": 5
}
