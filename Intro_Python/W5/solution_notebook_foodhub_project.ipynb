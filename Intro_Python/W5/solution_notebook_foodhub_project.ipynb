{
 "cells": [
  {
   "cell_type": "markdown",
   "metadata": {
    "id": "80ctNtpYm6t5"
   },
   "source": [
    "## Note: This is a sample solution for the project. Projects will NOT be graded on the basis of how well the submission matches this sample solution. Projects will be graded on the basis of the rubric only."
   ]
  },
  {
   "cell_type": "markdown",
   "metadata": {
    "id": "5Fc60oI6m6uD"
   },
   "source": [
    "# Project Python Foundations: FoodHub Data Analysis\n",
    "\n",
    "**Marks: 60**"
   ]
  },
  {
   "cell_type": "markdown",
   "metadata": {
    "id": "dTZOe75Um6uF"
   },
   "source": [
    "### Context\n",
    "\n",
    "The number of restaurants in New York is increasing day by day. Lots of students and busy professionals rely on those restaurants due to their hectic lifestyles. Online food delivery service is a great option for them. It provides them with good food from their favorite restaurants. A food aggregator company FoodHub offers access to multiple restaurants through a single smartphone app.\n",
    "\n",
    "The app allows the restaurants to receive a direct online order from a customer. The app assigns a delivery person from the company to pick up the order after it is confirmed by the restaurant. The delivery person then uses the map to reach the restaurant and waits for the food package. Once the food package is handed over to the delivery person, he/she confirms the pick-up in the app and travels to the customer's location to deliver the food. The delivery person confirms the drop-off in the app after delivering the food package to the customer. The customer can rate the order in the app. The food aggregator earns money by collecting a fixed margin of the delivery order from the restaurants.\n",
    "\n",
    "### Objective\n",
    "\n",
    "The food aggregator company has stored the data of the different orders made by the registered customers in their online portal. They want to analyze the data to get a fair idea about the demand of different restaurants which will help them in enhancing their customer experience. Suppose you are hired as a Data Scientist in this company and the Data Science team has shared some of the key questions that need to be answered. Perform the data analysis to find answers to these questions that will help the company to improve the business. \n",
    "\n",
    "### Data Description\n",
    "\n",
    "The data contains the different data related to a food order. The detailed data dictionary is given below.\n",
    "\n",
    "### Data Dictionary\n",
    "\n",
    "* order_id: Unique ID of the order\n",
    "* customer_id: ID of the customer who ordered the food\n",
    "* restaurant_name: Name of the restaurant\n",
    "* cuisine_type: Cuisine ordered by the customer\n",
    "* cost_of_the_order: Cost of the order\n",
    "* day_of_the_week: Indicates whether the order is placed on a weekday or weekend (The weekday is from Monday to Friday and the weekend is Saturday and Sunday)\n",
    "* rating: Rating given by the customer out of 5\n",
    "* food_preparation_time: Time (in minutes) taken by the restaurant to prepare the food. This is calculated by taking the difference between the timestamps of the restaurant's order confirmation and the delivery person's pick-up confirmation.\n",
    "* delivery_time: Time (in minutes) taken by the delivery person to deliver the food package. This is calculated by taking the difference between the timestamps of the delivery person's pick-up confirmation and drop-off information"
   ]
  },
  {
   "cell_type": "markdown",
   "metadata": {
    "id": "9tRIjr4im6uI"
   },
   "source": [
    "### Let us start by importing the required libraries"
   ]
  },
  {
   "cell_type": "code",
   "execution_count": 1,
   "metadata": {
    "id": "lPv3wfMGm6uJ"
   },
   "outputs": [],
   "source": [
    "# import libraries for data manipulation\n",
    "import numpy as np\n",
    "import pandas as pd\n",
    "\n",
    "# import libraries for data visualization\n",
    "import matplotlib.pyplot as plt\n",
    "import seaborn as sns\n",
    "#%matplotlib inline"
   ]
  },
  {
   "cell_type": "markdown",
   "metadata": {
    "id": "PQ3NUa4mm6uM"
   },
   "source": [
    "### Understanding the structure of the data"
   ]
  },
  {
   "cell_type": "code",
   "execution_count": 2,
   "metadata": {
    "colab": {
     "base_uri": "https://localhost:8080/",
     "height": 206
    },
    "executionInfo": {
     "elapsed": 616,
     "status": "ok",
     "timestamp": 1637158302641,
     "user": {
      "displayName": "Anwesha Bhattacharya",
      "photoUrl": "https://lh3.googleusercontent.com/a-/AOh14GidTKjkFKBj5Qerh8eg7jtsm7N4MJP57fek_GIM=s64",
      "userId": "14255337432980175263"
     },
     "user_tz": -330
    },
    "id": "viGSxT42m6uN",
    "outputId": "b15ec125-96f3-4cf0-9292-c2dfb53671d4"
   },
   "outputs": [
    {
     "data": {
      "text/html": [
       "<div>\n",
       "<style scoped>\n",
       "    .dataframe tbody tr th:only-of-type {\n",
       "        vertical-align: middle;\n",
       "    }\n",
       "\n",
       "    .dataframe tbody tr th {\n",
       "        vertical-align: top;\n",
       "    }\n",
       "\n",
       "    .dataframe thead th {\n",
       "        text-align: right;\n",
       "    }\n",
       "</style>\n",
       "<table border=\"1\" class=\"dataframe\">\n",
       "  <thead>\n",
       "    <tr style=\"text-align: right;\">\n",
       "      <th></th>\n",
       "      <th>order_id</th>\n",
       "      <th>customer_id</th>\n",
       "      <th>restaurant_name</th>\n",
       "      <th>cuisine_type</th>\n",
       "      <th>cost_of_the_order</th>\n",
       "      <th>day_of_the_week</th>\n",
       "      <th>rating</th>\n",
       "      <th>food_preparation_time</th>\n",
       "      <th>delivery_time</th>\n",
       "    </tr>\n",
       "  </thead>\n",
       "  <tbody>\n",
       "    <tr>\n",
       "      <th>0</th>\n",
       "      <td>1477147</td>\n",
       "      <td>337525</td>\n",
       "      <td>Hangawi</td>\n",
       "      <td>Korean</td>\n",
       "      <td>30.75</td>\n",
       "      <td>Weekend</td>\n",
       "      <td>Not given</td>\n",
       "      <td>25</td>\n",
       "      <td>20</td>\n",
       "    </tr>\n",
       "    <tr>\n",
       "      <th>1</th>\n",
       "      <td>1477685</td>\n",
       "      <td>358141</td>\n",
       "      <td>Blue Ribbon Sushi Izakaya</td>\n",
       "      <td>Japanese</td>\n",
       "      <td>12.08</td>\n",
       "      <td>Weekend</td>\n",
       "      <td>Not given</td>\n",
       "      <td>25</td>\n",
       "      <td>23</td>\n",
       "    </tr>\n",
       "    <tr>\n",
       "      <th>2</th>\n",
       "      <td>1477070</td>\n",
       "      <td>66393</td>\n",
       "      <td>Cafe Habana</td>\n",
       "      <td>Mexican</td>\n",
       "      <td>12.23</td>\n",
       "      <td>Weekday</td>\n",
       "      <td>5</td>\n",
       "      <td>23</td>\n",
       "      <td>28</td>\n",
       "    </tr>\n",
       "    <tr>\n",
       "      <th>3</th>\n",
       "      <td>1477334</td>\n",
       "      <td>106968</td>\n",
       "      <td>Blue Ribbon Fried Chicken</td>\n",
       "      <td>American</td>\n",
       "      <td>29.20</td>\n",
       "      <td>Weekend</td>\n",
       "      <td>3</td>\n",
       "      <td>25</td>\n",
       "      <td>15</td>\n",
       "    </tr>\n",
       "    <tr>\n",
       "      <th>4</th>\n",
       "      <td>1478249</td>\n",
       "      <td>76942</td>\n",
       "      <td>Dirty Bird to Go</td>\n",
       "      <td>American</td>\n",
       "      <td>11.59</td>\n",
       "      <td>Weekday</td>\n",
       "      <td>4</td>\n",
       "      <td>25</td>\n",
       "      <td>24</td>\n",
       "    </tr>\n",
       "  </tbody>\n",
       "</table>\n",
       "</div>"
      ],
      "text/plain": [
       "   order_id  customer_id            restaurant_name cuisine_type  \\\n",
       "0   1477147       337525                    Hangawi       Korean   \n",
       "1   1477685       358141  Blue Ribbon Sushi Izakaya     Japanese   \n",
       "2   1477070        66393                Cafe Habana      Mexican   \n",
       "3   1477334       106968  Blue Ribbon Fried Chicken     American   \n",
       "4   1478249        76942           Dirty Bird to Go     American   \n",
       "\n",
       "   cost_of_the_order day_of_the_week     rating  food_preparation_time  \\\n",
       "0              30.75         Weekend  Not given                     25   \n",
       "1              12.08         Weekend  Not given                     25   \n",
       "2              12.23         Weekday          5                     23   \n",
       "3              29.20         Weekend          3                     25   \n",
       "4              11.59         Weekday          4                     25   \n",
       "\n",
       "   delivery_time  \n",
       "0             20  \n",
       "1             23  \n",
       "2             28  \n",
       "3             15  \n",
       "4             24  "
      ]
     },
     "execution_count": 2,
     "metadata": {},
     "output_type": "execute_result"
    }
   ],
   "source": [
    "# read the data\n",
    "df = pd.read_csv('foodhub_order.csv')\n",
    "# returns the first 5 rows\n",
    "df.head()"
   ]
  },
  {
   "cell_type": "markdown",
   "metadata": {
    "id": "4UcGA_cqm6uR"
   },
   "source": [
    "#### Observations:\n",
    "\n",
    "The DataFrame has 9 columns as mentioned in the Data Dictionary. Data in each row corresponds to the order placed by a customer."
   ]
  },
  {
   "cell_type": "markdown",
   "metadata": {
    "id": "bKndbICMm6uT"
   },
   "source": [
    "### **Question 1:** How many rows and columns are present in the data? [0.5 mark]"
   ]
  },
  {
   "cell_type": "code",
   "execution_count": 3,
   "metadata": {
    "colab": {
     "base_uri": "https://localhost:8080/"
    },
    "executionInfo": {
     "elapsed": 1306,
     "status": "ok",
     "timestamp": 1637158304643,
     "user": {
      "displayName": "Anwesha Bhattacharya",
      "photoUrl": "https://lh3.googleusercontent.com/a-/AOh14GidTKjkFKBj5Qerh8eg7jtsm7N4MJP57fek_GIM=s64",
      "userId": "14255337432980175263"
     },
     "user_tz": -330
    },
    "id": "ABFUnFLUm6uW",
    "outputId": "a6779365-8a65-4290-a4fd-06b4bd9f1ea8"
   },
   "outputs": [
    {
     "data": {
      "text/plain": [
       "(1898, 9)"
      ]
     },
     "execution_count": 3,
     "metadata": {},
     "output_type": "execute_result"
    }
   ],
   "source": [
    "# check the shape of the dataset\n",
    "df.shape"
   ]
  },
  {
   "cell_type": "markdown",
   "metadata": {
    "id": "w8G4KUrCm6uX"
   },
   "source": [
    "#### Observations:\n",
    "\n",
    "* The DataFrame has 1898 rows and 9 columns."
   ]
  },
  {
   "cell_type": "markdown",
   "metadata": {
    "id": "KmfVNFUXm6uY"
   },
   "source": [
    "### **Question 2:** What are the datatypes of the different columns in the dataset? (The info() function can be used) [0.5 mark]\n"
   ]
  },
  {
   "cell_type": "code",
   "execution_count": 4,
   "metadata": {
    "colab": {
     "base_uri": "https://localhost:8080/"
    },
    "executionInfo": {
     "elapsed": 20,
     "status": "ok",
     "timestamp": 1637158304644,
     "user": {
      "displayName": "Anwesha Bhattacharya",
      "photoUrl": "https://lh3.googleusercontent.com/a-/AOh14GidTKjkFKBj5Qerh8eg7jtsm7N4MJP57fek_GIM=s64",
      "userId": "14255337432980175263"
     },
     "user_tz": -330
    },
    "id": "8E_D494tm6uZ",
    "outputId": "853922ec-da4e-4f30-821b-5613ab2aa04b"
   },
   "outputs": [
    {
     "name": "stdout",
     "output_type": "stream",
     "text": [
      "<class 'pandas.core.frame.DataFrame'>\n",
      "RangeIndex: 1898 entries, 0 to 1897\n",
      "Data columns (total 9 columns):\n",
      " #   Column                 Non-Null Count  Dtype  \n",
      "---  ------                 --------------  -----  \n",
      " 0   order_id               1898 non-null   int64  \n",
      " 1   customer_id            1898 non-null   int64  \n",
      " 2   restaurant_name        1898 non-null   object \n",
      " 3   cuisine_type           1898 non-null   object \n",
      " 4   cost_of_the_order      1898 non-null   float64\n",
      " 5   day_of_the_week        1898 non-null   object \n",
      " 6   rating                 1898 non-null   object \n",
      " 7   food_preparation_time  1898 non-null   int64  \n",
      " 8   delivery_time          1898 non-null   int64  \n",
      "dtypes: float64(1), int64(4), object(4)\n",
      "memory usage: 133.6+ KB\n"
     ]
    }
   ],
   "source": [
    "# use info() to print a concise summary of the DataFrame\n",
    "df.info()"
   ]
  },
  {
   "cell_type": "markdown",
   "metadata": {
    "id": "ssrSJdMBm6ua"
   },
   "source": [
    "#### Observations:\n",
    "* There are a total of 1898 non-null observations in each of the columns.\n",
    "\n",
    "* The dataset contains 9 columns: 4 are of integer type ('order_id', 'customer_id', 'food_preparation_time', 'delivery_time'), 1 is of floating point type ('cost_of_the_order') and 4 are of the general object type ('restaurant_name', 'cuisine_type', 'day_of_the_week', 'rating').\n",
    "\n",
    "* Total memory usage is approximately 133.6 KB.\n",
    "\n"
   ]
  },
  {
   "cell_type": "markdown",
   "metadata": {
    "id": "JW4_u6TLm6ub"
   },
   "source": [
    "### **Question 3:** 'restaurant_name', 'cuisine_type', 'day_of_the_week' are object type attributes. Convert them to 'category' type. Does this result in reduced memory usage? (Check the info() function) [1 mark]"
   ]
  },
  {
   "cell_type": "code",
   "execution_count": 5,
   "metadata": {
    "colab": {
     "base_uri": "https://localhost:8080/"
    },
    "executionInfo": {
     "elapsed": 19,
     "status": "ok",
     "timestamp": 1637158304645,
     "user": {
      "displayName": "Anwesha Bhattacharya",
      "photoUrl": "https://lh3.googleusercontent.com/a-/AOh14GidTKjkFKBj5Qerh8eg7jtsm7N4MJP57fek_GIM=s64",
      "userId": "14255337432980175263"
     },
     "user_tz": -330
    },
    "id": "SYgzlPK_m6uc",
    "outputId": "49e019b1-a8ca-493f-a973-ed4b54caf458"
   },
   "outputs": [
    {
     "name": "stdout",
     "output_type": "stream",
     "text": [
      "<class 'pandas.core.frame.DataFrame'>\n",
      "RangeIndex: 1898 entries, 0 to 1897\n",
      "Data columns (total 9 columns):\n",
      " #   Column                 Non-Null Count  Dtype   \n",
      "---  ------                 --------------  -----   \n",
      " 0   order_id               1898 non-null   int64   \n",
      " 1   customer_id            1898 non-null   int64   \n",
      " 2   restaurant_name        1898 non-null   category\n",
      " 3   cuisine_type           1898 non-null   category\n",
      " 4   cost_of_the_order      1898 non-null   float64 \n",
      " 5   day_of_the_week        1898 non-null   category\n",
      " 6   rating                 1898 non-null   object  \n",
      " 7   food_preparation_time  1898 non-null   int64   \n",
      " 8   delivery_time          1898 non-null   int64   \n",
      "dtypes: category(3), float64(1), int64(4), object(1)\n",
      "memory usage: 102.7+ KB\n"
     ]
    }
   ],
   "source": [
    "# coverting \"objects\" to \"category\" reduces the data space required to store the dataframe\n",
    "# write the code to convert 'restaurant_name', 'cuisine_type', 'day_of_the_week' into categorical data\n",
    "\n",
    "df.restaurant_name = df.restaurant_name.astype('category')     # Convert restaurant name from object to category\n",
    "df.cuisine_type = df.cuisine_type.astype('category')           # Convert cuisine type from object to category\n",
    "df.day_of_the_week = df.day_of_the_week.astype('category')     # Convert day of the week from object to category\n",
    "\n",
    "# use info() to print a concise summary of the DataFrame\n",
    "df.info()"
   ]
  },
  {
   "cell_type": "markdown",
   "metadata": {
    "id": "FI3wLN7Tm6ue"
   },
   "source": [
    "#### Observations:\n",
    "\n",
    "* 'restaurant_name', 'cuisine_type' and 'day_of_the_week' are now converted into categorical values.\n",
    "\n",
    "* Total memory usage has decreased now.\n"
   ]
  },
  {
   "cell_type": "markdown",
   "metadata": {
    "id": "qHHGTJ1Ym6ue"
   },
   "source": [
    "### **Question 4:** Check the statistical summary of the data. What is the minimum, average, and maximum time it takes for food to be prepared once an order is placed? [2 marks]"
   ]
  },
  {
   "cell_type": "code",
   "execution_count": 6,
   "metadata": {
    "colab": {
     "base_uri": "https://localhost:8080/",
     "height": 300
    },
    "executionInfo": {
     "elapsed": 18,
     "status": "ok",
     "timestamp": 1637158304646,
     "user": {
      "displayName": "Anwesha Bhattacharya",
      "photoUrl": "https://lh3.googleusercontent.com/a-/AOh14GidTKjkFKBj5Qerh8eg7jtsm7N4MJP57fek_GIM=s64",
      "userId": "14255337432980175263"
     },
     "user_tz": -330
    },
    "id": "FM7o6Dqdm6uf",
    "outputId": "7acdc7e0-df8a-4fa9-a5c7-aa2198bf9b40"
   },
   "outputs": [
    {
     "data": {
      "text/html": [
       "<div>\n",
       "<style scoped>\n",
       "    .dataframe tbody tr th:only-of-type {\n",
       "        vertical-align: middle;\n",
       "    }\n",
       "\n",
       "    .dataframe tbody tr th {\n",
       "        vertical-align: top;\n",
       "    }\n",
       "\n",
       "    .dataframe thead th {\n",
       "        text-align: right;\n",
       "    }\n",
       "</style>\n",
       "<table border=\"1\" class=\"dataframe\">\n",
       "  <thead>\n",
       "    <tr style=\"text-align: right;\">\n",
       "      <th></th>\n",
       "      <th>order_id</th>\n",
       "      <th>customer_id</th>\n",
       "      <th>cost_of_the_order</th>\n",
       "      <th>food_preparation_time</th>\n",
       "      <th>delivery_time</th>\n",
       "    </tr>\n",
       "  </thead>\n",
       "  <tbody>\n",
       "    <tr>\n",
       "      <th>count</th>\n",
       "      <td>1.898000e+03</td>\n",
       "      <td>1898.000000</td>\n",
       "      <td>1898.000000</td>\n",
       "      <td>1898.000000</td>\n",
       "      <td>1898.000000</td>\n",
       "    </tr>\n",
       "    <tr>\n",
       "      <th>mean</th>\n",
       "      <td>1.477496e+06</td>\n",
       "      <td>171168.478398</td>\n",
       "      <td>16.498851</td>\n",
       "      <td>27.371970</td>\n",
       "      <td>24.161749</td>\n",
       "    </tr>\n",
       "    <tr>\n",
       "      <th>std</th>\n",
       "      <td>5.480497e+02</td>\n",
       "      <td>113698.139743</td>\n",
       "      <td>7.483812</td>\n",
       "      <td>4.632481</td>\n",
       "      <td>4.972637</td>\n",
       "    </tr>\n",
       "    <tr>\n",
       "      <th>min</th>\n",
       "      <td>1.476547e+06</td>\n",
       "      <td>1311.000000</td>\n",
       "      <td>4.470000</td>\n",
       "      <td>20.000000</td>\n",
       "      <td>15.000000</td>\n",
       "    </tr>\n",
       "    <tr>\n",
       "      <th>25%</th>\n",
       "      <td>1.477021e+06</td>\n",
       "      <td>77787.750000</td>\n",
       "      <td>12.080000</td>\n",
       "      <td>23.000000</td>\n",
       "      <td>20.000000</td>\n",
       "    </tr>\n",
       "    <tr>\n",
       "      <th>50%</th>\n",
       "      <td>1.477496e+06</td>\n",
       "      <td>128600.000000</td>\n",
       "      <td>14.140000</td>\n",
       "      <td>27.000000</td>\n",
       "      <td>25.000000</td>\n",
       "    </tr>\n",
       "    <tr>\n",
       "      <th>75%</th>\n",
       "      <td>1.477970e+06</td>\n",
       "      <td>270525.000000</td>\n",
       "      <td>22.297500</td>\n",
       "      <td>31.000000</td>\n",
       "      <td>28.000000</td>\n",
       "    </tr>\n",
       "    <tr>\n",
       "      <th>max</th>\n",
       "      <td>1.478444e+06</td>\n",
       "      <td>405334.000000</td>\n",
       "      <td>35.410000</td>\n",
       "      <td>35.000000</td>\n",
       "      <td>33.000000</td>\n",
       "    </tr>\n",
       "  </tbody>\n",
       "</table>\n",
       "</div>"
      ],
      "text/plain": [
       "           order_id    customer_id  cost_of_the_order  food_preparation_time  \\\n",
       "count  1.898000e+03    1898.000000        1898.000000            1898.000000   \n",
       "mean   1.477496e+06  171168.478398          16.498851              27.371970   \n",
       "std    5.480497e+02  113698.139743           7.483812               4.632481   \n",
       "min    1.476547e+06    1311.000000           4.470000              20.000000   \n",
       "25%    1.477021e+06   77787.750000          12.080000              23.000000   \n",
       "50%    1.477496e+06  128600.000000          14.140000              27.000000   \n",
       "75%    1.477970e+06  270525.000000          22.297500              31.000000   \n",
       "max    1.478444e+06  405334.000000          35.410000              35.000000   \n",
       "\n",
       "       delivery_time  \n",
       "count    1898.000000  \n",
       "mean       24.161749  \n",
       "std         4.972637  \n",
       "min        15.000000  \n",
       "25%        20.000000  \n",
       "50%        25.000000  \n",
       "75%        28.000000  \n",
       "max        33.000000  "
      ]
     },
     "execution_count": 6,
     "metadata": {},
     "output_type": "execute_result"
    }
   ],
   "source": [
    "# get the summary statistics of the numerical data\n",
    "df.describe()"
   ]
  },
  {
   "cell_type": "markdown",
   "metadata": {
    "id": "sH5NPhRim6ug"
   },
   "source": [
    "#### Observations:\n",
    "\n",
    "* Order ID and Customer ID are just identifiers for each order.\n",
    "\n",
    "* The cost of an order ranges from 4.47 to 35.41 dollars, with an average order costing around 16 dollars and a standard deviation of 7.5 dollars. The cost of 75% of the orders are below 23 dollars. This indicates that most of the customers prefer low-cost food compared to the expensive ones.\n",
    "\n",
    "* Food preparation time ranges from 20 to 35 minutes, with an average of around 27 minutes and a standard deviation of 4.6 minutes. The spread is not very high for the food preparation time.\n",
    "\n",
    "* Delivery time ranges from 15 to 33 minutes, with an average of around 24 minutes and a standard deviation of 5 minutes. The spread is not too high for delivery time either. \n"
   ]
  },
  {
   "cell_type": "markdown",
   "metadata": {
    "id": "q14hu2PHm6uh"
   },
   "source": [
    "### **Question 5:** How many orders are not rated? [1 mark]"
   ]
  },
  {
   "cell_type": "code",
   "execution_count": 7,
   "metadata": {
    "colab": {
     "base_uri": "https://localhost:8080/"
    },
    "executionInfo": {
     "elapsed": 18,
     "status": "ok",
     "timestamp": 1637158304647,
     "user": {
      "displayName": "Anwesha Bhattacharya",
      "photoUrl": "https://lh3.googleusercontent.com/a-/AOh14GidTKjkFKBj5Qerh8eg7jtsm7N4MJP57fek_GIM=s64",
      "userId": "14255337432980175263"
     },
     "user_tz": -330
    },
    "id": "AvNS2O7Dm6ui",
    "outputId": "fb4e647f-0a01-40ed-f890-0b8e4035285f"
   },
   "outputs": [
    {
     "data": {
      "text/plain": [
       "Not given    736\n",
       "5            588\n",
       "4            386\n",
       "3            188\n",
       "Name: rating, dtype: int64"
      ]
     },
     "execution_count": 7,
     "metadata": {},
     "output_type": "execute_result"
    }
   ],
   "source": [
    "df['rating'].value_counts()"
   ]
  },
  {
   "cell_type": "markdown",
   "metadata": {
    "id": "xvu97iNnm6ul"
   },
   "source": [
    "#### Observations:\n",
    "\n",
    "* There are 736 orders that are not rated."
   ]
  },
  {
   "cell_type": "markdown",
   "metadata": {
    "id": "yzg6ATCym6um"
   },
   "source": [
    "### Exploratory Data Analysis (EDA)"
   ]
  },
  {
   "cell_type": "markdown",
   "metadata": {
    "id": "f7GPrL1Rm6um"
   },
   "source": [
    "### Univariate Analysis"
   ]
  },
  {
   "cell_type": "markdown",
   "metadata": {
    "id": "lob6SN0-m6um"
   },
   "source": [
    "### **Question 6:** Explore all the variables and provide observations on their distributions. (Generally, histograms, boxplots, countplots, etc. are used for univariate exploration.) [9 marks]"
   ]
  },
  {
   "cell_type": "code",
   "execution_count": 8,
   "metadata": {
    "id": "hlBof6N6m6un"
   },
   "outputs": [],
   "source": [
    "# function to plot a boxplot and a histogram along the same scale.\n",
    "\n",
    "def histogram_boxplot(data, feature, figsize=(12, 7), kde=False, bins=None):\n",
    "    \"\"\"\n",
    "    Boxplot and histogram combined\n",
    "\n",
    "    data: dataframe\n",
    "    feature: dataframe column\n",
    "    figsize: size of figure (default (12,7))\n",
    "    kde: whether to show the density curve (default False)\n",
    "    bins: number of bins for histogram (default None)\n",
    "    \"\"\"\n",
    "    f2, (ax_box2, ax_hist2) = plt.subplots(\n",
    "        nrows=2,  # Number of rows of the subplot grid= 2\n",
    "        sharex=True,  # x-axis will be shared among all subplots\n",
    "        gridspec_kw={\"height_ratios\": (0.25, 0.75)},\n",
    "        figsize=figsize,\n",
    "    )  # creating the 2 subplots\n",
    "    sns.boxplot(\n",
    "        data=data, x=feature, ax=ax_box2, showmeans=True, color=\"violet\"\n",
    "    )  # boxplot will be created and a star will indicate the mean value of the column\n",
    "    sns.histplot(\n",
    "        data=data, x=feature, kde=kde, ax=ax_hist2, bins=bins, palette=\"winter\"\n",
    "    ) if bins else sns.histplot(\n",
    "        data=data, x=feature, kde=kde, ax=ax_hist2\n",
    "    )  # For histogram\n",
    "    ax_hist2.axvline(\n",
    "        data[feature].mean(), color=\"green\", linestyle=\"--\"\n",
    "    )  # Add mean to the histogram\n",
    "    ax_hist2.axvline(\n",
    "        data[feature].median(), color=\"black\", linestyle=\"-\"\n",
    "    )  # Add median to the histogram"
   ]
  },
  {
   "cell_type": "code",
   "execution_count": 9,
   "metadata": {
    "id": "rgcgs-Zpm6un"
   },
   "outputs": [],
   "source": [
    "# function to create labeled barplots\n",
    "\n",
    "\n",
    "def labeled_barplot(data, feature, perc=False, n=None):\n",
    "    \"\"\"\n",
    "    Barplot with percentage at the top\n",
    "\n",
    "    data: dataframe\n",
    "    feature: dataframe column\n",
    "    perc: whether to display percentages instead of count (default is False)\n",
    "    n: displays the top n category levels (default is None, i.e., display all levels)\n",
    "    \"\"\"\n",
    "\n",
    "    total = len(data[feature])  # length of the column\n",
    "    count = data[feature].nunique()\n",
    "    if n is None:\n",
    "        plt.figure(figsize=(count + 1, 5))\n",
    "    else:\n",
    "        plt.figure(figsize=(n + 1, 5))\n",
    "\n",
    "    plt.xticks(rotation=90, fontsize=15)\n",
    "    ax = sns.countplot(\n",
    "        data=data,\n",
    "        x=feature,\n",
    "        palette=\"Paired\",\n",
    "        order=data[feature].value_counts().index[:n].sort_values(),\n",
    "    )\n",
    "\n",
    "    for p in ax.patches:\n",
    "        if perc == True:\n",
    "            label = \"{:.1f}%\".format(\n",
    "                100 * p.get_height() / total\n",
    "            )  # percentage of each class of the category\n",
    "        else:\n",
    "            label = p.get_height()  # count of each level of the category\n",
    "\n",
    "        x = p.get_x() + p.get_width() / 2  # width of the plot\n",
    "        y = p.get_height()  # height of the plot\n",
    "\n",
    "        ax.annotate(\n",
    "            label,\n",
    "            (x, y),\n",
    "            ha=\"center\",\n",
    "            va=\"center\",\n",
    "            size=12,\n",
    "            xytext=(0, 5),\n",
    "            textcoords=\"offset points\",\n",
    "        )  # annotate the percentage\n",
    "\n",
    "    plt.show()  # show the plot"
   ]
  },
  {
   "cell_type": "markdown",
   "metadata": {
    "id": "QxRmA1Dlm6uo"
   },
   "source": [
    "#### Order ID"
   ]
  },
  {
   "cell_type": "code",
   "execution_count": 10,
   "metadata": {
    "colab": {
     "base_uri": "https://localhost:8080/"
    },
    "executionInfo": {
     "elapsed": 17,
     "status": "ok",
     "timestamp": 1637158304648,
     "user": {
      "displayName": "Anwesha Bhattacharya",
      "photoUrl": "https://lh3.googleusercontent.com/a-/AOh14GidTKjkFKBj5Qerh8eg7jtsm7N4MJP57fek_GIM=s64",
      "userId": "14255337432980175263"
     },
     "user_tz": -330
    },
    "id": "E6fHbnxAm6up",
    "outputId": "e60fbbdc-96ad-4c37-a27a-a56ecbce8786"
   },
   "outputs": [
    {
     "data": {
      "text/plain": [
       "(1898,)"
      ]
     },
     "execution_count": 10,
     "metadata": {},
     "output_type": "execute_result"
    }
   ],
   "source": [
    "# check unique order ID\n",
    "df['order_id'].value_counts().shape"
   ]
  },
  {
   "cell_type": "markdown",
   "metadata": {
    "id": "bsH_wVFXm6uq"
   },
   "source": [
    "#### Observations:\n",
    "\n",
    "* There are 1898 unique orders. As mentioned earlier, 'order_id' is just an identifier for the orders."
   ]
  },
  {
   "cell_type": "markdown",
   "metadata": {
    "id": "9xxcztlUm6ur"
   },
   "source": [
    "#### Customer ID"
   ]
  },
  {
   "cell_type": "code",
   "execution_count": 11,
   "metadata": {
    "colab": {
     "base_uri": "https://localhost:8080/"
    },
    "executionInfo": {
     "elapsed": 16,
     "status": "ok",
     "timestamp": 1637158304648,
     "user": {
      "displayName": "Anwesha Bhattacharya",
      "photoUrl": "https://lh3.googleusercontent.com/a-/AOh14GidTKjkFKBj5Qerh8eg7jtsm7N4MJP57fek_GIM=s64",
      "userId": "14255337432980175263"
     },
     "user_tz": -330
    },
    "id": "fMd9JEQTm6us",
    "outputId": "4ff5c989-e44b-468b-c834-dc65b3edcda0"
   },
   "outputs": [
    {
     "data": {
      "text/plain": [
       "(1200,)"
      ]
     },
     "execution_count": 11,
     "metadata": {},
     "output_type": "execute_result"
    }
   ],
   "source": [
    "# check unique customer ID\n",
    "df['customer_id'].value_counts().shape"
   ]
  },
  {
   "cell_type": "markdown",
   "metadata": {
    "id": "pZPTwJQOm6ut"
   },
   "source": [
    "#### Observations:\n",
    "\n",
    "* There are 1200 unique customers. Though 'customer_id' is just a variable to identify customers, we can see that there are some customers who have placed more than one order.\n",
    "\n",
    "* Let's check the top 5 customers' IDs who have ordered most frequently."
   ]
  },
  {
   "cell_type": "code",
   "execution_count": 12,
   "metadata": {
    "colab": {
     "base_uri": "https://localhost:8080/"
    },
    "executionInfo": {
     "elapsed": 17,
     "status": "ok",
     "timestamp": 1637158304649,
     "user": {
      "displayName": "Anwesha Bhattacharya",
      "photoUrl": "https://lh3.googleusercontent.com/a-/AOh14GidTKjkFKBj5Qerh8eg7jtsm7N4MJP57fek_GIM=s64",
      "userId": "14255337432980175263"
     },
     "user_tz": -330
    },
    "id": "2MekmDXJm6ut",
    "outputId": "2837bc83-3580-493e-e979-c5ef92368257"
   },
   "outputs": [
    {
     "data": {
      "text/plain": [
       "52832     13\n",
       "47440     10\n",
       "83287      9\n",
       "250494     8\n",
       "259341     7\n",
       "Name: customer_id, dtype: int64"
      ]
     },
     "execution_count": 12,
     "metadata": {},
     "output_type": "execute_result"
    }
   ],
   "source": [
    "df['customer_id'].value_counts().head()"
   ]
  },
  {
   "cell_type": "markdown",
   "metadata": {
    "id": "_YZnoTdBm6uu"
   },
   "source": [
    "#### Observations:\n",
    "\n",
    "* Customer with ID 52832 has ordered 13 times."
   ]
  },
  {
   "cell_type": "markdown",
   "metadata": {
    "id": "Dl9_86Kcm6uv"
   },
   "source": [
    "#### Restaurant name"
   ]
  },
  {
   "cell_type": "code",
   "execution_count": 13,
   "metadata": {
    "colab": {
     "base_uri": "https://localhost:8080/"
    },
    "executionInfo": {
     "elapsed": 17,
     "status": "ok",
     "timestamp": 1637158304650,
     "user": {
      "displayName": "Anwesha Bhattacharya",
      "photoUrl": "https://lh3.googleusercontent.com/a-/AOh14GidTKjkFKBj5Qerh8eg7jtsm7N4MJP57fek_GIM=s64",
      "userId": "14255337432980175263"
     },
     "user_tz": -330
    },
    "id": "a4oxvHgom6uv",
    "outputId": "cba587fa-7d83-4ffb-cf3d-9ba43400b383"
   },
   "outputs": [
    {
     "data": {
      "text/plain": [
       "(178,)"
      ]
     },
     "execution_count": 13,
     "metadata": {},
     "output_type": "execute_result"
    }
   ],
   "source": [
    "# check unique restaurant name\n",
    "df['restaurant_name'].value_counts().shape"
   ]
  },
  {
   "cell_type": "markdown",
   "metadata": {
    "id": "xcvccdmom6uw"
   },
   "source": [
    "#### Observations:\n",
    "\n",
    "* There are 178 unique restaurants in the dataset.\n",
    "\n",
    "* Let's check the number of orders that get served by the restaurants."
   ]
  },
  {
   "cell_type": "code",
   "execution_count": 14,
   "metadata": {
    "colab": {
     "base_uri": "https://localhost:8080/"
    },
    "executionInfo": {
     "elapsed": 17,
     "status": "ok",
     "timestamp": 1637158304650,
     "user": {
      "displayName": "Anwesha Bhattacharya",
      "photoUrl": "https://lh3.googleusercontent.com/a-/AOh14GidTKjkFKBj5Qerh8eg7jtsm7N4MJP57fek_GIM=s64",
      "userId": "14255337432980175263"
     },
     "user_tz": -330
    },
    "id": "9wpt9Wcym6uw",
    "outputId": "9bdf0a5c-015b-47fc-abb6-ca81a4f48ae7"
   },
   "outputs": [
    {
     "data": {
      "text/plain": [
       "Shake Shack                  219\n",
       "The Meatball Shop            132\n",
       "Blue Ribbon Sushi            119\n",
       "Blue Ribbon Fried Chicken     96\n",
       "Parm                          68\n",
       "                            ... \n",
       "Klong                          1\n",
       "Kambi Ramen House              1\n",
       "Il Bambino                     1\n",
       "Hunan Manor                    1\n",
       "Lamarca Pasta                  1\n",
       "Name: restaurant_name, Length: 178, dtype: int64"
      ]
     },
     "execution_count": 14,
     "metadata": {},
     "output_type": "execute_result"
    }
   ],
   "source": [
    "df['restaurant_name'].value_counts()"
   ]
  },
  {
   "cell_type": "markdown",
   "metadata": {
    "id": "S7ENUfnzm6ux"
   },
   "source": [
    "#### Observations:\n",
    "\n",
    "* The restaurant that has received maximum number of orders is Shake Shack "
   ]
  },
  {
   "cell_type": "markdown",
   "metadata": {
    "id": "ZJTahAixm6ux"
   },
   "source": [
    "#### Cuisine type"
   ]
  },
  {
   "cell_type": "code",
   "execution_count": 15,
   "metadata": {
    "colab": {
     "base_uri": "https://localhost:8080/"
    },
    "executionInfo": {
     "elapsed": 16,
     "status": "ok",
     "timestamp": 1637158304650,
     "user": {
      "displayName": "Anwesha Bhattacharya",
      "photoUrl": "https://lh3.googleusercontent.com/a-/AOh14GidTKjkFKBj5Qerh8eg7jtsm7N4MJP57fek_GIM=s64",
      "userId": "14255337432980175263"
     },
     "user_tz": -330
    },
    "id": "I05yrPIpm6ux",
    "outputId": "f3c79f79-0667-4964-b490-f754916681a4"
   },
   "outputs": [
    {
     "data": {
      "text/plain": [
       "(14,)"
      ]
     },
     "execution_count": 15,
     "metadata": {},
     "output_type": "execute_result"
    }
   ],
   "source": [
    "# check unique cuisine type\n",
    "df['cuisine_type'].value_counts().shape"
   ]
  },
  {
   "cell_type": "code",
   "execution_count": 16,
   "metadata": {
    "colab": {
     "base_uri": "https://localhost:8080/"
    },
    "executionInfo": {
     "elapsed": 17,
     "status": "ok",
     "timestamp": 1637158304651,
     "user": {
      "displayName": "Anwesha Bhattacharya",
      "photoUrl": "https://lh3.googleusercontent.com/a-/AOh14GidTKjkFKBj5Qerh8eg7jtsm7N4MJP57fek_GIM=s64",
      "userId": "14255337432980175263"
     },
     "user_tz": -330
    },
    "id": "jOlVj3dAm6uy",
    "outputId": "57a41459-aa52-4594-a1e9-4e33b6d8d37a"
   },
   "outputs": [
    {
     "data": {
      "image/png": "[encoded data removed]",
      "text/plain": [
       "<Figure size 432x360 with 1 Axes>"
      ]
     },
     "metadata": {
      "needs_background": "light"
     },
     "output_type": "display_data"
    }
   ],
   "source": [
    "labeled_barplot(df, 'cuisine_type', perc=True, n=5)"
   ]
  },
  {
   "cell_type": "markdown",
   "metadata": {
    "id": "FRutqEonm6uy"
   },
   "source": [
    "#### Observations:\n",
    "\n",
    "* There are 14 unique cuisines in the dataset.\n",
    "\n",
    "* The distribution of cuisine types show that cuisine types are not equally distributed. \n",
    "\n",
    "* The most frequent cuisine type is American followed by Japanese and Italian.\n",
    "\n",
    "* Vietnamese appears to be the least popular of all the cuisines."
   ]
  },
  {
   "cell_type": "markdown",
   "metadata": {
    "id": "aWzztbuXm6uy"
   },
   "source": [
    "#### Cost of the order"
   ]
  },
  {
   "cell_type": "code",
   "execution_count": 17,
   "metadata": {
    "colab": {
     "base_uri": "https://localhost:8080/"
    },
    "executionInfo": {
     "elapsed": 1316,
     "status": "ok",
     "timestamp": 1637158305951,
     "user": {
      "displayName": "Anwesha Bhattacharya",
      "photoUrl": "https://lh3.googleusercontent.com/a-/AOh14GidTKjkFKBj5Qerh8eg7jtsm7N4MJP57fek_GIM=s64",
      "userId": "14255337432980175263"
     },
     "user_tz": -330
    },
    "id": "DKK6Y_oKm6uz",
    "outputId": "753f85c7-e856-4faf-d81b-b0756551baf8"
   },
   "outputs": [
    {
     "data": {
      "image/png": "[encoded data removed]",
      "text/plain": [
       "<Figure size 864x504 with 2 Axes>"
      ]
     },
     "metadata": {
      "needs_background": "light"
     },
     "output_type": "display_data"
    }
   ],
   "source": [
    "histogram_boxplot(df, 'cost_of_the_order')"
   ]
  },
  {
   "cell_type": "markdown",
   "metadata": {
    "id": "Qv-nWX3Lm6uz"
   },
   "source": [
    "#### Observations:\n",
    "\n",
    "* The average cost of the order is greater than the median cost indicating that the distribution for the cost of the order is right-skewed.\n",
    "\n",
    "* The mode of the distribution indicates that a large chunk of people prefer to order food that costs around 10-12 dollars.\n",
    "\n",
    "* There are few orders that cost greater than 30 dollars. These orders might be for some expensive meals."
   ]
  },
  {
   "cell_type": "markdown",
   "metadata": {
    "id": "ghzjGDa0m6u0"
   },
   "source": [
    "#### Day of the week"
   ]
  },
  {
   "cell_type": "code",
   "execution_count": 18,
   "metadata": {
    "colab": {
     "base_uri": "https://localhost:8080/"
    },
    "executionInfo": {
     "elapsed": 13,
     "status": "ok",
     "timestamp": 1637158305952,
     "user": {
      "displayName": "Anwesha Bhattacharya",
      "photoUrl": "https://lh3.googleusercontent.com/a-/AOh14GidTKjkFKBj5Qerh8eg7jtsm7N4MJP57fek_GIM=s64",
      "userId": "14255337432980175263"
     },
     "user_tz": -330
    },
    "id": "08o3dgUum6u0",
    "outputId": "6e6d6230-52eb-454c-c59c-c79bd4877d6c"
   },
   "outputs": [
    {
     "data": {
      "text/plain": [
       "Weekend    1351\n",
       "Weekday     547\n",
       "Name: day_of_the_week, dtype: int64"
      ]
     },
     "execution_count": 18,
     "metadata": {},
     "output_type": "execute_result"
    }
   ],
   "source": [
    "# check the unique values\n",
    "df['day_of_the_week'].value_counts()"
   ]
  },
  {
   "cell_type": "code",
   "execution_count": 19,
   "metadata": {
    "colab": {
     "base_uri": "https://localhost:8080/"
    },
    "executionInfo": {
     "elapsed": 12,
     "status": "ok",
     "timestamp": 1637158305953,
     "user": {
      "displayName": "Anwesha Bhattacharya",
      "photoUrl": "https://lh3.googleusercontent.com/a-/AOh14GidTKjkFKBj5Qerh8eg7jtsm7N4MJP57fek_GIM=s64",
      "userId": "14255337432980175263"
     },
     "user_tz": -330
    },
    "id": "i9cR6RH9m6u0",
    "outputId": "a5ea1a5f-af1c-4a0c-c120-ba9bce3f2a46"
   },
   "outputs": [
    {
     "data": {
      "image/png": "[encoded data removed]",
      "text/plain": [
       "<Figure size 216x360 with 1 Axes>"
      ]
     },
     "metadata": {
      "needs_background": "light"
     },
     "output_type": "display_data"
    }
   ],
   "source": [
    "labeled_barplot(df, 'day_of_the_week', perc=True)"
   ]
  },
  {
   "cell_type": "markdown",
   "metadata": {
    "id": "WG1N1d_jm6u1"
   },
   "source": [
    "#### Observations:\n",
    "\n",
    "* The 'day_of_the_week' columns consists of 2 unique values - Weekday and Weekend\n",
    "* The distribution shows that around 71% of all orders are placed on weekends."
   ]
  },
  {
   "cell_type": "markdown",
   "metadata": {
    "id": "RI6-QZoxm6u1"
   },
   "source": [
    "#### Rating"
   ]
  },
  {
   "cell_type": "code",
   "execution_count": 20,
   "metadata": {
    "colab": {
     "base_uri": "https://localhost:8080/"
    },
    "executionInfo": {
     "elapsed": 12,
     "status": "ok",
     "timestamp": 1637158305953,
     "user": {
      "displayName": "Anwesha Bhattacharya",
      "photoUrl": "https://lh3.googleusercontent.com/a-/AOh14GidTKjkFKBj5Qerh8eg7jtsm7N4MJP57fek_GIM=s64",
      "userId": "14255337432980175263"
     },
     "user_tz": -330
    },
    "id": "ip72Bz6am6u2",
    "outputId": "033b0744-3caf-4204-db90-fffdec9c3405"
   },
   "outputs": [
    {
     "data": {
      "text/plain": [
       "Not given    736\n",
       "5            588\n",
       "4            386\n",
       "3            188\n",
       "Name: rating, dtype: int64"
      ]
     },
     "execution_count": 20,
     "metadata": {},
     "output_type": "execute_result"
    }
   ],
   "source": [
    "# check the unique values\n",
    "df['rating'].value_counts()"
   ]
  },
  {
   "cell_type": "code",
   "execution_count": 21,
   "metadata": {
    "colab": {
     "base_uri": "https://localhost:8080/"
    },
    "executionInfo": {
     "elapsed": 12,
     "status": "ok",
     "timestamp": 1637158305954,
     "user": {
      "displayName": "Anwesha Bhattacharya",
      "photoUrl": "https://lh3.googleusercontent.com/a-/AOh14GidTKjkFKBj5Qerh8eg7jtsm7N4MJP57fek_GIM=s64",
      "userId": "14255337432980175263"
     },
     "user_tz": -330
    },
    "id": "nrdcjvwzm6u2",
    "outputId": "43f0ed96-866f-4338-ad20-a464754b7f57"
   },
   "outputs": [
    {
     "data": {
      "image/png": "[encoded data removed]",
      "text/plain": [
       "<Figure size 360x360 with 1 Axes>"
      ]
     },
     "metadata": {
      "needs_background": "light"
     },
     "output_type": "display_data"
    }
   ],
   "source": [
    "labeled_barplot(df, 'rating', perc=True)"
   ]
  },
  {
   "cell_type": "markdown",
   "metadata": {
    "id": "SF_LiBinm6u2"
   },
   "source": [
    "#### Observations:\n",
    "\n",
    "* The distribution of 'rating' shows that the most frequent rating category is 'not given' (around 39%), followed by a rating of 5 (around 31%).\n",
    "\n",
    "* Only 10% orders have been rated 3."
   ]
  },
  {
   "cell_type": "markdown",
   "metadata": {
    "id": "ZJuvXVbGm6u3"
   },
   "source": [
    "#### Food Preparation time"
   ]
  },
  {
   "cell_type": "code",
   "execution_count": 22,
   "metadata": {
    "colab": {
     "base_uri": "https://localhost:8080/"
    },
    "executionInfo": {
     "elapsed": 11,
     "status": "ok",
     "timestamp": 1637158305954,
     "user": {
      "displayName": "Anwesha Bhattacharya",
      "photoUrl": "https://lh3.googleusercontent.com/a-/AOh14GidTKjkFKBj5Qerh8eg7jtsm7N4MJP57fek_GIM=s64",
      "userId": "14255337432980175263"
     },
     "user_tz": -330
    },
    "id": "7xyOp7kim6u3",
    "outputId": "efa16c78-966a-4a3d-e544-c0c88f1f447a"
   },
   "outputs": [
    {
     "data": {
      "image/png": "[encoded data removed]",
      "text/plain": [
       "<Figure size 864x504 with 2 Axes>"
      ]
     },
     "metadata": {
      "needs_background": "light"
     },
     "output_type": "display_data"
    }
   ],
   "source": [
    "histogram_boxplot(df, 'food_preparation_time', bins = 16)"
   ]
  },
  {
   "cell_type": "markdown",
   "metadata": {
    "id": "nZ3bkcL1m6u3"
   },
   "source": [
    "#### Observations:\n",
    "\n",
    "* The average food preparation time is almost equal to the median food preparation time indicating that the distribution is nearly symmetrical.\n",
    "\n",
    "* The food preparation time is pretty evenly distributed between 20 and 35 minutes.\n",
    "\n",
    "* There are no outliers in this column."
   ]
  },
  {
   "cell_type": "markdown",
   "metadata": {
    "id": "dJcMf-HIm6u4"
   },
   "source": [
    "#### Delivery time"
   ]
  },
  {
   "cell_type": "code",
   "execution_count": 23,
   "metadata": {
    "colab": {
     "base_uri": "https://localhost:8080/"
    },
    "executionInfo": {
     "elapsed": 1045,
     "status": "ok",
     "timestamp": 1637158306989,
     "user": {
      "displayName": "Anwesha Bhattacharya",
      "photoUrl": "https://lh3.googleusercontent.com/a-/AOh14GidTKjkFKBj5Qerh8eg7jtsm7N4MJP57fek_GIM=s64",
      "userId": "14255337432980175263"
     },
     "user_tz": -330
    },
    "id": "NcDHhNk8m6u4",
    "outputId": "6d525a68-d63f-4162-ea3b-e28bc5662a8e"
   },
   "outputs": [
    {
     "data": {
      "image/png": "[encoded data removed]",
      "text/plain": [
       "<Figure size 864x504 with 2 Axes>"
      ]
     },
     "metadata": {
      "needs_background": "light"
     },
     "output_type": "display_data"
    }
   ],
   "source": [
    "histogram_boxplot(df, 'delivery_time')"
   ]
  },
  {
   "cell_type": "markdown",
   "metadata": {
    "id": "_bmflrvLm6u4"
   },
   "source": [
    "#### Observations:\n",
    "\n",
    "* The average delivery time is a bit smaller than the median delivery time indicating that the distribution is a bit left-skewed.\n",
    "\n",
    "* Comparatively more number of orders have delivery time between 24 and 30 minutes.\n",
    "\n",
    "* There are no outliers in this column."
   ]
  },
  {
   "cell_type": "markdown",
   "metadata": {
    "id": "PYWJ9hw4m6u5"
   },
   "source": [
    "### **Question 7:** Which are the top 5 restaurants in terms of the number of orders received? [1 mark]"
   ]
  },
  {
   "cell_type": "code",
   "execution_count": 24,
   "metadata": {
    "colab": {
     "base_uri": "https://localhost:8080/"
    },
    "executionInfo": {
     "elapsed": 16,
     "status": "ok",
     "timestamp": 1637158306990,
     "user": {
      "displayName": "Anwesha Bhattacharya",
      "photoUrl": "https://lh3.googleusercontent.com/a-/AOh14GidTKjkFKBj5Qerh8eg7jtsm7N4MJP57fek_GIM=s64",
      "userId": "14255337432980175263"
     },
     "user_tz": -330
    },
    "id": "75v9LWFYm6u5",
    "outputId": "abaa715c-ee7f-4669-d55a-1ff481b67c34"
   },
   "outputs": [
    {
     "data": {
      "text/plain": [
       "Shake Shack                  219\n",
       "The Meatball Shop            132\n",
       "Blue Ribbon Sushi            119\n",
       "Blue Ribbon Fried Chicken     96\n",
       "Parm                          68\n",
       "Name: restaurant_name, dtype: int64"
      ]
     },
     "execution_count": 24,
     "metadata": {},
     "output_type": "execute_result"
    }
   ],
   "source": [
    "# Get top 5 restaurants with highest number of orders\n",
    "df['restaurant_name'].value_counts()[:5]"
   ]
  },
  {
   "cell_type": "markdown",
   "metadata": {
    "id": "W2BffrGIm6u5"
   },
   "source": [
    "#### Observations:\n",
    "\n",
    "* Top 5 popular restaurants that have received the highest number of orders **'Shake Shack', 'The Meatball Shop', 'Blue Ribbon Sushi', 'Blue Ribbon Fried Chicken' and 'Parm'**. \n",
    "\n",
    "* Almost 33% of the orders in the dataset are from these restaurants.\n"
   ]
  },
  {
   "cell_type": "markdown",
   "metadata": {
    "id": "HrtWQfSJm6u6"
   },
   "source": [
    "### **Question 8:** Which is the most popular cuisine on weekends? [1 mark]"
   ]
  },
  {
   "cell_type": "code",
   "execution_count": 25,
   "metadata": {
    "colab": {
     "base_uri": "https://localhost:8080/"
    },
    "executionInfo": {
     "elapsed": 15,
     "status": "ok",
     "timestamp": 1637158306991,
     "user": {
      "displayName": "Anwesha Bhattacharya",
      "photoUrl": "https://lh3.googleusercontent.com/a-/AOh14GidTKjkFKBj5Qerh8eg7jtsm7N4MJP57fek_GIM=s64",
      "userId": "14255337432980175263"
     },
     "user_tz": -330
    },
    "id": "YfiQ4lVgm6u6",
    "outputId": "ae857ab3-2429-4af3-b422-68fcd2e80cd9"
   },
   "outputs": [
    {
     "data": {
      "text/plain": [
       "American          415\n",
       "Japanese          335\n",
       "Italian           207\n",
       "Chinese           163\n",
       "Mexican            53\n",
       "Indian             49\n",
       "Mediterranean      32\n",
       "Middle Eastern     32\n",
       "Thai               15\n",
       "French             13\n",
       "Korean             11\n",
       "Southern           11\n",
       "Spanish            11\n",
       "Vietnamese          4\n",
       "Name: cuisine_type, dtype: int64"
      ]
     },
     "execution_count": 25,
     "metadata": {},
     "output_type": "execute_result"
    }
   ],
   "source": [
    "# Get most popular cuisine on weekends\n",
    "df_weekend = df[df['day_of_the_week'] == 'Weekend']\n",
    "df_weekend['cuisine_type'].value_counts()"
   ]
  },
  {
   "cell_type": "markdown",
   "metadata": {
    "id": "kWzh3GtPm6u6"
   },
   "source": [
    "#### Observations:\n",
    "\n",
    "* The most popular cuisine type on weekends is American.\n"
   ]
  },
  {
   "cell_type": "markdown",
   "metadata": {
    "id": "GMlppFGum6u7"
   },
   "source": [
    "### **Question 9:** What percentage of the orders cost more than 20 dollars? [2 Marks]"
   ]
  },
  {
   "cell_type": "code",
   "execution_count": 26,
   "metadata": {
    "colab": {
     "base_uri": "https://localhost:8080/"
    },
    "executionInfo": {
     "elapsed": 14,
     "status": "ok",
     "timestamp": 1637158306991,
     "user": {
      "displayName": "Anwesha Bhattacharya",
      "photoUrl": "https://lh3.googleusercontent.com/a-/AOh14GidTKjkFKBj5Qerh8eg7jtsm7N4MJP57fek_GIM=s64",
      "userId": "14255337432980175263"
     },
     "user_tz": -330
    },
    "id": "4VtPDAnSm6u7",
    "outputId": "e3e00e3d-d6a0-4413-a9ca-f794fb9464ef"
   },
   "outputs": [
    {
     "name": "stdout",
     "output_type": "stream",
     "text": [
      "The number of total orders that cost above 20 dollars is: 555\n",
      "Percentage of orders above 20 dollars: 29.24 %\n"
     ]
    }
   ],
   "source": [
    "# Get orders that cost above 20 dollars\n",
    "df_greater_than_20 = df[df['cost_of_the_order'] > 20]\n",
    "\n",
    "# Calculate the number of total orders where the cost is above 20 dollars\n",
    "\n",
    "print('The number of total orders that cost above 20 dollars is:', df_greater_than_20.shape[0])\n",
    "\n",
    "# Calculate percentage of such orders in the dataset\n",
    "percentage = (df_greater_than_20.shape[0] / df.shape[0]) * 100\n",
    "\n",
    "print(\"Percentage of orders above 20 dollars:\", round(percentage, 2), '%')"
   ]
  },
  {
   "cell_type": "markdown",
   "metadata": {
    "id": "PMaQdz6Cm6u7"
   },
   "source": [
    "#### Observations:\n",
    "\n",
    "* There are a total of 555 orders that cost above 20 dollars.\n",
    "\n",
    "* The percentage of such orders in the dataset is around 29.24%.\n"
   ]
  },
  {
   "cell_type": "markdown",
   "metadata": {
    "id": "dFV83IYdm6u8"
   },
   "source": [
    "### **Question 10:** What is the mean order delivery time? [1 mark]"
   ]
  },
  {
   "cell_type": "code",
   "execution_count": 27,
   "metadata": {
    "colab": {
     "base_uri": "https://localhost:8080/"
    },
    "executionInfo": {
     "elapsed": 14,
     "status": "ok",
     "timestamp": 1637158306991,
     "user": {
      "displayName": "Anwesha Bhattacharya",
      "photoUrl": "https://lh3.googleusercontent.com/a-/AOh14GidTKjkFKBj5Qerh8eg7jtsm7N4MJP57fek_GIM=s64",
      "userId": "14255337432980175263"
     },
     "user_tz": -330
    },
    "id": "4yWL7sEQm6u8",
    "outputId": "5f182e15-6252-4dab-af2f-69d2d028a0dd"
   },
   "outputs": [
    {
     "name": "stdout",
     "output_type": "stream",
     "text": [
      "The mean delivery time for this dataset is 24.16 minutes\n"
     ]
    }
   ],
   "source": [
    "# get the mean delivery time\n",
    "print('The mean delivery time for this dataset is', round(df['delivery_time'].mean(), 2), 'minutes')"
   ]
  },
  {
   "cell_type": "markdown",
   "metadata": {
    "id": "XMSbZOrrm6u8"
   },
   "source": [
    "#### Observations:\n",
    "\n",
    "* The mean delivery time is around 24.16 minutes.\n"
   ]
  },
  {
   "cell_type": "markdown",
   "metadata": {
    "id": "mpFTCkb4m6u9"
   },
   "source": [
    "### **Question 11:** The company has decided to give 20% discount vouchers to the top 5 most frequent customers. Find the IDs of these customers and the number of orders they placed. [1 mark]"
   ]
  },
  {
   "cell_type": "code",
   "execution_count": 28,
   "metadata": {
    "colab": {
     "base_uri": "https://localhost:8080/"
    },
    "executionInfo": {
     "elapsed": 14,
     "status": "ok",
     "timestamp": 1637158306992,
     "user": {
      "displayName": "Anwesha Bhattacharya",
      "photoUrl": "https://lh3.googleusercontent.com/a-/AOh14GidTKjkFKBj5Qerh8eg7jtsm7N4MJP57fek_GIM=s64",
      "userId": "14255337432980175263"
     },
     "user_tz": -330
    },
    "id": "cMlblCMOMyK0",
    "outputId": "601f267b-946f-40e3-8ffb-25e12d9a3a65"
   },
   "outputs": [
    {
     "data": {
      "text/plain": [
       "52832     13\n",
       "47440     10\n",
       "83287      9\n",
       "250494     8\n",
       "259341     7\n",
       "Name: customer_id, dtype: int64"
      ]
     },
     "execution_count": 28,
     "metadata": {},
     "output_type": "execute_result"
    }
   ],
   "source": [
    "# Get the counts of  each customer_id\n",
    "df['customer_id'].value_counts().head() "
   ]
  },
  {
   "cell_type": "markdown",
   "metadata": {
    "id": "-KDs6lf7m6u9"
   },
   "source": [
    "#### Observations:\n",
    "- Customer with ID 52832 has ordered 13 times.\n"
   ]
  },
  {
   "cell_type": "markdown",
   "metadata": {
    "id": "jpuNjd2jm6u-"
   },
   "source": [
    "### Multivariate Analysis"
   ]
  },
  {
   "cell_type": "markdown",
   "metadata": {
    "id": "hT-S0pZ1m6u-"
   },
   "source": [
    "### **Question 12:** Perform a multivariate analysis to explore relationships between the important variables in the dataset. (It is a good idea to explore relations between numerical variables as well as relations between numerical and categorical variables) [10 marks]"
   ]
  },
  {
   "cell_type": "markdown",
   "metadata": {
    "id": "KcDUUrytm6u-"
   },
   "source": [
    "#### Cuisine vs Cost of the order"
   ]
  },
  {
   "cell_type": "code",
   "execution_count": 29,
   "metadata": {
    "colab": {
     "base_uri": "https://localhost:8080/",
     "height": 503
    },
    "executionInfo": {
     "elapsed": 14,
     "status": "ok",
     "timestamp": 1637158306992,
     "user": {
      "displayName": "Anwesha Bhattacharya",
      "photoUrl": "https://lh3.googleusercontent.com/a-/AOh14GidTKjkFKBj5Qerh8eg7jtsm7N4MJP57fek_GIM=s64",
      "userId": "14255337432980175263"
     },
     "user_tz": -330
    },
    "id": "oHl8pmD_m6u-",
    "outputId": "cfc794a9-a8fc-4f0a-f0b2-8b2336ec5f18"
   },
   "outputs": [
    {
     "data": {
      "image/png": "[encoded data removed]",
      "text/plain": [
       "<Figure size 1080x504 with 1 Axes>"
      ]
     },
     "metadata": {
      "needs_background": "light"
     },
     "output_type": "display_data"
    }
   ],
   "source": [
    "# Relationship between cost of the order and cuisine type\n",
    "plt.figure(figsize=(15,7))\n",
    "sns.boxplot(x = \"cuisine_type\", y = \"cost_of_the_order\", data = df, palette = 'PuBu')\n",
    "plt.xticks(rotation = 60)\n",
    "plt.show()"
   ]
  },
  {
   "cell_type": "markdown",
   "metadata": {
    "id": "apBaHr6cm6u_"
   },
   "source": [
    "#### Observations:\n",
    "\n",
    "* Vietnamese and Korean cuisines cost less compared to other cuisines.\n",
    "* The boxplots for Italian, American, Chinese, Japanese cuisines are quite similar. This indicates that the quartile costs for these cuisines are quite similar.\n",
    "* Outliers are present for the cost of Korean, Mediterranean and Vietnamese cuisines.\n",
    "* French and Spanish cuisines are costlier compared to other cuisines."
   ]
  },
  {
   "cell_type": "markdown",
   "metadata": {
    "id": "7uNdYNUQm6u_"
   },
   "source": [
    "#### Cuisine vs Food Preparation time"
   ]
  },
  {
   "cell_type": "code",
   "execution_count": 30,
   "metadata": {
    "colab": {
     "base_uri": "https://localhost:8080/",
     "height": 503
    },
    "executionInfo": {
     "elapsed": 1740,
     "status": "ok",
     "timestamp": 1637158308719,
     "user": {
      "displayName": "Anwesha Bhattacharya",
      "photoUrl": "https://lh3.googleusercontent.com/a-/AOh14GidTKjkFKBj5Qerh8eg7jtsm7N4MJP57fek_GIM=s64",
      "userId": "14255337432980175263"
     },
     "user_tz": -330
    },
    "id": "JAx4avTRm6vA",
    "outputId": "79ef1b1f-9420-4d4f-ae27-daac07230a58"
   },
   "outputs": [
    {
     "data": {
      "image/png": "[encoded data removed]",
      "text/plain": [
       "<Figure size 1080x504 with 1 Axes>"
      ]
     },
     "metadata": {
      "needs_background": "light"
     },
     "output_type": "display_data"
    }
   ],
   "source": [
    "# Relationship between food preparation time and cuisine type\n",
    "plt.figure(figsize=(15,7))\n",
    "sns.boxplot(x = \"cuisine_type\", y = \"food_preparation_time\", data = df, palette = 'PuBu')\n",
    "plt.xticks(rotation = 60)\n",
    "plt.show()"
   ]
  },
  {
   "cell_type": "markdown",
   "metadata": {
    "id": "mHPdLK2mm6vA"
   },
   "source": [
    "#### Observations:\n",
    "\n",
    "* Food preparation time is very consistent for most of the cuisines. \n",
    "* The median food preparation time lies between 24 and 30 minutes for all the cuisines.\n",
    "* Outliers are present for the food preparation time of Korean cuisine.\n",
    "* Korean cuisine takes less time compared to the other cuisines.\n"
   ]
  },
  {
   "cell_type": "markdown",
   "metadata": {
    "id": "_S6guWjHm6vA"
   },
   "source": [
    "#### Day of the Week vs Delivery time"
   ]
  },
  {
   "cell_type": "code",
   "execution_count": 31,
   "metadata": {
    "colab": {
     "base_uri": "https://localhost:8080/",
     "height": 478
    },
    "executionInfo": {
     "elapsed": 22,
     "status": "ok",
     "timestamp": 1637158308721,
     "user": {
      "displayName": "Anwesha Bhattacharya",
      "photoUrl": "https://lh3.googleusercontent.com/a-/AOh14GidTKjkFKBj5Qerh8eg7jtsm7N4MJP57fek_GIM=s64",
      "userId": "14255337432980175263"
     },
     "user_tz": -330
    },
    "id": "dZP6WwDZm6vB",
    "outputId": "deec039a-6df3-4a5d-e090-19c7dd0118bd"
   },
   "outputs": [
    {
     "data": {
      "image/png": "[encoded data removed]",
      "text/plain": [
       "<Figure size 720x288 with 1 Axes>"
      ]
     },
     "metadata": {
      "needs_background": "light"
     },
     "output_type": "display_data"
    }
   ],
   "source": [
    "# Relationship between day of the week and delivery time\n",
    "plt.figure(figsize=(10,4))\n",
    "sns.boxplot(x = \"day_of_the_week\", y = \"delivery_time\", data = df, palette = 'PuBu')\n",
    "plt.xticks(rotation = 60)\n",
    "plt.show()"
   ]
  },
  {
   "cell_type": "markdown",
   "metadata": {
    "id": "Q_e0JW93m6vB"
   },
   "source": [
    "#### Observations:\n",
    "\n",
    "* The delivery time for all the orders over the weekends is less compared to weekdays. This could be due to the dip in traffic over the weekends.\n"
   ]
  },
  {
   "cell_type": "markdown",
   "metadata": {
    "id": "qI-_5-_rm6vB"
   },
   "source": [
    "#### Revenue generated by the restaurants"
   ]
  },
  {
   "cell_type": "code",
   "execution_count": 32,
   "metadata": {
    "colab": {
     "base_uri": "https://localhost:8080/",
     "height": 312
    },
    "executionInfo": {
     "elapsed": 20,
     "status": "ok",
     "timestamp": 1637158308722,
     "user": {
      "displayName": "Anwesha Bhattacharya",
      "photoUrl": "https://lh3.googleusercontent.com/a-/AOh14GidTKjkFKBj5Qerh8eg7jtsm7N4MJP57fek_GIM=s64",
      "userId": "14255337432980175263"
     },
     "user_tz": -330
    },
    "id": "KE-bRW-9m6vC",
    "outputId": "141e0329-77f4-4153-a140-ab44538979f0"
   },
   "outputs": [
    {
     "data": {
      "text/plain": [
       "restaurant_name\n",
       "Shake Shack                      3579.53\n",
       "The Meatball Shop                2145.21\n",
       "Blue Ribbon Sushi                1903.95\n",
       "Blue Ribbon Fried Chicken        1662.29\n",
       "Parm                             1112.76\n",
       "RedFarm Broadway                  965.13\n",
       "RedFarm Hudson                    921.21\n",
       "TAO                               834.50\n",
       "Han Dynasty                       755.29\n",
       "Blue Ribbon Sushi Bar & Grill     666.62\n",
       "Rubirosa                          660.45\n",
       "Sushi of Gari 46                  640.87\n",
       "Nobu Next Door                    623.67\n",
       "Five Guys Burgers and Fries       506.47\n",
       "Name: cost_of_the_order, dtype: float64"
      ]
     },
     "execution_count": 32,
     "metadata": {},
     "output_type": "execute_result"
    },
    {
     "data": {
      "text/plain": [
       "<Figure size 1080x504 with 0 Axes>"
      ]
     },
     "metadata": {},
     "output_type": "display_data"
    }
   ],
   "source": [
    "plt.figure(figsize = (15, 7))\n",
    "df.groupby(['restaurant_name'])['cost_of_the_order'].sum().sort_values(ascending = False).head(14)"
   ]
  },
  {
   "cell_type": "markdown",
   "metadata": {
    "id": "e7qHwKUom6vE"
   },
   "source": [
    "#### Observations:\n",
    "\n",
    "* The above 14 restaurants are generating more than 500 dollars revenue.\n"
   ]
  },
  {
   "cell_type": "markdown",
   "metadata": {
    "id": "VceRC04Nm6vF"
   },
   "source": [
    "#### Rating vs Delivery time"
   ]
  },
  {
   "cell_type": "code",
   "execution_count": 33,
   "metadata": {
    "colab": {
     "base_uri": "https://localhost:8080/"
    },
    "executionInfo": {
     "elapsed": 17,
     "status": "ok",
     "timestamp": 1637158308722,
     "user": {
      "displayName": "Anwesha Bhattacharya",
      "photoUrl": "https://lh3.googleusercontent.com/a-/AOh14GidTKjkFKBj5Qerh8eg7jtsm7N4MJP57fek_GIM=s64",
      "userId": "14255337432980175263"
     },
     "user_tz": -330
    },
    "id": "5eT2D-VVm6vF",
    "outputId": "834059d2-c450-43e1-fabf-a3faeb05f539"
   },
   "outputs": [
    {
     "data": {
      "image/png": "[encoded data removed]",
      "text/plain": [
       "<Figure size 720x360 with 1 Axes>"
      ]
     },
     "metadata": {
      "needs_background": "light"
     },
     "output_type": "display_data"
    }
   ],
   "source": [
    "# Relationship between rating and delivery time\n",
    "plt.figure(figsize=(10, 5))\n",
    "df.rating = df.rating.astype('category')\n",
    "\n",
    "sns.pointplot(x = 'rating', y = 'delivery_time', data = df)\n",
    "plt.show()"
   ]
  },
  {
   "cell_type": "markdown",
   "metadata": {
    "id": "dloWP1evm6vF"
   },
   "source": [
    "#### Observations:\n",
    "\n",
    "* It is possible that delivery time plays a role in the low-rating of the orders.\n"
   ]
  },
  {
   "cell_type": "markdown",
   "metadata": {
    "id": "bEHKQDvWm6vG"
   },
   "source": [
    "#### Rating vs Food preparation time"
   ]
  },
  {
   "cell_type": "code",
   "execution_count": 34,
   "metadata": {
    "colab": {
     "base_uri": "https://localhost:8080/"
    },
    "executionInfo": {
     "elapsed": 17,
     "status": "ok",
     "timestamp": 1637158308722,
     "user": {
      "displayName": "Anwesha Bhattacharya",
      "photoUrl": "https://lh3.googleusercontent.com/a-/AOh14GidTKjkFKBj5Qerh8eg7jtsm7N4MJP57fek_GIM=s64",
      "userId": "14255337432980175263"
     },
     "user_tz": -330
    },
    "id": "mUykbWRTm6vG",
    "outputId": "66c672c6-1801-464d-e754-aec8fc75825b"
   },
   "outputs": [
    {
     "data": {
      "image/png": "[encoded data removed]",
      "text/plain": [
       "<Figure size 720x360 with 1 Axes>"
      ]
     },
     "metadata": {
      "needs_background": "light"
     },
     "output_type": "display_data"
    }
   ],
   "source": [
    "# Relationship between rating and food preparation time\n",
    "plt.figure(figsize=(10, 5))\n",
    "sns.pointplot(x = 'rating', y = 'food_preparation_time', data = df)\n",
    "plt.show()"
   ]
  },
  {
   "cell_type": "markdown",
   "metadata": {
    "id": "UsQeYjenm6vG"
   },
   "source": [
    "#### Observations:\n",
    "\n",
    "* It seems that food preparation time does not play a role in the low-rating of the orders.\n"
   ]
  },
  {
   "cell_type": "markdown",
   "metadata": {
    "id": "oc6bS5UAm6vH"
   },
   "source": [
    "#### Rating vs Cost of the order"
   ]
  },
  {
   "cell_type": "code",
   "execution_count": 35,
   "metadata": {
    "colab": {
     "base_uri": "https://localhost:8080/"
    },
    "executionInfo": {
     "elapsed": 1372,
     "status": "ok",
     "timestamp": 1637158310078,
     "user": {
      "displayName": "Anwesha Bhattacharya",
      "photoUrl": "https://lh3.googleusercontent.com/a-/AOh14GidTKjkFKBj5Qerh8eg7jtsm7N4MJP57fek_GIM=s64",
      "userId": "14255337432980175263"
     },
     "user_tz": -330
    },
    "id": "WGzWG6jjm6vH",
    "outputId": "8d33495d-e5e0-4c83-a24c-65b3ec115c43"
   },
   "outputs": [
    {
     "data": {
      "image/png": "[encoded data removed]",
      "text/plain": [
       "<Figure size 1080x504 with 1 Axes>"
      ]
     },
     "metadata": {
      "needs_background": "light"
     },
     "output_type": "display_data"
    }
   ],
   "source": [
    "# Relationship between rating and cost of the order\n",
    "plt.figure(figsize=(15, 7))\n",
    "sns.pointplot(x = 'rating', y = 'cost_of_the_order', data = df)\n",
    "plt.show()"
   ]
  },
  {
   "cell_type": "markdown",
   "metadata": {
    "id": "3WkJdR5Mm6vH"
   },
   "source": [
    "#### Observations\n",
    "\n",
    "* It seems that high-cost orders have been rated well and low-cost orders have not been rated."
   ]
  },
  {
   "cell_type": "markdown",
   "metadata": {
    "id": "968jLoqLm6vI"
   },
   "source": [
    "#### Correlation among variables"
   ]
  },
  {
   "cell_type": "code",
   "execution_count": 36,
   "metadata": {
    "colab": {
     "base_uri": "https://localhost:8080/",
     "height": 433
    },
    "executionInfo": {
     "elapsed": 18,
     "status": "ok",
     "timestamp": 1637158310079,
     "user": {
      "displayName": "Anwesha Bhattacharya",
      "photoUrl": "https://lh3.googleusercontent.com/a-/AOh14GidTKjkFKBj5Qerh8eg7jtsm7N4MJP57fek_GIM=s64",
      "userId": "14255337432980175263"
     },
     "user_tz": -330
    },
    "id": "Lj-g5W8Jm6vI",
    "outputId": "3c072052-ec56-4a49-ff28-3bf8c2c0d4a5"
   },
   "outputs": [
    {
     "data": {
      "image/png": "[encoded data removed]",
      "text/plain": [
       "<Figure size 1080x504 with 2 Axes>"
      ]
     },
     "metadata": {
      "needs_background": "light"
     },
     "output_type": "display_data"
    }
   ],
   "source": [
    "\n",
    "# plot the heatmap \n",
    "col_list = ['cost_of_the_order', 'food_preparation_time', 'delivery_time']\n",
    "plt.figure(figsize=(15, 7))\n",
    "sns.heatmap(df[col_list].corr(), annot=True, vmin=-1, vmax=1, fmt=\".2f\", cmap=\"Spectral\")\n",
    "plt.show()\n",
    "\n"
   ]
  },
  {
   "cell_type": "markdown",
   "metadata": {
    "id": "ywDKtXImm6vJ"
   },
   "source": [
    "#### Observations:\n",
    "\n",
    "* There is no correlation between cost of the order, delivery time and food preparation time.\n"
   ]
  },
  {
   "cell_type": "markdown",
   "metadata": {
    "id": "X3GM46mSm6vJ"
   },
   "source": [
    "### **Question 13:** The company wants to provide a promotional offer in the advertisement of the restaurants. The condition to get the offer is that the restaurants must have a rating count of more than 50 and the average rating should be greater than 4. Find the restaurants fulfilling the criteria to get the promotional offer. [3 marks]"
   ]
  },
  {
   "cell_type": "code",
   "execution_count": 37,
   "metadata": {
    "colab": {
     "base_uri": "https://localhost:8080/"
    },
    "executionInfo": {
     "elapsed": 16,
     "status": "ok",
     "timestamp": 1637158310079,
     "user": {
      "displayName": "Anwesha Bhattacharya",
      "photoUrl": "https://lh3.googleusercontent.com/a-/AOh14GidTKjkFKBj5Qerh8eg7jtsm7N4MJP57fek_GIM=s64",
      "userId": "14255337432980175263"
     },
     "user_tz": -330
    },
    "id": "UatGdOjSm6vJ",
    "outputId": "85652c07-338d-4ed6-86a3-c7b4ba6cfdf3"
   },
   "outputs": [
    {
     "data": {
      "text/html": [
       "<div>\n",
       "<style scoped>\n",
       "    .dataframe tbody tr th:only-of-type {\n",
       "        vertical-align: middle;\n",
       "    }\n",
       "\n",
       "    .dataframe tbody tr th {\n",
       "        vertical-align: top;\n",
       "    }\n",
       "\n",
       "    .dataframe thead th {\n",
       "        text-align: right;\n",
       "    }\n",
       "</style>\n",
       "<table border=\"1\" class=\"dataframe\">\n",
       "  <thead>\n",
       "    <tr style=\"text-align: right;\">\n",
       "      <th></th>\n",
       "      <th>restaurant_name</th>\n",
       "      <th>rating</th>\n",
       "    </tr>\n",
       "  </thead>\n",
       "  <tbody>\n",
       "    <tr>\n",
       "      <th>0</th>\n",
       "      <td>Shake Shack</td>\n",
       "      <td>133</td>\n",
       "    </tr>\n",
       "    <tr>\n",
       "      <th>1</th>\n",
       "      <td>The Meatball Shop</td>\n",
       "      <td>84</td>\n",
       "    </tr>\n",
       "    <tr>\n",
       "      <th>2</th>\n",
       "      <td>Blue Ribbon Sushi</td>\n",
       "      <td>73</td>\n",
       "    </tr>\n",
       "    <tr>\n",
       "      <th>3</th>\n",
       "      <td>Blue Ribbon Fried Chicken</td>\n",
       "      <td>64</td>\n",
       "    </tr>\n",
       "    <tr>\n",
       "      <th>4</th>\n",
       "      <td>RedFarm Broadway</td>\n",
       "      <td>41</td>\n",
       "    </tr>\n",
       "  </tbody>\n",
       "</table>\n",
       "</div>"
      ],
      "text/plain": [
       "             restaurant_name  rating\n",
       "0                Shake Shack     133\n",
       "1          The Meatball Shop      84\n",
       "2          Blue Ribbon Sushi      73\n",
       "3  Blue Ribbon Fried Chicken      64\n",
       "4           RedFarm Broadway      41"
      ]
     },
     "execution_count": 37,
     "metadata": {},
     "output_type": "execute_result"
    }
   ],
   "source": [
    "# filter the rated restaurants\n",
    "df_rated = df[df['rating'] != 'Not given'].copy()\n",
    "df_rated['rating'] = df_rated['rating'].astype('object')\n",
    "\n",
    "# convert rating column from object to integer\n",
    "df_rated['rating'] = df_rated['rating'].astype('int')\n",
    "\n",
    "# create a dataframe that contains the restaurant names with their rating counts\n",
    "df_rating_count = df_rated.groupby(['restaurant_name'])['rating'].count().sort_values(ascending = False).reset_index()\n",
    "df_rating_count.head()"
   ]
  },
  {
   "cell_type": "code",
   "execution_count": 38,
   "metadata": {
    "colab": {
     "base_uri": "https://localhost:8080/"
    },
    "executionInfo": {
     "elapsed": 16,
     "status": "ok",
     "timestamp": 1637158310080,
     "user": {
      "displayName": "Anwesha Bhattacharya",
      "photoUrl": "https://lh3.googleusercontent.com/a-/AOh14GidTKjkFKBj5Qerh8eg7jtsm7N4MJP57fek_GIM=s64",
      "userId": "14255337432980175263"
     },
     "user_tz": -330
    },
    "id": "6zBphhRjm6vK",
    "outputId": "c57a9e7e-eb4c-4e0a-9103-3ef18e97e6de"
   },
   "outputs": [
    {
     "data": {
      "text/html": [
       "<div>\n",
       "<style scoped>\n",
       "    .dataframe tbody tr th:only-of-type {\n",
       "        vertical-align: middle;\n",
       "    }\n",
       "\n",
       "    .dataframe tbody tr th {\n",
       "        vertical-align: top;\n",
       "    }\n",
       "\n",
       "    .dataframe thead th {\n",
       "        text-align: right;\n",
       "    }\n",
       "</style>\n",
       "<table border=\"1\" class=\"dataframe\">\n",
       "  <thead>\n",
       "    <tr style=\"text-align: right;\">\n",
       "      <th></th>\n",
       "      <th>restaurant_name</th>\n",
       "      <th>rating</th>\n",
       "    </tr>\n",
       "  </thead>\n",
       "  <tbody>\n",
       "    <tr>\n",
       "      <th>0</th>\n",
       "      <td>The Meatball Shop</td>\n",
       "      <td>4.511905</td>\n",
       "    </tr>\n",
       "    <tr>\n",
       "      <th>1</th>\n",
       "      <td>Blue Ribbon Fried Chicken</td>\n",
       "      <td>4.328125</td>\n",
       "    </tr>\n",
       "    <tr>\n",
       "      <th>2</th>\n",
       "      <td>Shake Shack</td>\n",
       "      <td>4.278195</td>\n",
       "    </tr>\n",
       "    <tr>\n",
       "      <th>3</th>\n",
       "      <td>Blue Ribbon Sushi</td>\n",
       "      <td>4.219178</td>\n",
       "    </tr>\n",
       "  </tbody>\n",
       "</table>\n",
       "</div>"
      ],
      "text/plain": [
       "             restaurant_name    rating\n",
       "0          The Meatball Shop  4.511905\n",
       "1  Blue Ribbon Fried Chicken  4.328125\n",
       "2                Shake Shack  4.278195\n",
       "3          Blue Ribbon Sushi  4.219178"
      ]
     },
     "execution_count": 38,
     "metadata": {},
     "output_type": "execute_result"
    }
   ],
   "source": [
    "# get the restaurant names that have rating count more than 50\n",
    "rest_names = df_rating_count[df_rating_count['rating'] > 50]['restaurant_name']\n",
    "\n",
    "# filter to get the data of restaurants that have rating count more than 50\n",
    "df_mean_4 = df_rated[df_rated['restaurant_name'].isin(rest_names)].copy()\n",
    "\n",
    "# find the mean rating of the restaurants\n",
    "df_mean_4.groupby(df_mean_4['restaurant_name'].cat.remove_unused_categories())['rating'].mean().sort_values(ascending = False).reset_index()"
   ]
  },
  {
   "cell_type": "markdown",
   "metadata": {
    "id": "HVRakkvim6vK"
   },
   "source": [
    "#### Observations:\n",
    "\n",
    "* The restaurants fulfilling the criteria to get the promotional offer are: **'The Meatball Shop', 'Blue Ribbon Fried Chicken',  'Shake Shack' and 'Blue Ribbon Sushi'**.\n"
   ]
  },
  {
   "cell_type": "markdown",
   "metadata": {
    "id": "DHn1K-VHm6vK"
   },
   "source": [
    "### **Question 14:** The company charges the restaurant 25% on the orders having cost greater than 20 dollars and 15% on the orders having cost greater than 5 dollars. Find the net revenue generated by the company across all orders. [3 marks]"
   ]
  },
  {
   "cell_type": "code",
   "execution_count": 39,
   "metadata": {
    "colab": {
     "base_uri": "https://localhost:8080/",
     "height": 258
    },
    "executionInfo": {
     "elapsed": 15,
     "status": "ok",
     "timestamp": 1637158310080,
     "user": {
      "displayName": "Anwesha Bhattacharya",
      "photoUrl": "https://lh3.googleusercontent.com/a-/AOh14GidTKjkFKBj5Qerh8eg7jtsm7N4MJP57fek_GIM=s64",
      "userId": "14255337432980175263"
     },
     "user_tz": -330
    },
    "id": "7FlycKaom6vL",
    "outputId": "d0a88818-fda7-480c-d6e2-6acde117a399"
   },
   "outputs": [
    {
     "data": {
      "text/html": [
       "<div>\n",
       "<style scoped>\n",
       "    .dataframe tbody tr th:only-of-type {\n",
       "        vertical-align: middle;\n",
       "    }\n",
       "\n",
       "    .dataframe tbody tr th {\n",
       "        vertical-align: top;\n",
       "    }\n",
       "\n",
       "    .dataframe thead th {\n",
       "        text-align: right;\n",
       "    }\n",
       "</style>\n",
       "<table border=\"1\" class=\"dataframe\">\n",
       "  <thead>\n",
       "    <tr style=\"text-align: right;\">\n",
       "      <th></th>\n",
       "      <th>order_id</th>\n",
       "      <th>customer_id</th>\n",
       "      <th>restaurant_name</th>\n",
       "      <th>cuisine_type</th>\n",
       "      <th>cost_of_the_order</th>\n",
       "      <th>day_of_the_week</th>\n",
       "      <th>rating</th>\n",
       "      <th>food_preparation_time</th>\n",
       "      <th>delivery_time</th>\n",
       "      <th>Revenue</th>\n",
       "    </tr>\n",
       "  </thead>\n",
       "  <tbody>\n",
       "    <tr>\n",
       "      <th>0</th>\n",
       "      <td>1477147</td>\n",
       "      <td>337525</td>\n",
       "      <td>Hangawi</td>\n",
       "      <td>Korean</td>\n",
       "      <td>30.75</td>\n",
       "      <td>Weekend</td>\n",
       "      <td>Not given</td>\n",
       "      <td>25</td>\n",
       "      <td>20</td>\n",
       "      <td>7.6875</td>\n",
       "    </tr>\n",
       "    <tr>\n",
       "      <th>1</th>\n",
       "      <td>1477685</td>\n",
       "      <td>358141</td>\n",
       "      <td>Blue Ribbon Sushi Izakaya</td>\n",
       "      <td>Japanese</td>\n",
       "      <td>12.08</td>\n",
       "      <td>Weekend</td>\n",
       "      <td>Not given</td>\n",
       "      <td>25</td>\n",
       "      <td>23</td>\n",
       "      <td>1.8120</td>\n",
       "    </tr>\n",
       "    <tr>\n",
       "      <th>2</th>\n",
       "      <td>1477070</td>\n",
       "      <td>66393</td>\n",
       "      <td>Cafe Habana</td>\n",
       "      <td>Mexican</td>\n",
       "      <td>12.23</td>\n",
       "      <td>Weekday</td>\n",
       "      <td>5</td>\n",
       "      <td>23</td>\n",
       "      <td>28</td>\n",
       "      <td>1.8345</td>\n",
       "    </tr>\n",
       "    <tr>\n",
       "      <th>3</th>\n",
       "      <td>1477334</td>\n",
       "      <td>106968</td>\n",
       "      <td>Blue Ribbon Fried Chicken</td>\n",
       "      <td>American</td>\n",
       "      <td>29.20</td>\n",
       "      <td>Weekend</td>\n",
       "      <td>3</td>\n",
       "      <td>25</td>\n",
       "      <td>15</td>\n",
       "      <td>7.3000</td>\n",
       "    </tr>\n",
       "    <tr>\n",
       "      <th>4</th>\n",
       "      <td>1478249</td>\n",
       "      <td>76942</td>\n",
       "      <td>Dirty Bird to Go</td>\n",
       "      <td>American</td>\n",
       "      <td>11.59</td>\n",
       "      <td>Weekday</td>\n",
       "      <td>4</td>\n",
       "      <td>25</td>\n",
       "      <td>24</td>\n",
       "      <td>1.7385</td>\n",
       "    </tr>\n",
       "  </tbody>\n",
       "</table>\n",
       "</div>"
      ],
      "text/plain": [
       "   order_id  customer_id            restaurant_name cuisine_type  \\\n",
       "0   1477147       337525                    Hangawi       Korean   \n",
       "1   1477685       358141  Blue Ribbon Sushi Izakaya     Japanese   \n",
       "2   1477070        66393                Cafe Habana      Mexican   \n",
       "3   1477334       106968  Blue Ribbon Fried Chicken     American   \n",
       "4   1478249        76942           Dirty Bird to Go     American   \n",
       "\n",
       "   cost_of_the_order day_of_the_week     rating  food_preparation_time  \\\n",
       "0              30.75         Weekend  Not given                     25   \n",
       "1              12.08         Weekend  Not given                     25   \n",
       "2              12.23         Weekday          5                     23   \n",
       "3              29.20         Weekend          3                     25   \n",
       "4              11.59         Weekday          4                     25   \n",
       "\n",
       "   delivery_time  Revenue  \n",
       "0             20   7.6875  \n",
       "1             23   1.8120  \n",
       "2             28   1.8345  \n",
       "3             15   7.3000  \n",
       "4             24   1.7385  "
      ]
     },
     "execution_count": 39,
     "metadata": {},
     "output_type": "execute_result"
    }
   ],
   "source": [
    "#function to determine the net revenue\n",
    "def compute_rev(x):\n",
    "    if x > 20:\n",
    "        return x*0.25\n",
    "    elif x > 5:\n",
    "        return x*0.15\n",
    "    else:\n",
    "        return x*0\n",
    "\n",
    "df['Revenue'] = df['cost_of_the_order'].apply(compute_rev)\n",
    "df.head()"
   ]
  },
  {
   "cell_type": "code",
   "execution_count": 40,
   "metadata": {
    "colab": {
     "base_uri": "https://localhost:8080/"
    },
    "executionInfo": {
     "elapsed": 15,
     "status": "ok",
     "timestamp": 1637158310080,
     "user": {
      "displayName": "Anwesha Bhattacharya",
      "photoUrl": "https://lh3.googleusercontent.com/a-/AOh14GidTKjkFKBj5Qerh8eg7jtsm7N4MJP57fek_GIM=s64",
      "userId": "14255337432980175263"
     },
     "user_tz": -330
    },
    "id": "ZW_CQX9gOAyl",
    "outputId": "061d5fe5-6595-4882-ef16-385495a54b4b"
   },
   "outputs": [
    {
     "name": "stdout",
     "output_type": "stream",
     "text": [
      "The net revenue is around 6166.3 dollars\n"
     ]
    }
   ],
   "source": [
    "# get the total revenue and print it\n",
    "total_rev = df['Revenue'].sum()\n",
    "print('The net revenue is around', round(total_rev, 2), 'dollars')"
   ]
  },
  {
   "cell_type": "markdown",
   "metadata": {
    "id": "6wCHV0iCm6vL"
   },
   "source": [
    "#### Observations:\n",
    "\n",
    "* The net revenue generated on all the orders given in the dataset is around 6166.3 dollars.\n"
   ]
  },
  {
   "cell_type": "markdown",
   "metadata": {
    "id": "WB-qDZ9Nm6vL"
   },
   "source": [
    "### **Question 15:** The company wants to analyze the total time required to deliver the food. What percentage of orders take more than 60 minutes to get delivered from the time the order is placed? (The food has to be prepared and then delivered.) [2 marks]"
   ]
  },
  {
   "cell_type": "code",
   "execution_count": 41,
   "metadata": {
    "colab": {
     "base_uri": "https://localhost:8080/"
    },
    "executionInfo": {
     "elapsed": 14,
     "status": "ok",
     "timestamp": 1637158310081,
     "user": {
      "displayName": "Anwesha Bhattacharya",
      "photoUrl": "https://lh3.googleusercontent.com/a-/AOh14GidTKjkFKBj5Qerh8eg7jtsm7N4MJP57fek_GIM=s64",
      "userId": "14255337432980175263"
     },
     "user_tz": -330
    },
    "id": "SU6EjKtDm6vM",
    "outputId": "1a25f1c2-fc92-4ac1-a5e5-89c13daf829e"
   },
   "outputs": [
    {
     "name": "stdout",
     "output_type": "stream",
     "text": [
      "The percentage of orders that have more than 60 minutes of total delivery time is 10.54 %\n"
     ]
    }
   ],
   "source": [
    "# add a new column to the dataframe df to store the total delivery time\n",
    "df['total_time'] = df['food_preparation_time'] + df['delivery_time']\n",
    "\n",
    "# find the percentage of orders that have more than 60 minutes of total delivery time\n",
    "print ('The percentage of orders that have more than 60 minutes of total delivery time is',\n",
    "       round(df[df['total_time'] > 60].shape[0] / df.shape[0] * 100, 2),'%')"
   ]
  },
  {
   "cell_type": "markdown",
   "metadata": {
    "id": "vh2UixSBm6vM"
   },
   "source": [
    "#### Observations:\n",
    "\n",
    "* Approximately 10.54 % of the total orders have more than 60 minutes of total delivery time.\n"
   ]
  },
  {
   "cell_type": "markdown",
   "metadata": {
    "id": "hFz7TKR6m6vN"
   },
   "source": [
    "### **Question 16:** The company wants to analyze the delivery time of the orders on weekdays and weekends. How does the mean delivery time vary during weekdays and weekends? [2 marks]"
   ]
  },
  {
   "cell_type": "code",
   "execution_count": 42,
   "metadata": {
    "colab": {
     "base_uri": "https://localhost:8080/"
    },
    "executionInfo": {
     "elapsed": 13,
     "status": "ok",
     "timestamp": 1637158310081,
     "user": {
      "displayName": "Anwesha Bhattacharya",
      "photoUrl": "https://lh3.googleusercontent.com/a-/AOh14GidTKjkFKBj5Qerh8eg7jtsm7N4MJP57fek_GIM=s64",
      "userId": "14255337432980175263"
     },
     "user_tz": -330
    },
    "id": "kwG-TzySm6vN",
    "outputId": "ff47d233-fbcf-4856-9482-c39b79b0c63f"
   },
   "outputs": [
    {
     "name": "stdout",
     "output_type": "stream",
     "text": [
      "The mean delivery time on weekdays is around 28 minutes\n",
      "The mean delivery time on weekends is around 22 minutes\n"
     ]
    }
   ],
   "source": [
    "# get the mean delivery time on weekdays and print it\n",
    "print('The mean delivery time on weekdays is around', \n",
    "      round(df[df['day_of_the_week'] == 'Weekday']['delivery_time'].mean()),\n",
    "     'minutes')\n",
    "\n",
    "# get the mean delivery time on weekends and print it\n",
    "print('The mean delivery time on weekends is around', \n",
    "      round(df[df['day_of_the_week'] == 'Weekend']['delivery_time'].mean()),\n",
    "     'minutes')"
   ]
  },
  {
   "cell_type": "markdown",
   "metadata": {
    "id": "RkMZe420m6vN"
   },
   "source": [
    "#### Observations:\n",
    "\n",
    "* The mean delivery time on weekdays is around 28 minutes whereas the mean delivery time on weekends is around 22 minutes.\n",
    "\n",
    "* This could be due to the dip of traffic volume in the weekends."
   ]
  },
  {
   "cell_type": "markdown",
   "metadata": {
    "id": "WrYKHnjgm6vO"
   },
   "source": [
    "### Conclusion and Recommendations"
   ]
  },
  {
   "cell_type": "markdown",
   "metadata": {
    "id": "B_EY01hXm6vO"
   },
   "source": [
    "### **Question 17:** What are your conclusions from the analysis? What recommendations would you like to share to help improve the business? (You can use cuisine type and feedback ratings to drive your business recommendations.) [6 marks]"
   ]
  },
  {
   "cell_type": "markdown",
   "metadata": {
    "id": "0UI4QqLJm6vO"
   },
   "source": [
    "### Conclusions:\n",
    "\n",
    "* Around 80% of the orders are for American, Japanese, Italian and Chinese cuisines. Thus, it seems that these cuisines are quite popular among customers of FoodHub. \n",
    "* Shake Shack is the most popular restaurant that has received the highest number of orders.\n",
    "* Order volumes increase on the weekends compared to the weekdays.\n",
    "* Delivery time over the weekends is less compared to the weekdays. This could be due to the dip in traffic volume over the weekends.\n",
    "* Around 39% of the orders have not been rated."
   ]
  },
  {
   "cell_type": "markdown",
   "metadata": {
    "id": "fArKZWaRm6vO"
   },
   "source": [
    "### Business Recommendations:\n",
    "\n",
    "* FoodHub should integrate with restaurants serving American, Japanese, Italian and Chinese cuisines as these cuisines are very popular among FoodHub customers. \n",
    "\n",
    "* FoodHub should provide promotional offers to top-rated popular restaurants like Shake Shack that serve most of the orders. \n",
    "\n",
    "* As the order volume is high during the weekends, more delivery persons should be employed during the weekends to ensure timely delivery of the order. Weekend promotional offers should be given to the customers to increase the food orders during weekends.\n",
    "\n",
    "* Customer Rating is a very important factor to gauge customer satisfaction. The company should investigate the reason behind the low count of ratings. They can redesign the rating page in the app and make it more interactive to lure the customers to rate the order. \n",
    "\n",
    "* Around 11% of the total orders have more than 60 minutes of total delivery time. FoodHub should try to minimize such instances in order to avoid customer dissatisfaction. They can provide some reward to the punctual delivery persons."
   ]
  },
  {
   "cell_type": "markdown",
   "metadata": {},
   "source": [
    "# Extra Discussion\n",
    "Are the expensive orders from some expensive resturant or multiple quantities of food in one order from the same resturants?"
   ]
  },
  {
   "cell_type": "code",
   "execution_count": 43,
   "metadata": {},
   "outputs": [],
   "source": [
    "df['price_group'] = pd.cut(df.cost_of_the_order, bins=[0,18,26,36],labels=['Cheap', 'Economic', 'Expensive'])"
   ]
  },
  {
   "cell_type": "code",
   "execution_count": 44,
   "metadata": {},
   "outputs": [
    {
     "data": {
      "text/plain": [
       "<AxesSubplot:xlabel='price_group', ylabel='cost_of_the_order'>"
      ]
     },
     "execution_count": 44,
     "metadata": {},
     "output_type": "execute_result"
    },
    {
     "data": {
      "image/png": "[encoded data removed]",
      "text/plain": [
       "<Figure size 432x288 with 1 Axes>"
      ]
     },
     "metadata": {
      "needs_background": "light"
     },
     "output_type": "display_data"
    }
   ],
   "source": [
    "sns.boxplot(data=df, x='price_group', y='cost_of_the_order')"
   ]
  },
  {
   "cell_type": "code",
   "execution_count": 45,
   "metadata": {},
   "outputs": [],
   "source": [
    "#df.groupby(['price_group','restaurant_name'])[['order_id']].count()\n",
    "price_groups = df.groupby(['price_group'])"
   ]
  },
  {
   "cell_type": "code",
   "execution_count": 46,
   "metadata": {},
   "outputs": [
    {
     "data": {
      "text/html": [
       "<div>\n",
       "<style scoped>\n",
       "    .dataframe tbody tr th:only-of-type {\n",
       "        vertical-align: middle;\n",
       "    }\n",
       "\n",
       "    .dataframe tbody tr th {\n",
       "        vertical-align: top;\n",
       "    }\n",
       "\n",
       "    .dataframe thead th {\n",
       "        text-align: right;\n",
       "    }\n",
       "</style>\n",
       "<table border=\"1\" class=\"dataframe\">\n",
       "  <thead>\n",
       "    <tr style=\"text-align: right;\">\n",
       "      <th></th>\n",
       "      <th>restaurant_name</th>\n",
       "      <th>order_id</th>\n",
       "    </tr>\n",
       "  </thead>\n",
       "  <tbody>\n",
       "    <tr>\n",
       "      <th>0</th>\n",
       "      <td>Shake Shack</td>\n",
       "      <td>144</td>\n",
       "    </tr>\n",
       "    <tr>\n",
       "      <th>1</th>\n",
       "      <td>The Meatball Shop</td>\n",
       "      <td>87</td>\n",
       "    </tr>\n",
       "    <tr>\n",
       "      <th>2</th>\n",
       "      <td>Blue Ribbon Sushi</td>\n",
       "      <td>83</td>\n",
       "    </tr>\n",
       "    <tr>\n",
       "      <th>3</th>\n",
       "      <td>Blue Ribbon Fried Chicken</td>\n",
       "      <td>58</td>\n",
       "    </tr>\n",
       "    <tr>\n",
       "      <th>4</th>\n",
       "      <td>Parm</td>\n",
       "      <td>44</td>\n",
       "    </tr>\n",
       "    <tr>\n",
       "      <th>5</th>\n",
       "      <td>RedFarm Broadway</td>\n",
       "      <td>37</td>\n",
       "    </tr>\n",
       "    <tr>\n",
       "      <th>6</th>\n",
       "      <td>RedFarm Hudson</td>\n",
       "      <td>36</td>\n",
       "    </tr>\n",
       "    <tr>\n",
       "      <th>7</th>\n",
       "      <td>Blue Ribbon Sushi Bar &amp; Grill</td>\n",
       "      <td>34</td>\n",
       "    </tr>\n",
       "    <tr>\n",
       "      <th>8</th>\n",
       "      <td>TAO</td>\n",
       "      <td>32</td>\n",
       "    </tr>\n",
       "    <tr>\n",
       "      <th>9</th>\n",
       "      <td>Nobu Next Door</td>\n",
       "      <td>32</td>\n",
       "    </tr>\n",
       "  </tbody>\n",
       "</table>\n",
       "</div>"
      ],
      "text/plain": [
       "                 restaurant_name  order_id\n",
       "0                    Shake Shack       144\n",
       "1              The Meatball Shop        87\n",
       "2              Blue Ribbon Sushi        83\n",
       "3      Blue Ribbon Fried Chicken        58\n",
       "4                           Parm        44\n",
       "5               RedFarm Broadway        37\n",
       "6                 RedFarm Hudson        36\n",
       "7  Blue Ribbon Sushi Bar & Grill        34\n",
       "8                            TAO        32\n",
       "9                 Nobu Next Door        32"
      ]
     },
     "execution_count": 46,
     "metadata": {},
     "output_type": "execute_result"
    }
   ],
   "source": [
    "cheap_res = price_groups.get_group('Cheap').groupby('restaurant_name')['order_id'].count().sort_values(ascending=False).head(10).reset_index()\n",
    "cheap_res"
   ]
  },
  {
   "cell_type": "code",
   "execution_count": 47,
   "metadata": {},
   "outputs": [
    {
     "data": {
      "text/html": [
       "<div>\n",
       "<style scoped>\n",
       "    .dataframe tbody tr th:only-of-type {\n",
       "        vertical-align: middle;\n",
       "    }\n",
       "\n",
       "    .dataframe tbody tr th {\n",
       "        vertical-align: top;\n",
       "    }\n",
       "\n",
       "    .dataframe thead th {\n",
       "        text-align: right;\n",
       "    }\n",
       "</style>\n",
       "<table border=\"1\" class=\"dataframe\">\n",
       "  <thead>\n",
       "    <tr style=\"text-align: right;\">\n",
       "      <th></th>\n",
       "      <th>restaurant_name</th>\n",
       "      <th>order_id</th>\n",
       "    </tr>\n",
       "  </thead>\n",
       "  <tbody>\n",
       "    <tr>\n",
       "      <th>0</th>\n",
       "      <td>Shake Shack</td>\n",
       "      <td>50</td>\n",
       "    </tr>\n",
       "    <tr>\n",
       "      <th>1</th>\n",
       "      <td>The Meatball Shop</td>\n",
       "      <td>28</td>\n",
       "    </tr>\n",
       "    <tr>\n",
       "      <th>2</th>\n",
       "      <td>Blue Ribbon Sushi</td>\n",
       "      <td>24</td>\n",
       "    </tr>\n",
       "    <tr>\n",
       "      <th>3</th>\n",
       "      <td>Blue Ribbon Fried Chicken</td>\n",
       "      <td>21</td>\n",
       "    </tr>\n",
       "    <tr>\n",
       "      <th>4</th>\n",
       "      <td>Parm</td>\n",
       "      <td>16</td>\n",
       "    </tr>\n",
       "    <tr>\n",
       "      <th>5</th>\n",
       "      <td>RedFarm Broadway</td>\n",
       "      <td>16</td>\n",
       "    </tr>\n",
       "    <tr>\n",
       "      <th>6</th>\n",
       "      <td>Rubirosa</td>\n",
       "      <td>12</td>\n",
       "    </tr>\n",
       "    <tr>\n",
       "      <th>7</th>\n",
       "      <td>TAO</td>\n",
       "      <td>11</td>\n",
       "    </tr>\n",
       "    <tr>\n",
       "      <th>8</th>\n",
       "      <td>RedFarm Hudson</td>\n",
       "      <td>10</td>\n",
       "    </tr>\n",
       "    <tr>\n",
       "      <th>9</th>\n",
       "      <td>Sushi of Gari 46</td>\n",
       "      <td>8</td>\n",
       "    </tr>\n",
       "  </tbody>\n",
       "</table>\n",
       "</div>"
      ],
      "text/plain": [
       "             restaurant_name  order_id\n",
       "0                Shake Shack        50\n",
       "1          The Meatball Shop        28\n",
       "2          Blue Ribbon Sushi        24\n",
       "3  Blue Ribbon Fried Chicken        21\n",
       "4                       Parm        16\n",
       "5           RedFarm Broadway        16\n",
       "6                   Rubirosa        12\n",
       "7                        TAO        11\n",
       "8             RedFarm Hudson        10\n",
       "9           Sushi of Gari 46         8"
      ]
     },
     "execution_count": 47,
     "metadata": {},
     "output_type": "execute_result"
    }
   ],
   "source": [
    "echon_res = price_groups.get_group('Economic').groupby('restaurant_name')['order_id'].count().sort_values(ascending=False).head(10).reset_index()\n",
    "echon_res"
   ]
  },
  {
   "cell_type": "code",
   "execution_count": 48,
   "metadata": {},
   "outputs": [
    {
     "data": {
      "text/html": [
       "<div>\n",
       "<style scoped>\n",
       "    .dataframe tbody tr th:only-of-type {\n",
       "        vertical-align: middle;\n",
       "    }\n",
       "\n",
       "    .dataframe tbody tr th {\n",
       "        vertical-align: top;\n",
       "    }\n",
       "\n",
       "    .dataframe thead th {\n",
       "        text-align: right;\n",
       "    }\n",
       "</style>\n",
       "<table border=\"1\" class=\"dataframe\">\n",
       "  <thead>\n",
       "    <tr style=\"text-align: right;\">\n",
       "      <th></th>\n",
       "      <th>restaurant_name</th>\n",
       "      <th>order_id</th>\n",
       "    </tr>\n",
       "  </thead>\n",
       "  <tbody>\n",
       "    <tr>\n",
       "      <th>0</th>\n",
       "      <td>Shake Shack</td>\n",
       "      <td>25</td>\n",
       "    </tr>\n",
       "    <tr>\n",
       "      <th>1</th>\n",
       "      <td>The Meatball Shop</td>\n",
       "      <td>17</td>\n",
       "    </tr>\n",
       "    <tr>\n",
       "      <th>2</th>\n",
       "      <td>Blue Ribbon Fried Chicken</td>\n",
       "      <td>17</td>\n",
       "    </tr>\n",
       "    <tr>\n",
       "      <th>3</th>\n",
       "      <td>Blue Ribbon Sushi</td>\n",
       "      <td>12</td>\n",
       "    </tr>\n",
       "    <tr>\n",
       "      <th>4</th>\n",
       "      <td>RedFarm Hudson</td>\n",
       "      <td>9</td>\n",
       "    </tr>\n",
       "    <tr>\n",
       "      <th>5</th>\n",
       "      <td>Han Dynasty</td>\n",
       "      <td>8</td>\n",
       "    </tr>\n",
       "    <tr>\n",
       "      <th>6</th>\n",
       "      <td>Chipotle Mexican Grill $1.99 Delivery</td>\n",
       "      <td>8</td>\n",
       "    </tr>\n",
       "    <tr>\n",
       "      <th>7</th>\n",
       "      <td>Parm</td>\n",
       "      <td>8</td>\n",
       "    </tr>\n",
       "    <tr>\n",
       "      <th>8</th>\n",
       "      <td>RedFarm Broadway</td>\n",
       "      <td>6</td>\n",
       "    </tr>\n",
       "    <tr>\n",
       "      <th>9</th>\n",
       "      <td>Sushi of Gari 46</td>\n",
       "      <td>6</td>\n",
       "    </tr>\n",
       "  </tbody>\n",
       "</table>\n",
       "</div>"
      ],
      "text/plain": [
       "                         restaurant_name  order_id\n",
       "0                            Shake Shack        25\n",
       "1                      The Meatball Shop        17\n",
       "2              Blue Ribbon Fried Chicken        17\n",
       "3                      Blue Ribbon Sushi        12\n",
       "4                         RedFarm Hudson         9\n",
       "5                            Han Dynasty         8\n",
       "6  Chipotle Mexican Grill $1.99 Delivery         8\n",
       "7                                   Parm         8\n",
       "8                       RedFarm Broadway         6\n",
       "9                       Sushi of Gari 46         6"
      ]
     },
     "execution_count": 48,
     "metadata": {},
     "output_type": "execute_result"
    }
   ],
   "source": [
    "exp_res = price_groups.get_group('Expensive').groupby('restaurant_name')['order_id'].count().sort_values(ascending=False).head(10).reset_index()\n",
    "exp_res"
   ]
  },
  {
   "cell_type": "code",
   "execution_count": 49,
   "metadata": {},
   "outputs": [
    {
     "data": {
      "image/png": "[encoded data removed]",
      "text/plain": [
       "<Figure size 720x432 with 1 Axes>"
      ]
     },
     "metadata": {
      "needs_background": "light"
     },
     "output_type": "display_data"
    }
   ],
   "source": [
    "plt.figure(figsize=(10,6))\n",
    "col = ['c','m','y']\n",
    "for j,i in enumerate([cheap_res, echon_res, exp_res]):\n",
    "    sns.barplot(data = i.astype('object'),y ='restaurant_name', x='order_id', color=col[j])\n",
    "    \n",
    "plt.show()"
   ]
  },
  {
   "cell_type": "code",
   "execution_count": null,
   "metadata": {},
   "outputs": [],
   "source": []
  }
 ],
 "metadata": {
  "colab": {
   "collapsed_sections": [
    "JW4_u6TLm6ub",
    "FI3wLN7Tm6ue",
    "qHHGTJ1Ym6ue",
    "sH5NPhRim6ug",
    "q14hu2PHm6uh",
    "xvu97iNnm6ul",
    "yzg6ATCym6um",
    "f7GPrL1Rm6um",
    "lob6SN0-m6um",
    "QxRmA1Dlm6uo",
    "bsH_wVFXm6uq",
    "9xxcztlUm6ur",
    "pZPTwJQOm6ut",
    "_YZnoTdBm6uu",
    "Dl9_86Kcm6uv",
    "xcvccdmom6uw",
    "S7ENUfnzm6ux",
    "ZJTahAixm6ux",
    "FRutqEonm6uy",
    "aWzztbuXm6uy",
    "Qv-nWX3Lm6uz",
    "ghzjGDa0m6u0",
    "WG1N1d_jm6u1",
    "RI6-QZoxm6u1",
    "SF_LiBinm6u2",
    "ZJuvXVbGm6u3",
    "nZ3bkcL1m6u3",
    "dJcMf-HIm6u4",
    "_bmflrvLm6u4",
    "PYWJ9hw4m6u5",
    "W2BffrGIm6u5",
    "HrtWQfSJm6u6",
    "kWzh3GtPm6u6",
    "GMlppFGum6u7",
    "PMaQdz6Cm6u7",
    "dFV83IYdm6u8",
    "XMSbZOrrm6u8",
    "mpFTCkb4m6u9",
    "-KDs6lf7m6u9",
    "jpuNjd2jm6u-",
    "hT-S0pZ1m6u-",
    "KcDUUrytm6u-",
    "apBaHr6cm6u_",
    "7uNdYNUQm6u_",
    "mHPdLK2mm6vA",
    "_S6guWjHm6vA",
    "Q_e0JW93m6vB",
    "qI-_5-_rm6vB",
    "e7qHwKUom6vE",
    "VceRC04Nm6vF",
    "dloWP1evm6vF",
    "bEHKQDvWm6vG",
    "UsQeYjenm6vG",
    "oc6bS5UAm6vH",
    "3WkJdR5Mm6vH",
    "968jLoqLm6vI",
    "ywDKtXImm6vJ",
    "X3GM46mSm6vJ",
    "HVRakkvim6vK",
    "DHn1K-VHm6vK",
    "6wCHV0iCm6vL",
    "WB-qDZ9Nm6vL",
    "vh2UixSBm6vM",
    "hFz7TKR6m6vN",
    "RkMZe420m6vN",
    "WrYKHnjgm6vO",
    "B_EY01hXm6vO",
    "0UI4QqLJm6vO",
    "fArKZWaRm6vO"
   ],
   "name": "solution_notebook_foodhub_project (1).ipynb",
   "provenance": []
  },
  "kernelspec": {
   "display_name": "Python 3 (ipykernel)",
   "language": "python",
   "name": "python3"
  },
  "language_info": {
   "codemirror_mode": {
    "name": "ipython",
    "version": 3
   },
   "file_extension": ".py",
   "mimetype": "text/x-python",
   "name": "python",
   "nbconvert_exporter": "python",
   "pygments_lexer": "ipython3",
   "version": "3.9.7"
  }
 },
 "nbformat": 4,
 "nbformat_minor": 1
}
